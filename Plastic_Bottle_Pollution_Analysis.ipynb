{
 "cells": [
  {
   "attachments": {},
   "cell_type": "markdown",
   "id": "2488ec81",
   "metadata": {},
   "source": [
    "## Overview/Introduction\n",
    "\n",
    "Welcome to the Plastic Bottle Pollution Analysis Project! This project aims to analyze and visualize the impact of plastic bottle pollution on a global scale. By exploring data related to bottle counts, bottle weight, and manufacturers, we aim to gain insights into the distribution and environmental impact of plastic bottles across different countries and regions. To facilitate data exploration and enhance understanding, we have developed an interactive dashboard that allows users to interact with the data through maps, graphs, and filters.\n",
    "\n"
   ]
  },
  {
   "attachments": {},
   "cell_type": "markdown",
   "id": "f4201e1c",
   "metadata": {},
   "source": [
    "## Problem Statement\n",
    "\n",
    "Plastic bottle pollution has become a significant environmental concern worldwide, posing threats to ecosystems, wildlife, and human health. Understanding the patterns and distribution of plastic bottle pollution is crucial for devising effective strategies to mitigate its impact. This project aims to address the need for comprehensive analysis and visualization of plastic bottle pollution data, enabling stakeholders to make informed decisions and take targeted actions to tackle this pressing issue.\n",
    "\n"
   ]
  },
  {
   "attachments": {},
   "cell_type": "markdown",
   "id": "06470ddf",
   "metadata": {},
   "source": [
    "## Objectives\n",
    "\n",
    "* Visualize the distribution of plastic bottle pollution worldwide through an interactive world map and bar graphs, showcasing the number of bottles, bottle count per capita, and bottle weight in each country.\n",
    "\n",
    "* Analyze the contribution of different manufacturers to plastic bottle pollution, identifying the top manufacturers based on the number of bottles and bottle weight. Explore the relationship between manufacturers and their impact on specific countries.\n",
    "\n",
    "* Investigate the bottle size groups and their prevalence in plastic bottle pollution. Identify the dominant bottle size groups and analyze their significance in the overall pollution landscape.\n",
    "\n",
    "* Develop a user-friendly dashboard that allows stakeholders to explore the data interactively, filter information based on specific criteria such as country or manufacturer, and gain insights into the scale and patterns of plastic bottle pollution.\n",
    "\n",
    "Through this project, we strive to provide valuable insights and a comprehensive understanding of plastic bottle pollution, empowering individuals, organizations, and policymakers to take actions towards a more sustainable and environmentally conscious future."
   ]
  },
  {
   "attachments": {},
   "cell_type": "markdown",
   "id": "bbcc4739",
   "metadata": {},
   "source": [
    "## Data Understanding\n",
    "The data was sourced from https://www.unwaste.io/data. It has 33007 rows and 10 columns.\n",
    "\n",
    "**Column descriptions**\n",
    "\n",
    "1. `product_barcode`: It is a unique identifier assigned to each product, usually in the form of a barcode. It serves as a reference for tracking and identifying a specific product.\n",
    "\n",
    "2. `product_label`: It refers to the label or packaging of a product. It typically contains information such as product name, branding, nutritional facts, ingredients, and other relevant details.\n",
    "\n",
    "3. `product_size`: It represents the size or volume of the product. In the context of plastic bottles, it could indicate the capacity or volume of the bottle, such as the amount of liquid it can hold.\n",
    "\n",
    "4. `brand_name`: It refers to the name or trademark associated with a particular product. It helps identify and distinguish products from different manufacturers or companies.\n",
    "\n",
    "5. `manufacturer_country`: It represents the country where the manufacturer of the product is located. It indicates the origin or location of the company responsible for producing or manufacturing the product.\n",
    "\n",
    "6. `manufacturer_name`: It denotes the name of the manufacturer or company that produces or manufactures the product. It helps identify the entity responsible for creating the product.\n",
    "\n",
    "7. `scan_country`: It represents the country where the scanning or data collection of the product took place. It indicates the geographical location where the product information was captured or recorded.\n",
    "\n",
    "8. `data_url`: It refers to the URL or web address associated with the data source for the product. It could point to a specific webpage, database, or file containing relevant information about the product.\n",
    "\n",
    "9. `bottle_weight`: It represents the weight of the plastic bottle. It indicates the mass of the bottle itself, which could be measured in grams, kilograms, or any other appropriate unit of weight.\n",
    "\n",
    "10. `bottle_count`: It denotes the count or number of plastic bottles. It represents the quantity of bottles present or recorded in the dataset."
   ]
  },
  {
   "attachments": {},
   "cell_type": "markdown",
   "id": "4490d494",
   "metadata": {},
   "source": [
    "## Importing Libraries and Loading Datasets"
   ]
  },
  {
   "cell_type": "code",
   "execution_count": 253,
   "id": "7910584a",
   "metadata": {},
   "outputs": [],
   "source": [
    "import pandas as pd\n",
    "import glob\n",
    "import re"
   ]
  },
  {
   "cell_type": "code",
   "execution_count": 254,
   "metadata": {},
   "outputs": [
    {
     "name": "stdout",
     "output_type": "stream",
     "text": [
      "   product_barcode                 product_label product_size  \\\n",
      "0     610696090768              Vimto Gasificado       350 ml   \n",
      "1     817939012079  Anti-Bac All Purpose Cleaner        828ml   \n",
      "2    2089616370071                  Agua Mineral        5.0 L   \n",
      "3         40822426         Bonaqua Mineral Water       500 ml   \n",
      "4         42380665                  Fanta Litchi       280 ml   \n",
      "\n",
      "         brand_name manufacturer_country                 manufacturer_name  \\\n",
      "0             Vimto                   GB                       Nichols plc   \n",
      "1            Method                   US               Method Products pbc   \n",
      "2  Água de Namaacha                   MZ  Sociedade de Águas de Moçambique   \n",
      "3           Bonaqua                   US                         Coca-Cola   \n",
      "4             Fanta                   US                         Coca-Cola   \n",
      "\n",
      "  scan_country                                           data_url  \\\n",
      "0           MZ  https://wastebase.org/#/o/85022289-591b-4e34-9...   \n",
      "1           GB  https://wastebase.org/#/o/cb2a0f45-314c-4fd0-9...   \n",
      "2           MZ  https://wastebase.org/#/o/90c9868b-d408-490e-b...   \n",
      "3           MZ  https://wastebase.org/#/o/c3710738-2999-4396-a...   \n",
      "4           MZ  https://wastebase.org/#/o/c3710738-2999-4396-a...   \n",
      "\n",
      "   bottle_weight  bottle_count  \n",
      "0            NaN             1  \n",
      "1            NaN             1  \n",
      "2          110.0             1  \n",
      "3            NaN             9  \n",
      "4           20.5             6  \n"
     ]
    }
   ],
   "source": [
    "# Specify the path to the directory containing your CSV files\n",
    "path = 'C:\\\\Users\\\\Eston\\\\OneDrive\\\\Desktop\\\\project datasets to use\\\\waste scan\\\\wastebase\\\\*.csv'\n",
    "\n",
    "# Get a list of all CSV file paths in the directory\n",
    "csv_files = glob.glob(path)\n",
    "\n",
    "# Initialize an empty list to store the individual dataframes\n",
    "dfs = []\n",
    "\n",
    "# Iterate over each CSV file, read it as a dataframe, and append it to the list\n",
    "for csv_file in csv_files:\n",
    "    df = pd.read_csv(csv_file)\n",
    "    dfs.append(df)\n",
    "\n",
    "# Merge the dataframes using the pd.concat() function\n",
    "merged_df = pd.concat(dfs, ignore_index=True)\n",
    "\n",
    "# Print the merged dataframe\n",
    "print(merged_df.head())\n",
    "\n",
    "# Optional: Save the merged dataframe to a new CSV file\n",
    "merged_df.to_csv('merged_dataset.csv', index=False)"
   ]
  },
  {
   "attachments": {},
   "cell_type": "markdown",
   "id": "3ba6516e",
   "metadata": {},
   "source": [
    "## Data Exploration"
   ]
  },
  {
   "attachments": {},
   "cell_type": "markdown",
   "id": "d7bc57aa",
   "metadata": {},
   "source": [
    "Here we take a look at the dataframe we are working with to get a general understanding. We look at the shape, column names, data types of the columns, "
   ]
  },
  {
   "cell_type": "code",
   "execution_count": 300,
   "id": "3438317d",
   "metadata": {},
   "outputs": [
    {
     "data": {
      "text/plain": [
       "(33007, 11)"
      ]
     },
     "execution_count": 300,
     "metadata": {},
     "output_type": "execute_result"
    }
   ],
   "source": [
    "merged_df.shape"
   ]
  },
  {
   "cell_type": "code",
   "execution_count": 299,
   "id": "63fa3345",
   "metadata": {},
   "outputs": [
    {
     "name": "stdout",
     "output_type": "stream",
     "text": [
      "['product_barcode', 'product_label', 'product_size', 'brand_name', 'manufacturer_country', 'manufacturer_name', 'scan_country', 'data_url', 'bottle_weight', 'bottle_count', 'total_bottle_weight']\n"
     ]
    }
   ],
   "source": [
    "# get the column names\n",
    "column_names = merged_df.columns.tolist()\n",
    "print(column_names)\n"
   ]
  },
  {
   "cell_type": "code",
   "execution_count": 302,
   "id": "e593301e",
   "metadata": {},
   "outputs": [
    {
     "name": "stdout",
     "output_type": "stream",
     "text": [
      "<class 'pandas.core.frame.DataFrame'>\n",
      "RangeIndex: 33007 entries, 0 to 33006\n",
      "Data columns (total 11 columns):\n",
      " #   Column                Non-Null Count  Dtype  \n",
      "---  ------                --------------  -----  \n",
      " 0   product_barcode       33007 non-null  int64  \n",
      " 1   product_label         33007 non-null  object \n",
      " 2   product_size          33007 non-null  object \n",
      " 3   brand_name            33007 non-null  object \n",
      " 4   manufacturer_country  33007 non-null  object \n",
      " 5   manufacturer_name     33007 non-null  object \n",
      " 6   scan_country          33007 non-null  object \n",
      " 7   data_url              33007 non-null  object \n",
      " 8   bottle_weight         33007 non-null  float64\n",
      " 9   bottle_count          33007 non-null  int64  \n",
      " 10  total_bottle_weight   33007 non-null  float64\n",
      "dtypes: float64(2), int64(2), object(7)\n",
      "memory usage: 2.8+ MB\n"
     ]
    }
   ],
   "source": [
    "merged_df.info()"
   ]
  },
  {
   "cell_type": "code",
   "execution_count": 303,
   "id": "ed0e172f",
   "metadata": {},
   "outputs": [
    {
     "data": {
      "text/html": [
       "<div>\n",
       "<style scoped>\n",
       "    .dataframe tbody tr th:only-of-type {\n",
       "        vertical-align: middle;\n",
       "    }\n",
       "\n",
       "    .dataframe tbody tr th {\n",
       "        vertical-align: top;\n",
       "    }\n",
       "\n",
       "    .dataframe thead th {\n",
       "        text-align: right;\n",
       "    }\n",
       "</style>\n",
       "<table border=\"1\" class=\"dataframe\">\n",
       "  <thead>\n",
       "    <tr style=\"text-align: right;\">\n",
       "      <th></th>\n",
       "      <th>product_barcode</th>\n",
       "      <th>bottle_weight</th>\n",
       "      <th>bottle_count</th>\n",
       "      <th>total_bottle_weight</th>\n",
       "    </tr>\n",
       "  </thead>\n",
       "  <tbody>\n",
       "    <tr>\n",
       "      <th>count</th>\n",
       "      <td>3.300700e+04</td>\n",
       "      <td>33007.000000</td>\n",
       "      <td>33007.000000</td>\n",
       "      <td>33007.000000</td>\n",
       "    </tr>\n",
       "    <tr>\n",
       "      <th>mean</th>\n",
       "      <td>4.839385e+12</td>\n",
       "      <td>30.642478</td>\n",
       "      <td>95.184476</td>\n",
       "      <td>2.823257</td>\n",
       "    </tr>\n",
       "    <tr>\n",
       "      <th>std</th>\n",
       "      <td>2.546076e+12</td>\n",
       "      <td>13.797715</td>\n",
       "      <td>676.127162</td>\n",
       "      <td>17.668997</td>\n",
       "    </tr>\n",
       "    <tr>\n",
       "      <th>min</th>\n",
       "      <td>0.000000e+00</td>\n",
       "      <td>10.000000</td>\n",
       "      <td>1.000000</td>\n",
       "      <td>0.010000</td>\n",
       "    </tr>\n",
       "    <tr>\n",
       "      <th>25%</th>\n",
       "      <td>5.000177e+12</td>\n",
       "      <td>23.799617</td>\n",
       "      <td>1.000000</td>\n",
       "      <td>0.030586</td>\n",
       "    </tr>\n",
       "    <tr>\n",
       "      <th>50%</th>\n",
       "      <td>6.006414e+12</td>\n",
       "      <td>26.000000</td>\n",
       "      <td>4.000000</td>\n",
       "      <td>0.110464</td>\n",
       "    </tr>\n",
       "    <tr>\n",
       "      <th>75%</th>\n",
       "      <td>6.161107e+12</td>\n",
       "      <td>30.585848</td>\n",
       "      <td>25.000000</td>\n",
       "      <td>0.703474</td>\n",
       "    </tr>\n",
       "    <tr>\n",
       "      <th>max</th>\n",
       "      <td>6.009645e+13</td>\n",
       "      <td>115.000000</td>\n",
       "      <td>22354.000000</td>\n",
       "      <td>380.018000</td>\n",
       "    </tr>\n",
       "  </tbody>\n",
       "</table>\n",
       "</div>"
      ],
      "text/plain": [
       "       product_barcode  bottle_weight  bottle_count  total_bottle_weight\n",
       "count     3.300700e+04   33007.000000  33007.000000         33007.000000\n",
       "mean      4.839385e+12      30.642478     95.184476             2.823257\n",
       "std       2.546076e+12      13.797715    676.127162            17.668997\n",
       "min       0.000000e+00      10.000000      1.000000             0.010000\n",
       "25%       5.000177e+12      23.799617      1.000000             0.030586\n",
       "50%       6.006414e+12      26.000000      4.000000             0.110464\n",
       "75%       6.161107e+12      30.585848     25.000000             0.703474\n",
       "max       6.009645e+13     115.000000  22354.000000           380.018000"
      ]
     },
     "execution_count": 303,
     "metadata": {},
     "output_type": "execute_result"
    }
   ],
   "source": [
    "merged_df.describe()"
   ]
  },
  {
   "cell_type": "code",
   "execution_count": 255,
   "id": "b086a8ef",
   "metadata": {},
   "outputs": [
    {
     "data": {
      "text/html": [
       "<div>\n",
       "<style scoped>\n",
       "    .dataframe tbody tr th:only-of-type {\n",
       "        vertical-align: middle;\n",
       "    }\n",
       "\n",
       "    .dataframe tbody tr th {\n",
       "        vertical-align: top;\n",
       "    }\n",
       "\n",
       "    .dataframe thead th {\n",
       "        text-align: right;\n",
       "    }\n",
       "</style>\n",
       "<table border=\"1\" class=\"dataframe\">\n",
       "  <thead>\n",
       "    <tr style=\"text-align: right;\">\n",
       "      <th></th>\n",
       "      <th>product_barcode</th>\n",
       "      <th>product_label</th>\n",
       "      <th>product_size</th>\n",
       "      <th>brand_name</th>\n",
       "      <th>manufacturer_country</th>\n",
       "      <th>manufacturer_name</th>\n",
       "      <th>scan_country</th>\n",
       "      <th>data_url</th>\n",
       "      <th>bottle_weight</th>\n",
       "      <th>bottle_count</th>\n",
       "    </tr>\n",
       "  </thead>\n",
       "  <tbody>\n",
       "    <tr>\n",
       "      <th>0</th>\n",
       "      <td>610696090768</td>\n",
       "      <td>Vimto Gasificado</td>\n",
       "      <td>350 ml</td>\n",
       "      <td>Vimto</td>\n",
       "      <td>GB</td>\n",
       "      <td>Nichols plc</td>\n",
       "      <td>MZ</td>\n",
       "      <td>https://wastebase.org/#/o/85022289-591b-4e34-9...</td>\n",
       "      <td>NaN</td>\n",
       "      <td>1</td>\n",
       "    </tr>\n",
       "    <tr>\n",
       "      <th>1</th>\n",
       "      <td>817939012079</td>\n",
       "      <td>Anti-Bac All Purpose Cleaner</td>\n",
       "      <td>828ml</td>\n",
       "      <td>Method</td>\n",
       "      <td>US</td>\n",
       "      <td>Method Products pbc</td>\n",
       "      <td>GB</td>\n",
       "      <td>https://wastebase.org/#/o/cb2a0f45-314c-4fd0-9...</td>\n",
       "      <td>NaN</td>\n",
       "      <td>1</td>\n",
       "    </tr>\n",
       "    <tr>\n",
       "      <th>2</th>\n",
       "      <td>2089616370071</td>\n",
       "      <td>Agua Mineral</td>\n",
       "      <td>5.0 L</td>\n",
       "      <td>Água de Namaacha</td>\n",
       "      <td>MZ</td>\n",
       "      <td>Sociedade de Águas de Moçambique</td>\n",
       "      <td>MZ</td>\n",
       "      <td>https://wastebase.org/#/o/90c9868b-d408-490e-b...</td>\n",
       "      <td>110.0</td>\n",
       "      <td>1</td>\n",
       "    </tr>\n",
       "    <tr>\n",
       "      <th>3</th>\n",
       "      <td>40822426</td>\n",
       "      <td>Bonaqua Mineral Water</td>\n",
       "      <td>500 ml</td>\n",
       "      <td>Bonaqua</td>\n",
       "      <td>US</td>\n",
       "      <td>Coca-Cola</td>\n",
       "      <td>MZ</td>\n",
       "      <td>https://wastebase.org/#/o/c3710738-2999-4396-a...</td>\n",
       "      <td>NaN</td>\n",
       "      <td>9</td>\n",
       "    </tr>\n",
       "    <tr>\n",
       "      <th>4</th>\n",
       "      <td>42380665</td>\n",
       "      <td>Fanta Litchi</td>\n",
       "      <td>280 ml</td>\n",
       "      <td>Fanta</td>\n",
       "      <td>US</td>\n",
       "      <td>Coca-Cola</td>\n",
       "      <td>MZ</td>\n",
       "      <td>https://wastebase.org/#/o/c3710738-2999-4396-a...</td>\n",
       "      <td>20.5</td>\n",
       "      <td>6</td>\n",
       "    </tr>\n",
       "  </tbody>\n",
       "</table>\n",
       "</div>"
      ],
      "text/plain": [
       "   product_barcode                 product_label product_size  \\\n",
       "0     610696090768              Vimto Gasificado       350 ml   \n",
       "1     817939012079  Anti-Bac All Purpose Cleaner        828ml   \n",
       "2    2089616370071                  Agua Mineral        5.0 L   \n",
       "3         40822426         Bonaqua Mineral Water       500 ml   \n",
       "4         42380665                  Fanta Litchi       280 ml   \n",
       "\n",
       "         brand_name manufacturer_country                 manufacturer_name  \\\n",
       "0             Vimto                   GB                       Nichols plc   \n",
       "1            Method                   US               Method Products pbc   \n",
       "2  Água de Namaacha                   MZ  Sociedade de Águas de Moçambique   \n",
       "3           Bonaqua                   US                         Coca-Cola   \n",
       "4             Fanta                   US                         Coca-Cola   \n",
       "\n",
       "  scan_country                                           data_url  \\\n",
       "0           MZ  https://wastebase.org/#/o/85022289-591b-4e34-9...   \n",
       "1           GB  https://wastebase.org/#/o/cb2a0f45-314c-4fd0-9...   \n",
       "2           MZ  https://wastebase.org/#/o/90c9868b-d408-490e-b...   \n",
       "3           MZ  https://wastebase.org/#/o/c3710738-2999-4396-a...   \n",
       "4           MZ  https://wastebase.org/#/o/c3710738-2999-4396-a...   \n",
       "\n",
       "   bottle_weight  bottle_count  \n",
       "0            NaN             1  \n",
       "1            NaN             1  \n",
       "2          110.0             1  \n",
       "3            NaN             9  \n",
       "4           20.5             6  "
      ]
     },
     "execution_count": 255,
     "metadata": {},
     "output_type": "execute_result"
    }
   ],
   "source": [
    "merged_df.head()"
   ]
  },
  {
   "cell_type": "code",
   "execution_count": 258,
   "metadata": {},
   "outputs": [
    {
     "name": "stdout",
     "output_type": "stream",
     "text": [
      "['MZ' 'GB' 'TZ' 'KE' 'ZM' 'ZA' 'CH' 'UG' 'ES' 'MW' 'FR' 'CA' 'NL' 'RW'\n",
      " 'AO' 'BR' 'QA' 'SL' 'BE' 'CD' 'NG']\n"
     ]
    }
   ],
   "source": [
    "# Get the unique values in the scan_country column\n",
    "unique_scan_countries = merged_df['scan_country'].unique()\n",
    "\n",
    "# Print the unique scan_countries\n",
    "print(unique_scan_countries)"
   ]
  },
  {
   "attachments": {},
   "cell_type": "markdown",
   "id": "4a7f6402",
   "metadata": {},
   "source": [
    "## Data Preprocessing"
   ]
  },
  {
   "attachments": {},
   "cell_type": "markdown",
   "id": "5379ff04",
   "metadata": {},
   "source": [
    "### Handling Missing Values"
   ]
  },
  {
   "cell_type": "code",
   "execution_count": 259,
   "id": "77d0c823",
   "metadata": {},
   "outputs": [
    {
     "name": "stdout",
     "output_type": "stream",
     "text": [
      "product_barcode             0\n",
      "product_label               0\n",
      "product_size                0\n",
      "brand_name                  0\n",
      "manufacturer_country       25\n",
      "manufacturer_name           0\n",
      "scan_country                0\n",
      "data_url                    0\n",
      "bottle_weight           31297\n",
      "bottle_count                0\n",
      "dtype: int64\n"
     ]
    }
   ],
   "source": [
    "# Check for missing values in the merged dataframe\n",
    "missing_values = merged_df.isnull().sum()\n",
    "\n",
    "# Print the count of missing values for each column\n",
    "print(missing_values)\n",
    "\n",
    "\n"
   ]
  },
  {
   "attachments": {},
   "cell_type": "markdown",
   "id": "b25df231",
   "metadata": {},
   "source": [
    "#### Addressing missing values on 'manufacturer_country' column"
   ]
  },
  {
   "cell_type": "code",
   "execution_count": 260,
   "id": "456011d0",
   "metadata": {},
   "outputs": [
    {
     "name": "stdout",
     "output_type": "stream",
     "text": [
      "Percentage probability: 38.75%\n"
     ]
    }
   ],
   "source": [
    "# Calculate the percentage probability of the values being the same\n",
    "percentage_probability = (merged_df['manufacturer_country'] == merged_df['scan_country']).mean() * 100\n",
    "\n",
    "# Print the percentage probability\n",
    "print(\"Percentage probability: {:.2f}%\".format(percentage_probability))\n"
   ]
  },
  {
   "cell_type": "code",
   "execution_count": 261,
   "id": "32f2ce81",
   "metadata": {},
   "outputs": [
    {
     "data": {
      "text/html": [
       "<div>\n",
       "<style scoped>\n",
       "    .dataframe tbody tr th:only-of-type {\n",
       "        vertical-align: middle;\n",
       "    }\n",
       "\n",
       "    .dataframe tbody tr th {\n",
       "        vertical-align: top;\n",
       "    }\n",
       "\n",
       "    .dataframe thead th {\n",
       "        text-align: right;\n",
       "    }\n",
       "</style>\n",
       "<table border=\"1\" class=\"dataframe\">\n",
       "  <thead>\n",
       "    <tr style=\"text-align: right;\">\n",
       "      <th></th>\n",
       "      <th>product_barcode</th>\n",
       "      <th>product_label</th>\n",
       "      <th>product_size</th>\n",
       "      <th>brand_name</th>\n",
       "      <th>manufacturer_country</th>\n",
       "      <th>manufacturer_name</th>\n",
       "      <th>scan_country</th>\n",
       "      <th>data_url</th>\n",
       "      <th>bottle_weight</th>\n",
       "      <th>bottle_count</th>\n",
       "    </tr>\n",
       "  </thead>\n",
       "  <tbody>\n",
       "    <tr>\n",
       "      <th>629</th>\n",
       "      <td>6001760005490</td>\n",
       "      <td>Premium Lager</td>\n",
       "      <td>330 ml</td>\n",
       "      <td>Windhoek</td>\n",
       "      <td>NaN</td>\n",
       "      <td>Ohlthaver &amp; List Group of Companies</td>\n",
       "      <td>TZ</td>\n",
       "      <td>https://wastebase.org/#/o/a3ed268c-9aaa-4686-b...</td>\n",
       "      <td>NaN</td>\n",
       "      <td>6</td>\n",
       "    </tr>\n",
       "    <tr>\n",
       "      <th>1331</th>\n",
       "      <td>6001760005490</td>\n",
       "      <td>Premium Lager</td>\n",
       "      <td>330 ml</td>\n",
       "      <td>Windhoek</td>\n",
       "      <td>NaN</td>\n",
       "      <td>Ohlthaver &amp; List Group of Companies</td>\n",
       "      <td>TZ</td>\n",
       "      <td>https://wastebase.org/#/o/a3ed268c-9aaa-4686-b...</td>\n",
       "      <td>NaN</td>\n",
       "      <td>6</td>\n",
       "    </tr>\n",
       "    <tr>\n",
       "      <th>1915</th>\n",
       "      <td>6001760005490</td>\n",
       "      <td>Premium Lager</td>\n",
       "      <td>330 ml</td>\n",
       "      <td>Windhoek</td>\n",
       "      <td>NaN</td>\n",
       "      <td>Ohlthaver &amp; List Group of Companies</td>\n",
       "      <td>TZ</td>\n",
       "      <td>https://wastebase.org/#/o/a3ed268c-9aaa-4686-b...</td>\n",
       "      <td>NaN</td>\n",
       "      <td>6</td>\n",
       "    </tr>\n",
       "    <tr>\n",
       "      <th>2351</th>\n",
       "      <td>6001760005490</td>\n",
       "      <td>Premium Lager</td>\n",
       "      <td>330 ml</td>\n",
       "      <td>Windhoek</td>\n",
       "      <td>NaN</td>\n",
       "      <td>Ohlthaver &amp; List Group of Companies</td>\n",
       "      <td>TZ</td>\n",
       "      <td>https://wastebase.org/#/o/a3ed268c-9aaa-4686-b...</td>\n",
       "      <td>NaN</td>\n",
       "      <td>6</td>\n",
       "    </tr>\n",
       "    <tr>\n",
       "      <th>3255</th>\n",
       "      <td>6001760005490</td>\n",
       "      <td>Premium Lager</td>\n",
       "      <td>330 ml</td>\n",
       "      <td>Windhoek</td>\n",
       "      <td>NaN</td>\n",
       "      <td>Ohlthaver &amp; List Group of Companies</td>\n",
       "      <td>TZ</td>\n",
       "      <td>https://wastebase.org/#/o/a3ed268c-9aaa-4686-b...</td>\n",
       "      <td>NaN</td>\n",
       "      <td>6</td>\n",
       "    </tr>\n",
       "    <tr>\n",
       "      <th>3901</th>\n",
       "      <td>6001760005490</td>\n",
       "      <td>Premium Lager</td>\n",
       "      <td>330 ml</td>\n",
       "      <td>Windhoek</td>\n",
       "      <td>NaN</td>\n",
       "      <td>Ohlthaver &amp; List Group of Companies</td>\n",
       "      <td>TZ</td>\n",
       "      <td>https://wastebase.org/#/o/a3ed268c-9aaa-4686-b...</td>\n",
       "      <td>NaN</td>\n",
       "      <td>15</td>\n",
       "    </tr>\n",
       "    <tr>\n",
       "      <th>4769</th>\n",
       "      <td>6001760005490</td>\n",
       "      <td>Premium Lager</td>\n",
       "      <td>330 ml</td>\n",
       "      <td>Windhoek</td>\n",
       "      <td>NaN</td>\n",
       "      <td>Ohlthaver &amp; List Group of Companies</td>\n",
       "      <td>TZ</td>\n",
       "      <td>https://wastebase.org/#/o/a3ed268c-9aaa-4686-b...</td>\n",
       "      <td>NaN</td>\n",
       "      <td>15</td>\n",
       "    </tr>\n",
       "    <tr>\n",
       "      <th>5701</th>\n",
       "      <td>6001760005490</td>\n",
       "      <td>Premium Lager</td>\n",
       "      <td>330 ml</td>\n",
       "      <td>Windhoek</td>\n",
       "      <td>NaN</td>\n",
       "      <td>Ohlthaver &amp; List Group of Companies</td>\n",
       "      <td>TZ</td>\n",
       "      <td>https://wastebase.org/#/o/a3ed268c-9aaa-4686-b...</td>\n",
       "      <td>NaN</td>\n",
       "      <td>15</td>\n",
       "    </tr>\n",
       "    <tr>\n",
       "      <th>6728</th>\n",
       "      <td>6001760005490</td>\n",
       "      <td>Premium Lager</td>\n",
       "      <td>330 ml</td>\n",
       "      <td>Windhoek</td>\n",
       "      <td>NaN</td>\n",
       "      <td>Ohlthaver &amp; List Group of Companies</td>\n",
       "      <td>TZ</td>\n",
       "      <td>https://wastebase.org/#/o/a3ed268c-9aaa-4686-b...</td>\n",
       "      <td>NaN</td>\n",
       "      <td>15</td>\n",
       "    </tr>\n",
       "    <tr>\n",
       "      <th>7837</th>\n",
       "      <td>6001760005490</td>\n",
       "      <td>Premium Lager</td>\n",
       "      <td>330 ml</td>\n",
       "      <td>Windhoek</td>\n",
       "      <td>NaN</td>\n",
       "      <td>Ohlthaver &amp; List Group of Companies</td>\n",
       "      <td>TZ</td>\n",
       "      <td>https://wastebase.org/#/o/a3ed268c-9aaa-4686-b...</td>\n",
       "      <td>NaN</td>\n",
       "      <td>15</td>\n",
       "    </tr>\n",
       "    <tr>\n",
       "      <th>9043</th>\n",
       "      <td>6001760005490</td>\n",
       "      <td>Premium Lager</td>\n",
       "      <td>330 ml</td>\n",
       "      <td>Windhoek</td>\n",
       "      <td>NaN</td>\n",
       "      <td>Ohlthaver &amp; List Group of Companies</td>\n",
       "      <td>TZ</td>\n",
       "      <td>https://wastebase.org/#/o/a3ed268c-9aaa-4686-b...</td>\n",
       "      <td>NaN</td>\n",
       "      <td>15</td>\n",
       "    </tr>\n",
       "    <tr>\n",
       "      <th>10461</th>\n",
       "      <td>6001760005490</td>\n",
       "      <td>Premium Lager</td>\n",
       "      <td>330 ml</td>\n",
       "      <td>Windhoek</td>\n",
       "      <td>NaN</td>\n",
       "      <td>Ohlthaver &amp; List Group of Companies</td>\n",
       "      <td>TZ</td>\n",
       "      <td>https://wastebase.org/#/o/a3ed268c-9aaa-4686-b...</td>\n",
       "      <td>NaN</td>\n",
       "      <td>15</td>\n",
       "    </tr>\n",
       "    <tr>\n",
       "      <th>11991</th>\n",
       "      <td>6001760005490</td>\n",
       "      <td>Premium Lager</td>\n",
       "      <td>330 ml</td>\n",
       "      <td>Windhoek</td>\n",
       "      <td>NaN</td>\n",
       "      <td>Ohlthaver &amp; List Group of Companies</td>\n",
       "      <td>TZ</td>\n",
       "      <td>https://wastebase.org/#/o/a3ed268c-9aaa-4686-b...</td>\n",
       "      <td>NaN</td>\n",
       "      <td>15</td>\n",
       "    </tr>\n",
       "    <tr>\n",
       "      <th>13681</th>\n",
       "      <td>6001760005490</td>\n",
       "      <td>Premium Lager</td>\n",
       "      <td>330 ml</td>\n",
       "      <td>Windhoek</td>\n",
       "      <td>NaN</td>\n",
       "      <td>Ohlthaver &amp; List Group of Companies</td>\n",
       "      <td>TZ</td>\n",
       "      <td>https://wastebase.org/#/o/a3ed268c-9aaa-4686-b...</td>\n",
       "      <td>NaN</td>\n",
       "      <td>15</td>\n",
       "    </tr>\n",
       "    <tr>\n",
       "      <th>15468</th>\n",
       "      <td>6001760005490</td>\n",
       "      <td>Premium Lager</td>\n",
       "      <td>330 ml</td>\n",
       "      <td>Windhoek</td>\n",
       "      <td>NaN</td>\n",
       "      <td>Ohlthaver &amp; List Group of Companies</td>\n",
       "      <td>TZ</td>\n",
       "      <td>https://wastebase.org/#/o/a3ed268c-9aaa-4686-b...</td>\n",
       "      <td>NaN</td>\n",
       "      <td>15</td>\n",
       "    </tr>\n",
       "    <tr>\n",
       "      <th>17317</th>\n",
       "      <td>6001760005490</td>\n",
       "      <td>Premium Lager</td>\n",
       "      <td>330 ml</td>\n",
       "      <td>Windhoek</td>\n",
       "      <td>NaN</td>\n",
       "      <td>Ohlthaver &amp; List Group of Companies</td>\n",
       "      <td>TZ</td>\n",
       "      <td>https://wastebase.org/#/o/a3ed268c-9aaa-4686-b...</td>\n",
       "      <td>NaN</td>\n",
       "      <td>15</td>\n",
       "    </tr>\n",
       "    <tr>\n",
       "      <th>19220</th>\n",
       "      <td>6001760005490</td>\n",
       "      <td>Premium Lager</td>\n",
       "      <td>330 ml</td>\n",
       "      <td>Windhoek</td>\n",
       "      <td>NaN</td>\n",
       "      <td>Ohlthaver &amp; List Group of Companies</td>\n",
       "      <td>TZ</td>\n",
       "      <td>https://wastebase.org/#/o/a3ed268c-9aaa-4686-b...</td>\n",
       "      <td>NaN</td>\n",
       "      <td>15</td>\n",
       "    </tr>\n",
       "    <tr>\n",
       "      <th>21194</th>\n",
       "      <td>6001760005490</td>\n",
       "      <td>Premium Lager</td>\n",
       "      <td>330 ml</td>\n",
       "      <td>Windhoek</td>\n",
       "      <td>NaN</td>\n",
       "      <td>Ohlthaver &amp; List Group of Companies</td>\n",
       "      <td>TZ</td>\n",
       "      <td>https://wastebase.org/#/o/a3ed268c-9aaa-4686-b...</td>\n",
       "      <td>NaN</td>\n",
       "      <td>15</td>\n",
       "    </tr>\n",
       "    <tr>\n",
       "      <th>23212</th>\n",
       "      <td>6001760005490</td>\n",
       "      <td>Premium Lager</td>\n",
       "      <td>330 ml</td>\n",
       "      <td>Windhoek</td>\n",
       "      <td>NaN</td>\n",
       "      <td>Ohlthaver &amp; List Group of Companies</td>\n",
       "      <td>TZ</td>\n",
       "      <td>https://wastebase.org/#/o/a3ed268c-9aaa-4686-b...</td>\n",
       "      <td>NaN</td>\n",
       "      <td>15</td>\n",
       "    </tr>\n",
       "    <tr>\n",
       "      <th>25265</th>\n",
       "      <td>6001760005490</td>\n",
       "      <td>Premium Lager</td>\n",
       "      <td>330 ml</td>\n",
       "      <td>Windhoek</td>\n",
       "      <td>NaN</td>\n",
       "      <td>Ohlthaver &amp; List Group of Companies</td>\n",
       "      <td>TZ</td>\n",
       "      <td>https://wastebase.org/#/o/a3ed268c-9aaa-4686-b...</td>\n",
       "      <td>NaN</td>\n",
       "      <td>15</td>\n",
       "    </tr>\n",
       "    <tr>\n",
       "      <th>27382</th>\n",
       "      <td>6001760005490</td>\n",
       "      <td>Premium Lager</td>\n",
       "      <td>330 ml</td>\n",
       "      <td>Windhoek</td>\n",
       "      <td>NaN</td>\n",
       "      <td>Ohlthaver &amp; List Group of Companies</td>\n",
       "      <td>TZ</td>\n",
       "      <td>https://wastebase.org/#/o/a3ed268c-9aaa-4686-b...</td>\n",
       "      <td>NaN</td>\n",
       "      <td>15</td>\n",
       "    </tr>\n",
       "    <tr>\n",
       "      <th>28825</th>\n",
       "      <td>792382559961</td>\n",
       "      <td>Purified drinking water</td>\n",
       "      <td>1.5ltr</td>\n",
       "      <td>Aqua Splash</td>\n",
       "      <td>NaN</td>\n",
       "      <td>O&amp;L Group of Companies</td>\n",
       "      <td>KE</td>\n",
       "      <td>https://wastebase.org/#/o/86551870-e293-4d58-b...</td>\n",
       "      <td>NaN</td>\n",
       "      <td>9</td>\n",
       "    </tr>\n",
       "    <tr>\n",
       "      <th>29544</th>\n",
       "      <td>6001760005490</td>\n",
       "      <td>Premium Lager</td>\n",
       "      <td>330 ml</td>\n",
       "      <td>Windhoek</td>\n",
       "      <td>NaN</td>\n",
       "      <td>Ohlthaver &amp; List Group of Companies</td>\n",
       "      <td>TZ</td>\n",
       "      <td>https://wastebase.org/#/o/a3ed268c-9aaa-4686-b...</td>\n",
       "      <td>NaN</td>\n",
       "      <td>15</td>\n",
       "    </tr>\n",
       "    <tr>\n",
       "      <th>31028</th>\n",
       "      <td>792382559961</td>\n",
       "      <td>Purified drinking water</td>\n",
       "      <td>1.5ltr</td>\n",
       "      <td>Aqua Splash</td>\n",
       "      <td>NaN</td>\n",
       "      <td>O&amp;L Group of Companies</td>\n",
       "      <td>KE</td>\n",
       "      <td>https://wastebase.org/#/o/86551870-e293-4d58-b...</td>\n",
       "      <td>NaN</td>\n",
       "      <td>9</td>\n",
       "    </tr>\n",
       "    <tr>\n",
       "      <th>31769</th>\n",
       "      <td>6001760005490</td>\n",
       "      <td>Premium Lager</td>\n",
       "      <td>330 ml</td>\n",
       "      <td>Windhoek</td>\n",
       "      <td>NaN</td>\n",
       "      <td>Ohlthaver &amp; List Group of Companies</td>\n",
       "      <td>TZ</td>\n",
       "      <td>https://wastebase.org/#/o/a3ed268c-9aaa-4686-b...</td>\n",
       "      <td>NaN</td>\n",
       "      <td>15</td>\n",
       "    </tr>\n",
       "  </tbody>\n",
       "</table>\n",
       "</div>"
      ],
      "text/plain": [
       "       product_barcode            product_label product_size   brand_name  \\\n",
       "629      6001760005490            Premium Lager       330 ml     Windhoek   \n",
       "1331     6001760005490            Premium Lager       330 ml     Windhoek   \n",
       "1915     6001760005490            Premium Lager       330 ml     Windhoek   \n",
       "2351     6001760005490            Premium Lager       330 ml     Windhoek   \n",
       "3255     6001760005490            Premium Lager       330 ml     Windhoek   \n",
       "3901     6001760005490            Premium Lager       330 ml     Windhoek   \n",
       "4769     6001760005490            Premium Lager       330 ml     Windhoek   \n",
       "5701     6001760005490            Premium Lager       330 ml     Windhoek   \n",
       "6728     6001760005490            Premium Lager       330 ml     Windhoek   \n",
       "7837     6001760005490            Premium Lager       330 ml     Windhoek   \n",
       "9043     6001760005490            Premium Lager       330 ml     Windhoek   \n",
       "10461    6001760005490            Premium Lager       330 ml     Windhoek   \n",
       "11991    6001760005490            Premium Lager       330 ml     Windhoek   \n",
       "13681    6001760005490            Premium Lager       330 ml     Windhoek   \n",
       "15468    6001760005490            Premium Lager       330 ml     Windhoek   \n",
       "17317    6001760005490            Premium Lager       330 ml     Windhoek   \n",
       "19220    6001760005490            Premium Lager       330 ml     Windhoek   \n",
       "21194    6001760005490            Premium Lager       330 ml     Windhoek   \n",
       "23212    6001760005490            Premium Lager       330 ml     Windhoek   \n",
       "25265    6001760005490            Premium Lager       330 ml     Windhoek   \n",
       "27382    6001760005490            Premium Lager       330 ml     Windhoek   \n",
       "28825     792382559961  Purified drinking water       1.5ltr  Aqua Splash   \n",
       "29544    6001760005490            Premium Lager       330 ml     Windhoek   \n",
       "31028     792382559961  Purified drinking water       1.5ltr  Aqua Splash   \n",
       "31769    6001760005490            Premium Lager       330 ml     Windhoek   \n",
       "\n",
       "      manufacturer_country                    manufacturer_name scan_country  \\\n",
       "629                    NaN  Ohlthaver & List Group of Companies           TZ   \n",
       "1331                   NaN  Ohlthaver & List Group of Companies           TZ   \n",
       "1915                   NaN  Ohlthaver & List Group of Companies           TZ   \n",
       "2351                   NaN  Ohlthaver & List Group of Companies           TZ   \n",
       "3255                   NaN  Ohlthaver & List Group of Companies           TZ   \n",
       "3901                   NaN  Ohlthaver & List Group of Companies           TZ   \n",
       "4769                   NaN  Ohlthaver & List Group of Companies           TZ   \n",
       "5701                   NaN  Ohlthaver & List Group of Companies           TZ   \n",
       "6728                   NaN  Ohlthaver & List Group of Companies           TZ   \n",
       "7837                   NaN  Ohlthaver & List Group of Companies           TZ   \n",
       "9043                   NaN  Ohlthaver & List Group of Companies           TZ   \n",
       "10461                  NaN  Ohlthaver & List Group of Companies           TZ   \n",
       "11991                  NaN  Ohlthaver & List Group of Companies           TZ   \n",
       "13681                  NaN  Ohlthaver & List Group of Companies           TZ   \n",
       "15468                  NaN  Ohlthaver & List Group of Companies           TZ   \n",
       "17317                  NaN  Ohlthaver & List Group of Companies           TZ   \n",
       "19220                  NaN  Ohlthaver & List Group of Companies           TZ   \n",
       "21194                  NaN  Ohlthaver & List Group of Companies           TZ   \n",
       "23212                  NaN  Ohlthaver & List Group of Companies           TZ   \n",
       "25265                  NaN  Ohlthaver & List Group of Companies           TZ   \n",
       "27382                  NaN  Ohlthaver & List Group of Companies           TZ   \n",
       "28825                  NaN               O&L Group of Companies           KE   \n",
       "29544                  NaN  Ohlthaver & List Group of Companies           TZ   \n",
       "31028                  NaN               O&L Group of Companies           KE   \n",
       "31769                  NaN  Ohlthaver & List Group of Companies           TZ   \n",
       "\n",
       "                                                data_url  bottle_weight  \\\n",
       "629    https://wastebase.org/#/o/a3ed268c-9aaa-4686-b...            NaN   \n",
       "1331   https://wastebase.org/#/o/a3ed268c-9aaa-4686-b...            NaN   \n",
       "1915   https://wastebase.org/#/o/a3ed268c-9aaa-4686-b...            NaN   \n",
       "2351   https://wastebase.org/#/o/a3ed268c-9aaa-4686-b...            NaN   \n",
       "3255   https://wastebase.org/#/o/a3ed268c-9aaa-4686-b...            NaN   \n",
       "3901   https://wastebase.org/#/o/a3ed268c-9aaa-4686-b...            NaN   \n",
       "4769   https://wastebase.org/#/o/a3ed268c-9aaa-4686-b...            NaN   \n",
       "5701   https://wastebase.org/#/o/a3ed268c-9aaa-4686-b...            NaN   \n",
       "6728   https://wastebase.org/#/o/a3ed268c-9aaa-4686-b...            NaN   \n",
       "7837   https://wastebase.org/#/o/a3ed268c-9aaa-4686-b...            NaN   \n",
       "9043   https://wastebase.org/#/o/a3ed268c-9aaa-4686-b...            NaN   \n",
       "10461  https://wastebase.org/#/o/a3ed268c-9aaa-4686-b...            NaN   \n",
       "11991  https://wastebase.org/#/o/a3ed268c-9aaa-4686-b...            NaN   \n",
       "13681  https://wastebase.org/#/o/a3ed268c-9aaa-4686-b...            NaN   \n",
       "15468  https://wastebase.org/#/o/a3ed268c-9aaa-4686-b...            NaN   \n",
       "17317  https://wastebase.org/#/o/a3ed268c-9aaa-4686-b...            NaN   \n",
       "19220  https://wastebase.org/#/o/a3ed268c-9aaa-4686-b...            NaN   \n",
       "21194  https://wastebase.org/#/o/a3ed268c-9aaa-4686-b...            NaN   \n",
       "23212  https://wastebase.org/#/o/a3ed268c-9aaa-4686-b...            NaN   \n",
       "25265  https://wastebase.org/#/o/a3ed268c-9aaa-4686-b...            NaN   \n",
       "27382  https://wastebase.org/#/o/a3ed268c-9aaa-4686-b...            NaN   \n",
       "28825  https://wastebase.org/#/o/86551870-e293-4d58-b...            NaN   \n",
       "29544  https://wastebase.org/#/o/a3ed268c-9aaa-4686-b...            NaN   \n",
       "31028  https://wastebase.org/#/o/86551870-e293-4d58-b...            NaN   \n",
       "31769  https://wastebase.org/#/o/a3ed268c-9aaa-4686-b...            NaN   \n",
       "\n",
       "       bottle_count  \n",
       "629               6  \n",
       "1331              6  \n",
       "1915              6  \n",
       "2351              6  \n",
       "3255              6  \n",
       "3901             15  \n",
       "4769             15  \n",
       "5701             15  \n",
       "6728             15  \n",
       "7837             15  \n",
       "9043             15  \n",
       "10461            15  \n",
       "11991            15  \n",
       "13681            15  \n",
       "15468            15  \n",
       "17317            15  \n",
       "19220            15  \n",
       "21194            15  \n",
       "23212            15  \n",
       "25265            15  \n",
       "27382            15  \n",
       "28825             9  \n",
       "29544            15  \n",
       "31028             9  \n",
       "31769            15  "
      ]
     },
     "execution_count": 261,
     "metadata": {},
     "output_type": "execute_result"
    }
   ],
   "source": [
    "# Select rows with missing values in manufacturer_country column\n",
    "missing_country_rows = merged_df[merged_df['manufacturer_country'].isnull()]\n",
    "\n",
    "# Print the DataFrame of rows with missing values in manufacturer_country\n",
    "missing_country_rows\n"
   ]
  },
  {
   "cell_type": "code",
   "execution_count": 262,
   "id": "0b386492",
   "metadata": {},
   "outputs": [
    {
     "name": "stdout",
     "output_type": "stream",
     "text": [
      "Ohlthaver & List Group of Companies    23\n",
      "O&L Group of Companies                  2\n",
      "Name: manufacturer_name, dtype: int64\n"
     ]
    }
   ],
   "source": [
    "# Find unique values and their frequencies in manufacturer_name column\n",
    "missing_manufacturer_country_counts = missing_country_rows['manufacturer_name'].value_counts()\n",
    "\n",
    "# Print unique values and their frequencies\n",
    "print(missing_manufacturer_country_counts)"
   ]
  },
  {
   "cell_type": "code",
   "execution_count": 263,
   "id": "00217d87",
   "metadata": {},
   "outputs": [
    {
     "name": "stdout",
     "output_type": "stream",
     "text": [
      "product_barcode             0\n",
      "product_label               0\n",
      "product_size                0\n",
      "brand_name                  0\n",
      "manufacturer_country        0\n",
      "manufacturer_name           0\n",
      "scan_country                0\n",
      "data_url                    0\n",
      "bottle_weight           31297\n",
      "bottle_count                0\n",
      "dtype: int64\n"
     ]
    }
   ],
   "source": [
    "# Fill missing values in the manufacturer_country column with 'NA' for Namibia\n",
    "merged_df['manufacturer_country'].fillna('NA', inplace=True)\n",
    "\n",
    "# Check for missing values in the merged dataframe\n",
    "missing_values = merged_df.isnull().sum()\n",
    "\n",
    "# Print the count of missing values for each column\n",
    "print(missing_values)\n"
   ]
  },
  {
   "attachments": {},
   "cell_type": "markdown",
   "id": "80787b08",
   "metadata": {},
   "source": [
    "#### Addressing missing values in 'bottle_weight column"
   ]
  },
  {
   "cell_type": "code",
   "execution_count": 264,
   "id": "2cb8229b",
   "metadata": {},
   "outputs": [
    {
     "name": "stdout",
     "output_type": "stream",
     "text": [
      "['350 ml' '828ml' '5.0 L' '500 ml' '280 ml' '280ml' '750 ml' '500ml'\n",
      " '1.136 L' '200ml' '2.0 L' '1.0 L' '1.5 L' '125 ml' '250 ml' '500g' '80 g'\n",
      " '750ml' '1 L' '200 ml' '40 ml' '60 g' '1L' '375 g' '250g' '450g' '600 ml'\n",
      " '6.0 L' '1.75L' '340ml' '340 ml' '150 ml' '315 ml' '300 ml' '1.25L'\n",
      " '237ml' '1.25 L' '50 ml' '100 ml' '21g' '1.5 l' '2000ml' '1000ml' '350ml'\n",
      " '1.600ml' '13 L' '300ml' '250ml' '650ml' '560 ml' '330 ml' '250 g'\n",
      " '1.0ml' '400 ml' '150 g' '330ml' '340g' '180ml' '6.5L' '0.33L' '400ml'\n",
      " '1.6 L' '1.5L' '430 ml' '1litre' '100 g' '430ml' '345ml' '1.0 l' '780ml'\n",
      " '180 ml' '375ml' '500 g' '1.5l' '1.0l' '320ml' '828 ml' '450 ml' '750 g'\n",
      " '725 ml' '75ml' '399 g' '100ml' '354 ml' '2.272 L' '1600ml' '1360 g'\n",
      " '3X340g' '90ml' '55 ml' '340 g' '2.5 L' '568 ml' '470 g' '433 ml'\n",
      " '380 ml' '60 ml' '336 ml' '900g' '3.0 L' '8x500ml' '2 L' '1.0 litre'\n",
      " '3 L' '150ml' '1.7L' '1l' '470.0ML' '600ml' '870g' '1000 g' '500gm'\n",
      " '5ltrs' '1.0L' '470 ml' '1ltr' '160 g' '55ml' '1.7 L' '400 g' '330.0ML'\n",
      " '1500 ml' '1 litre' '1.25l' '700 ml' '1.25 l' '515 ml' '18.5 Litres'\n",
      " '1.5ml' '20 L' '2.0l' '880ml' '2.0 l' '320 ml' '320m' '1100 ml' '440 ml'\n",
      " '5 L' '1 kg' '2l' '1500ml' '155 g' '500.0ML' '185 g' '390 g' '850 g'\n",
      " '350.0ML' '710 ml' '591 ml' '355 ml' '591ml' '503ml' '275ml' '275 ml'\n",
      " '120ml' '50ml' '850 ml' '375 ml' '50 g' '2.0L' '100g' '709 ml' '5.0L'\n",
      " '420.0ML' '420ml' '900 ml' '900ml' '2 litre' '6 x 1 L' '10 L' '400gms'\n",
      " '800 g' '5l' '887 ml' '600 g' '3.0L' '125 g' '5L' '200 g' '75 g'\n",
      " '1.6Litres' '414 ml' '88g' '266ml' '1.54 L' '503 ml' '8.0 L' '355ml'\n",
      " '420 ml' '2.25 L' '270 ml' '1450 ml' '12 L' '1.35 L' '480 ml' '88 g'\n",
      " '200.0ML' '400.0ML' '375.0ML' '750.0ML' '450 g' '3 liter' '130 ml'\n",
      " '1000 ml' '710ml' '1.77 L' '266 ml' '591.0ML' '1.89L' '4 L' '473 ml'\n",
      " '335 ml' '360g' '710.0ML' '1600 ml' '0.6L' '4000 ml' '192 g' '175 g'\n",
      " '115 g' '30 g' '70g' '345.0ML' '745 ml' '550 ml' '1.89 L' '220 ml'\n",
      " '450ml' '1kg' '345 ml' '18.9 L' '240 ml' '7.5l' '135ml' '0.5L' '500L'\n",
      " '330l' '20L' '4l' '8000ml' '59lml' '950ml' '473ml' '650 ml' '280L'\n",
      " '360 ml' '1.500ml' '6.25 L' '360ml' '78 g' '5000ml' '1.54L' '2L' '459ml'\n",
      " '7.0L' '250gms' '0.3 l' '70 ml' '1.5ltr' '1.75 L' '6.0L' '5ltr' '71ml'\n",
      " '24 g' '570.0ML' '40 g']\n"
     ]
    }
   ],
   "source": [
    "# Function to update values\n",
    "def update_product_size(value):\n",
    "    # Check if the value doesn't have a letter suffix\n",
    "    if re.match(r'^\\d+\\.?\\d*$', value):\n",
    "        size = float(value)\n",
    "        # Assign ML suffix if the value is greater than 50\n",
    "        if size > 50:\n",
    "            return str(size) + 'ML'\n",
    "        # Assign L suffix if the value is less than 21\n",
    "        if size < 21:\n",
    "            return str(size) + 'L'\n",
    "    return value\n",
    "\n",
    "# Apply the function to update product_size values\n",
    "merged_df['product_size'] = merged_df['product_size'].apply(update_product_size)\n",
    "\n",
    "# Print the updated product_size column\n",
    "print(merged_df['product_size'].unique())\n"
   ]
  },
  {
   "cell_type": "code",
   "execution_count": 265,
   "metadata": {},
   "outputs": [
    {
     "name": "stdout",
     "output_type": "stream",
     "text": [
      "['350ML' '828ML' '5.0L' '500ML' '280ML' '750ML' '1.136L' '200ML' '2.0L'\n",
      " '1.0L' '1.5L' '125ML' '250ML' '500G' '80G' '1L' '40ML' '60G' '375G'\n",
      " '250G' '450G' '600ML' '6.0L' '1.75L' '340ML' '150ML' '315ML' '300ML'\n",
      " '1.25L' '237ML' '50ML' '100ML' '21G' '2000ML' '1000ML' '1.600ML' '13L'\n",
      " '650ML' '560ML' '330ML' '1.0ML' '400ML' '150G' '340G' '180ML' '6.5L'\n",
      " '0.33L' '1.6L' '430ML' '100G' '345ML' '780ML' '375ML' '320ML' '450ML'\n",
      " '750G' '725ML' '75ML' '399G' '354ML' '2.272L' '1600ML' '1360G' '90ML'\n",
      " '55ML' '2.5L' '568ML' '470G' '433ML' '380ML' '60ML' '336ML' '900G' '3.0L'\n",
      " '2L' '3L' '1.7L' '470.0ML' '870G' '1000G' '500GM' '5L' '470ML' '160G'\n",
      " '400G' '330.0ML' '1500ML' '700ML' '515ML' '18.5L' '1.5ML' '20L' '880ML'\n",
      " '320M' '1100ML' '440ML' '1KG' '155G' '500.0ML' '185G' '390G' '850G'\n",
      " '350.0ML' '710ML' '591ML' '355ML' '503ML' '275ML' '120ML' '850ML' '50G'\n",
      " '709ML' '420.0ML' '420ML' '900ML' '10L' '400GMS' '800G' '887ML' '600G'\n",
      " '125G' '200G' '75G' '414ML' '88G' '266ML' '1.54L' '8.0L' '2.25L' '270ML'\n",
      " '1450ML' '12L' '1.35L' '480ML' '200.0ML' '400.0ML' '375.0ML' '750.0ML'\n",
      " '130ML' '1.77L' '591.0ML' '1.89L' '4L' '473ML' '335ML' '360G' '710.0ML'\n",
      " '0.6L' '4000ML' '192G' '175G' '115G' '30G' '70G' '345.0ML' '745ML'\n",
      " '550ML' '220ML' '18.9L' '240ML' '7.5L' '135ML' '0.5L' '500L' '330L'\n",
      " '8000ML' '59LML' '950ML' '280L' '360ML' '1.500ML' '6.25L' '78G' '5000ML'\n",
      " '459ML' '7.0L' '250GMS' '0.3L' '70ML' '71ML' '24G' '570.0ML' '40G']\n"
     ]
    }
   ],
   "source": [
    "import re\n",
    "\n",
    "# Remove spacing between number and unit\n",
    "merged_df['product_size'] = merged_df['product_size'].str.replace(' ', '')\n",
    "\n",
    "# Capitalize the entire column\n",
    "merged_df['product_size'] = merged_df['product_size'].str.upper()\n",
    "\n",
    "# Remove prefixes like '3X'\n",
    "merged_df['product_size'] = merged_df['product_size'].str.replace(r'\\d+X', '')\n",
    "\n",
    "# Remove letters after 'L' in values containing 'L'\n",
    "merged_df['product_size'] = merged_df['product_size'].str.replace(r'(?i)(.*L).*', r'\\1')\n",
    "\n",
    "# Check the updated 'product_size' column\n",
    "print(merged_df['product_size'].unique())\n",
    "\n",
    "\n"
   ]
  },
  {
   "cell_type": "code",
   "execution_count": 266,
   "id": "d56315b4",
   "metadata": {},
   "outputs": [
    {
     "name": "stdout",
     "output_type": "stream",
     "text": [
      "['350ML' '828ML' '5.0L' '500ML' '280ML' '750ML' '1.136L' '200ML' '2.0L'\n",
      " '1.0L' '1.5L' '125ML' '250ML' '500G' '80G' '1L' '40ML' '60G' '375G'\n",
      " '250G' '450G' '600ML' '6.0L' '1.75L' '340ML' '150ML' '315ML' '300ML'\n",
      " '1.25L' '237ML' '50ML' '100ML' '21G' '2000ML' '1000ML' '1.600ML' '13L'\n",
      " '650ML' '560ML' '330ML' '1.0ML' '400ML' '150G' '340G' '180ML' '6.5L'\n",
      " '0.33L' '1.6L' '430ML' '100G' '345ML' '780ML' '375ML' '320ML' '450ML'\n",
      " '750G' '725ML' '75ML' '399G' '354ML' '2.272L' '1600ML' '1360G' '90ML'\n",
      " '55ML' '2.5L' '568ML' '470G' '433ML' '380ML' '60ML' '336ML' '900G' '3.0L'\n",
      " '2L' '3L' '1.7L' '470.0ML' '870G' '1000G' '500GM' '5L' '470ML' '160G'\n",
      " '400G' '330.0ML' '1500ML' '700ML' '515ML' '18.5L' '1.5ML' '20L' '880ML'\n",
      " '320M' '1100ML' '440ML' '1KG' '155G' '500.0ML' '185G' '390G' '850G'\n",
      " '350.0ML' '710ML' '591ML' '355ML' '503ML' '275ML' '120ML' '850ML' '50G'\n",
      " '709ML' '420.0ML' '420ML' '900ML' '10L' '400GMS' '800G' '887ML' '600G'\n",
      " '125G' '200G' '75G' '414ML' '88G' '266ML' '1.54L' '8.0L' '2.25L' '270ML'\n",
      " '1450ML' '12L' '1.35L' '480ML' '200.0ML' '400.0ML' '375.0ML' '750.0ML'\n",
      " '130ML' '1.77L' '591.0ML' '1.89L' '4L' '473ML' '335ML' '360G' '710.0ML'\n",
      " '0.6L' '4000ML' '192G' '175G' '115G' '30G' '70G' '345.0ML' '745ML'\n",
      " '550ML' '220ML' '18.9L' '240ML' '7.5L' '135ML' '0.5L' '8000ML' '59LML'\n",
      " '950ML' '280.0ML' '360ML' '1.500ML' '6.25L' '78G' '5000ML' '459ML' '7.0L'\n",
      " '250GMS' '0.3L' '70ML' '71ML' '24G' '570.0ML' '40G']\n"
     ]
    }
   ],
   "source": [
    "# Function to update values\n",
    "def update_product_size(value):\n",
    "    # Check if the value has the 'L' suffix and is greater than 100\n",
    "    if value.upper().endswith('L'):\n",
    "        try:\n",
    "            size = float(value[:-1])  # Remove 'L' suffix and convert to float\n",
    "            # Convert to 'ML' if the value is greater than 100\n",
    "            if size > 50:\n",
    "                return str(size) + 'ML'\n",
    "        except ValueError:\n",
    "            pass\n",
    "    return value\n",
    "\n",
    "# Apply the function to update product_size values\n",
    "merged_df['product_size'] = merged_df['product_size'].apply(update_product_size)\n",
    "\n",
    "# Print the updated product_size column\n",
    "print(merged_df['product_size'].unique())\n"
   ]
  },
  {
   "cell_type": "code",
   "execution_count": 267,
   "id": "89a8f090",
   "metadata": {},
   "outputs": [
    {
     "name": "stdout",
     "output_type": "stream",
     "text": [
      "Missing values in 'bottle_weight' after fill: 28663\n"
     ]
    }
   ],
   "source": [
    "# Step 1: Group the data by brand_name\n",
    "grouped_by_brand = merged_df.groupby('brand_name')\n",
    "\n",
    "# Step 2: Group the data by brand_name and product_size\n",
    "grouped_by_brand_size = merged_df.groupby(['brand_name', 'product_size'])\n",
    "\n",
    "# Step 3: Find the most frequent bottle_weight value within each group and replace missing values\n",
    "for (brand_name, product_size), group in grouped_by_brand_size:\n",
    "    mode_weights = group['bottle_weight'].mode()\n",
    "    if not mode_weights.empty:\n",
    "        mode_weight = mode_weights.iloc[0]  # Get the most frequent bottle_weight value\n",
    "        merged_df.loc[group.index, 'bottle_weight'] = merged_df.loc[group.index, 'bottle_weight'].fillna(mode_weight)\n",
    "\n",
    "# Check for missing values after filling\n",
    "missing_values_after_fill = merged_df['bottle_weight'].isnull().sum()\n",
    "print(\"Missing values in 'bottle_weight' after fill:\", missing_values_after_fill)\n"
   ]
  },
  {
   "cell_type": "code",
   "execution_count": 268,
   "id": "35b6e49d",
   "metadata": {},
   "outputs": [
    {
     "name": "stdout",
     "output_type": "stream",
     "text": [
      "Missing values in 'bottle_weight' after fill: 8603\n"
     ]
    }
   ],
   "source": [
    "# Group the data by product_size and calculate the mean bottle weight for each group\n",
    "grouped_by_size = merged_df.groupby('product_size')\n",
    "mean_weights = grouped_by_size['bottle_weight'].mean()\n",
    "\n",
    "# Fill missing values with group means\n",
    "merged_df['bottle_weight'] = merged_df.groupby('product_size')['bottle_weight'].apply(lambda x: x.fillna(x.mean()))\n",
    "\n",
    "# Check for missing values after filling\n",
    "missing_values_after_fill = merged_df['bottle_weight'].isnull().sum()\n",
    "print(\"Missing values in 'bottle_weight' after fill:\", missing_values_after_fill)\n"
   ]
  },
  {
   "cell_type": "code",
   "execution_count": 269,
   "id": "3e893568",
   "metadata": {},
   "outputs": [
    {
     "name": "stdout",
     "output_type": "stream",
     "text": [
      "Missing values in 'bottle_weight' after fill: 0\n"
     ]
    }
   ],
   "source": [
    "# Calculate the mean of the non-missing values in the bottle_weight column\n",
    "mean_weight = merged_df['bottle_weight'].mean(skipna=True)\n",
    "\n",
    "# Fill missing values in the bottle_weight column with the mean\n",
    "merged_df['bottle_weight'].fillna(mean_weight, inplace=True)\n",
    "\n",
    "# Check for missing values after filling\n",
    "missing_values_after_fill = merged_df['bottle_weight'].isnull().sum()\n",
    "print(\"Missing values in 'bottle_weight' after fill:\", missing_values_after_fill)"
   ]
  },
  {
   "attachments": {},
   "cell_type": "markdown",
   "id": "a06fc181",
   "metadata": {},
   "source": [
    "### Handling Outliers "
   ]
  },
  {
   "cell_type": "code",
   "execution_count": 270,
   "id": "0fac9552",
   "metadata": {},
   "outputs": [
    {
     "name": "stdout",
     "output_type": "stream",
     "text": [
      "Top 10 Maximum Bottle Weights:\n",
      "800     115.0\n",
      "1153    115.0\n",
      "2100    115.0\n",
      "2457    115.0\n",
      "3030    115.0\n",
      "3891    115.0\n",
      "4757    115.0\n",
      "5687    115.0\n",
      "6712    115.0\n",
      "7821    115.0\n",
      "Name: bottle_weight, dtype: float64\n",
      "Top 10 Minimum Bottle Weights:\n",
      "437     0.0\n",
      "658     0.0\n",
      "806     0.0\n",
      "1157    0.0\n",
      "1351    0.0\n",
      "1835    0.0\n",
      "2505    0.0\n",
      "2636    0.0\n",
      "3035    0.0\n",
      "3286    0.0\n",
      "Name: bottle_weight, dtype: float64\n"
     ]
    }
   ],
   "source": [
    "# Find the top 10 maximum values in the bottle_weight column\n",
    "top_10_max_weights = merged_df['bottle_weight'].nlargest(10)\n",
    "\n",
    "# Find the top 10 minimum values in the bottle_weight column\n",
    "top_10_min_weights = merged_df['bottle_weight'].nsmallest(10)\n",
    "\n",
    "# Print the top 10 maximum values\n",
    "print(\"Top 10 Maximum Bottle Weights:\")\n",
    "print(top_10_max_weights)\n",
    "\n",
    "# Print the top 10 minimum values\n",
    "print(\"Top 10 Minimum Bottle Weights:\")\n",
    "print(top_10_min_weights)\n"
   ]
  },
  {
   "cell_type": "code",
   "execution_count": 271,
   "id": "d59efe0d",
   "metadata": {},
   "outputs": [
    {
     "name": "stdout",
     "output_type": "stream",
     "text": [
      "Top 10 Maximum Bottle Weights:\n",
      "800     115.0\n",
      "1153    115.0\n",
      "2100    115.0\n",
      "2457    115.0\n",
      "3030    115.0\n",
      "3891    115.0\n",
      "4757    115.0\n",
      "5687    115.0\n",
      "6712    115.0\n",
      "7821    115.0\n",
      "Name: bottle_weight, dtype: float64\n",
      "Top 10 Minimum Bottle Weights:\n",
      "8      10.0\n",
      "40     10.0\n",
      "41     10.0\n",
      "42     10.0\n",
      "50     10.0\n",
      "112    10.0\n",
      "134    10.0\n",
      "213    10.0\n",
      "225    10.0\n",
      "234    10.0\n",
      "Name: bottle_weight, dtype: float64\n"
     ]
    }
   ],
   "source": [
    "# Calculate the mean of non-zero values in the bottle_weight column\n",
    "mean_weight = merged_df[merged_df['bottle_weight'] > 0]['bottle_weight'].mean()\n",
    "\n",
    "# Replace 0 values with the mean\n",
    "merged_df.loc[merged_df['bottle_weight'] == 0, 'bottle_weight'] = mean_weight\n",
    "\n",
    "# Find the top 10 maximum values in the bottle_weight column\n",
    "top_10_max_weights = merged_df['bottle_weight'].nlargest(10)\n",
    "\n",
    "# Find the top 10 minimum values in the bottle_weight column\n",
    "top_10_min_weights = merged_df['bottle_weight'].nsmallest(10)\n",
    "\n",
    "# Print the top 10 maximum values\n",
    "print(\"Top 10 Maximum Bottle Weights:\")\n",
    "print(top_10_max_weights)\n",
    "\n",
    "# Print the top 10 minimum values\n",
    "print(\"Top 10 Minimum Bottle Weights:\")\n",
    "print(top_10_min_weights)"
   ]
  },
  {
   "attachments": {},
   "cell_type": "markdown",
   "id": "c70a5818",
   "metadata": {},
   "source": [
    "## Feature Engineering"
   ]
  },
  {
   "cell_type": "code",
   "execution_count": 272,
   "id": "006f6f5b",
   "metadata": {},
   "outputs": [
    {
     "data": {
      "text/html": [
       "<div>\n",
       "<style scoped>\n",
       "    .dataframe tbody tr th:only-of-type {\n",
       "        vertical-align: middle;\n",
       "    }\n",
       "\n",
       "    .dataframe tbody tr th {\n",
       "        vertical-align: top;\n",
       "    }\n",
       "\n",
       "    .dataframe thead th {\n",
       "        text-align: right;\n",
       "    }\n",
       "</style>\n",
       "<table border=\"1\" class=\"dataframe\">\n",
       "  <thead>\n",
       "    <tr style=\"text-align: right;\">\n",
       "      <th></th>\n",
       "      <th>product_barcode</th>\n",
       "      <th>product_label</th>\n",
       "      <th>product_size</th>\n",
       "      <th>brand_name</th>\n",
       "      <th>manufacturer_country</th>\n",
       "      <th>manufacturer_name</th>\n",
       "      <th>scan_country</th>\n",
       "      <th>data_url</th>\n",
       "      <th>bottle_weight</th>\n",
       "      <th>bottle_count</th>\n",
       "      <th>total_bottle_weight</th>\n",
       "    </tr>\n",
       "  </thead>\n",
       "  <tbody>\n",
       "    <tr>\n",
       "      <th>0</th>\n",
       "      <td>610696090768</td>\n",
       "      <td>Vimto Gasificado</td>\n",
       "      <td>350ML</td>\n",
       "      <td>Vimto</td>\n",
       "      <td>GB</td>\n",
       "      <td>Nichols plc</td>\n",
       "      <td>MZ</td>\n",
       "      <td>https://wastebase.org/#/o/85022289-591b-4e34-9...</td>\n",
       "      <td>23.570016</td>\n",
       "      <td>1</td>\n",
       "      <td>0.023570</td>\n",
       "    </tr>\n",
       "    <tr>\n",
       "      <th>1</th>\n",
       "      <td>817939012079</td>\n",
       "      <td>Anti-Bac All Purpose Cleaner</td>\n",
       "      <td>828ML</td>\n",
       "      <td>Method</td>\n",
       "      <td>US</td>\n",
       "      <td>Method Products pbc</td>\n",
       "      <td>GB</td>\n",
       "      <td>https://wastebase.org/#/o/cb2a0f45-314c-4fd0-9...</td>\n",
       "      <td>30.585848</td>\n",
       "      <td>1</td>\n",
       "      <td>0.030586</td>\n",
       "    </tr>\n",
       "    <tr>\n",
       "      <th>2</th>\n",
       "      <td>2089616370071</td>\n",
       "      <td>Agua Mineral</td>\n",
       "      <td>5.0L</td>\n",
       "      <td>Água de Namaacha</td>\n",
       "      <td>MZ</td>\n",
       "      <td>Sociedade de Águas de Moçambique</td>\n",
       "      <td>MZ</td>\n",
       "      <td>https://wastebase.org/#/o/90c9868b-d408-490e-b...</td>\n",
       "      <td>110.000000</td>\n",
       "      <td>1</td>\n",
       "      <td>0.110000</td>\n",
       "    </tr>\n",
       "    <tr>\n",
       "      <th>3</th>\n",
       "      <td>40822426</td>\n",
       "      <td>Bonaqua Mineral Water</td>\n",
       "      <td>500ML</td>\n",
       "      <td>Bonaqua</td>\n",
       "      <td>US</td>\n",
       "      <td>Coca-Cola</td>\n",
       "      <td>MZ</td>\n",
       "      <td>https://wastebase.org/#/o/c3710738-2999-4396-a...</td>\n",
       "      <td>23.799617</td>\n",
       "      <td>9</td>\n",
       "      <td>0.214197</td>\n",
       "    </tr>\n",
       "    <tr>\n",
       "      <th>4</th>\n",
       "      <td>42380665</td>\n",
       "      <td>Fanta Litchi</td>\n",
       "      <td>280ML</td>\n",
       "      <td>Fanta</td>\n",
       "      <td>US</td>\n",
       "      <td>Coca-Cola</td>\n",
       "      <td>MZ</td>\n",
       "      <td>https://wastebase.org/#/o/c3710738-2999-4396-a...</td>\n",
       "      <td>20.500000</td>\n",
       "      <td>6</td>\n",
       "      <td>0.123000</td>\n",
       "    </tr>\n",
       "    <tr>\n",
       "      <th>...</th>\n",
       "      <td>...</td>\n",
       "      <td>...</td>\n",
       "      <td>...</td>\n",
       "      <td>...</td>\n",
       "      <td>...</td>\n",
       "      <td>...</td>\n",
       "      <td>...</td>\n",
       "      <td>...</td>\n",
       "      <td>...</td>\n",
       "      <td>...</td>\n",
       "      <td>...</td>\n",
       "    </tr>\n",
       "    <tr>\n",
       "      <th>33002</th>\n",
       "      <td>9716188532141</td>\n",
       "      <td>Agua Purificada</td>\n",
       "      <td>5.0L</td>\n",
       "      <td>Nevada</td>\n",
       "      <td>MZ</td>\n",
       "      <td>Nevada General Supplies Co, Lda</td>\n",
       "      <td>MZ</td>\n",
       "      <td>https://wastebase.org/#/o/dd241782-fd94-4a13-9...</td>\n",
       "      <td>110.000000</td>\n",
       "      <td>83</td>\n",
       "      <td>9.130000</td>\n",
       "    </tr>\n",
       "    <tr>\n",
       "      <th>33003</th>\n",
       "      <td>9716188532196</td>\n",
       "      <td>Agua Purificada</td>\n",
       "      <td>500ML</td>\n",
       "      <td>Nevada</td>\n",
       "      <td>MZ</td>\n",
       "      <td>Nevada General Supplies Co, Lda</td>\n",
       "      <td>MZ</td>\n",
       "      <td>https://wastebase.org/#/o/dd241782-fd94-4a13-9...</td>\n",
       "      <td>23.799617</td>\n",
       "      <td>244</td>\n",
       "      <td>5.807107</td>\n",
       "    </tr>\n",
       "    <tr>\n",
       "      <th>33004</th>\n",
       "      <td>9780201379624</td>\n",
       "      <td>Eau de Source</td>\n",
       "      <td>500ML</td>\n",
       "      <td>Ma Vie</td>\n",
       "      <td>CD</td>\n",
       "      <td>SOGEMIL sarl</td>\n",
       "      <td>CD</td>\n",
       "      <td>https://wastebase.org/#/o/088a248d-4115-4a19-9...</td>\n",
       "      <td>23.799617</td>\n",
       "      <td>13</td>\n",
       "      <td>0.309395</td>\n",
       "    </tr>\n",
       "    <tr>\n",
       "      <th>33005</th>\n",
       "      <td>9780201379624</td>\n",
       "      <td>Eau de Source</td>\n",
       "      <td>500ML</td>\n",
       "      <td>Ma Vie</td>\n",
       "      <td>CD</td>\n",
       "      <td>SOGEMIL sarl</td>\n",
       "      <td>UG</td>\n",
       "      <td>https://wastebase.org/#/o/088a248d-4115-4a19-9...</td>\n",
       "      <td>23.799617</td>\n",
       "      <td>1</td>\n",
       "      <td>0.023800</td>\n",
       "    </tr>\n",
       "    <tr>\n",
       "      <th>33006</th>\n",
       "      <td>9781234567866</td>\n",
       "      <td>Eau de Source</td>\n",
       "      <td>750ML</td>\n",
       "      <td>Swastika water</td>\n",
       "      <td>CD</td>\n",
       "      <td>Ets SAIKI KRIPA</td>\n",
       "      <td>CD</td>\n",
       "      <td>https://wastebase.org/#/o/56bbb912-16f4-4d6a-a...</td>\n",
       "      <td>10.000000</td>\n",
       "      <td>9</td>\n",
       "      <td>0.090000</td>\n",
       "    </tr>\n",
       "  </tbody>\n",
       "</table>\n",
       "<p>33007 rows × 11 columns</p>\n",
       "</div>"
      ],
      "text/plain": [
       "       product_barcode                 product_label product_size  \\\n",
       "0         610696090768              Vimto Gasificado        350ML   \n",
       "1         817939012079  Anti-Bac All Purpose Cleaner        828ML   \n",
       "2        2089616370071                  Agua Mineral         5.0L   \n",
       "3             40822426         Bonaqua Mineral Water        500ML   \n",
       "4             42380665                  Fanta Litchi        280ML   \n",
       "...                ...                           ...          ...   \n",
       "33002    9716188532141               Agua Purificada         5.0L   \n",
       "33003    9716188532196               Agua Purificada        500ML   \n",
       "33004    9780201379624                 Eau de Source        500ML   \n",
       "33005    9780201379624                 Eau de Source        500ML   \n",
       "33006    9781234567866                 Eau de Source        750ML   \n",
       "\n",
       "             brand_name manufacturer_country  \\\n",
       "0                 Vimto                   GB   \n",
       "1                Method                   US   \n",
       "2      Água de Namaacha                   MZ   \n",
       "3               Bonaqua                   US   \n",
       "4                 Fanta                   US   \n",
       "...                 ...                  ...   \n",
       "33002            Nevada                   MZ   \n",
       "33003            Nevada                   MZ   \n",
       "33004            Ma Vie                   CD   \n",
       "33005            Ma Vie                   CD   \n",
       "33006    Swastika water                   CD   \n",
       "\n",
       "                      manufacturer_name scan_country  \\\n",
       "0                           Nichols plc           MZ   \n",
       "1                   Method Products pbc           GB   \n",
       "2      Sociedade de Águas de Moçambique           MZ   \n",
       "3                             Coca-Cola           MZ   \n",
       "4                             Coca-Cola           MZ   \n",
       "...                                 ...          ...   \n",
       "33002   Nevada General Supplies Co, Lda           MZ   \n",
       "33003   Nevada General Supplies Co, Lda           MZ   \n",
       "33004                      SOGEMIL sarl           CD   \n",
       "33005                      SOGEMIL sarl           UG   \n",
       "33006                   Ets SAIKI KRIPA           CD   \n",
       "\n",
       "                                                data_url  bottle_weight  \\\n",
       "0      https://wastebase.org/#/o/85022289-591b-4e34-9...      23.570016   \n",
       "1      https://wastebase.org/#/o/cb2a0f45-314c-4fd0-9...      30.585848   \n",
       "2      https://wastebase.org/#/o/90c9868b-d408-490e-b...     110.000000   \n",
       "3      https://wastebase.org/#/o/c3710738-2999-4396-a...      23.799617   \n",
       "4      https://wastebase.org/#/o/c3710738-2999-4396-a...      20.500000   \n",
       "...                                                  ...            ...   \n",
       "33002  https://wastebase.org/#/o/dd241782-fd94-4a13-9...     110.000000   \n",
       "33003  https://wastebase.org/#/o/dd241782-fd94-4a13-9...      23.799617   \n",
       "33004  https://wastebase.org/#/o/088a248d-4115-4a19-9...      23.799617   \n",
       "33005  https://wastebase.org/#/o/088a248d-4115-4a19-9...      23.799617   \n",
       "33006  https://wastebase.org/#/o/56bbb912-16f4-4d6a-a...      10.000000   \n",
       "\n",
       "       bottle_count  total_bottle_weight  \n",
       "0                 1             0.023570  \n",
       "1                 1             0.030586  \n",
       "2                 1             0.110000  \n",
       "3                 9             0.214197  \n",
       "4                 6             0.123000  \n",
       "...             ...                  ...  \n",
       "33002            83             9.130000  \n",
       "33003           244             5.807107  \n",
       "33004            13             0.309395  \n",
       "33005             1             0.023800  \n",
       "33006             9             0.090000  \n",
       "\n",
       "[33007 rows x 11 columns]"
      ]
     },
     "execution_count": 272,
     "metadata": {},
     "output_type": "execute_result"
    }
   ],
   "source": [
    "merged_df['total_bottle_weight'] = merged_df['bottle_count'] * merged_df['bottle_weight'] /1000\n",
    "merged_df"
   ]
  },
  {
   "attachments": {},
   "cell_type": "markdown",
   "id": "1cc6e207",
   "metadata": {},
   "source": [
    "#### Group the data based on scan country and get the sum of each countries bottle count and bottle weight"
   ]
  },
  {
   "cell_type": "code",
   "execution_count": 273,
   "id": "c68e07a6",
   "metadata": {},
   "outputs": [
    {
     "name": "stdout",
     "output_type": "stream",
     "text": [
      "   scan_country  bottle_count  total_bottle_weight\n",
      "0            AO           543            15.196511\n",
      "1            BE            48             1.142382\n",
      "2            BR            20             0.557427\n",
      "3            CA          5975           163.104544\n",
      "4            CD         15356           222.929782\n",
      "5            CH            23             0.703474\n",
      "6            ES           991            37.685292\n",
      "7            FR            36             1.692000\n",
      "8            GB          9455           258.869109\n",
      "9            KE        112600          3053.625241\n",
      "10           MW         73537          2016.181807\n",
      "11           MZ       2284083         69937.294571\n",
      "12           NG             5             0.118998\n",
      "13           NL            15             0.540000\n",
      "14           QA            37             1.131676\n",
      "15           RW        156295          4222.823761\n",
      "16           SL            10             0.305858\n",
      "17           TZ        452141         12438.147444\n",
      "18           UG          8055           233.112293\n",
      "19           ZA          4002           138.587516\n",
      "20           ZM         18527           443.503276\n"
     ]
    }
   ],
   "source": [
    "# Group the data by scan_country and calculate the sum of bottle_count and total_bottle_weight\n",
    "grouped_df = merged_df.groupby('scan_country').agg({'bottle_count': 'sum', 'total_bottle_weight': 'sum'}).reset_index()\n",
    "\n",
    "# Create a new DataFrame called mapping_df\n",
    "mapping_df = pd.DataFrame(grouped_df)\n",
    "\n",
    "# Print the mapping_df DataFrame\n",
    "print(mapping_df)\n"
   ]
  },
  {
   "attachments": {},
   "cell_type": "markdown",
   "id": "e2d91b5a",
   "metadata": {},
   "source": [
    "#### Load the population dataset and merge with our dataframe then create a new column called population"
   ]
  },
  {
   "cell_type": "code",
   "execution_count": 274,
   "id": "a642f5c9",
   "metadata": {},
   "outputs": [
    {
     "name": "stdout",
     "output_type": "stream",
     "text": [
      "   scan_country  bottle_count  total_bottle_weight    country_name  population\n",
      "0            AO           543            15.196511          Angola       35589\n",
      "1            BE            48             1.142382         Belgium       11656\n",
      "2            BR            20             0.557427          Brazil      215313\n",
      "3            CA          5975           163.104544          Canada       38454\n",
      "4            CD         15356           222.929782        DR Congo       99010\n",
      "5            CH            23             0.703474     Switzerland        8740\n",
      "6            ES           991            37.685292           Spain       47559\n",
      "7            FR            36             1.692000          France       64627\n",
      "8            GB          9455           258.869109  United Kingdom       67509\n",
      "9            KE        112600          3053.625241           Kenya       54027\n",
      "10           MW         73537          2016.181807          Malawi       20405\n",
      "11           MZ       2284083         69937.294571      Mozambique       32970\n",
      "12           NG             5             0.118998         Nigeria      218541\n",
      "13           NL            15             0.540000     Netherlands       17564\n",
      "14           QA            37             1.131676           Qatar        2695\n",
      "15           RW        156295          4222.823761          Rwanda       13777\n",
      "16           SL            10             0.305858    Sierra Leone        8606\n",
      "17           TZ        452141         12438.147444        Tanzania       65498\n",
      "18           UG          8055           233.112293          Uganda       47250\n",
      "19           ZA          4002           138.587516    South Africa       59894\n",
      "20           ZM         18527           443.503276          Zambia       20018\n"
     ]
    }
   ],
   "source": [
    "# Load the population data from the other file into a new DataFrame called population_df\n",
    "population_df = pd.read_csv('World Population.csv')\n",
    "\n",
    "# Merge the population data into the mapping_df DataFrame based on matching values\n",
    "merged_mapping_df = mapping_df.merge(population_df[['CCA3', 'Name', '2022']], \n",
    "                                     left_on='scan_country', \n",
    "                                     right_on='CCA3', \n",
    "                                     how='left')\n",
    "\n",
    "# Rename the columns\n",
    "merged_mapping_df.rename(columns={'Name': 'country_name', '2022': 'population'}, inplace=True)\n",
    "\n",
    "# Drop the 'CCA3' column from the merged_mapping_df DataFrame\n",
    "merged_mapping_df.drop('CCA3', axis=1, inplace=True)\n",
    "\n",
    "# Print the merged mapping_df DataFrame\n",
    "print(merged_mapping_df)\n",
    "\n"
   ]
  },
  {
   "attachments": {},
   "cell_type": "markdown",
   "id": "99ab4333",
   "metadata": {},
   "source": [
    "#### Create column for bottle count per capita (bottle count / population)"
   ]
  },
  {
   "cell_type": "code",
   "execution_count": 275,
   "id": "f1c8ca6f",
   "metadata": {},
   "outputs": [
    {
     "data": {
      "text/html": [
       "<div>\n",
       "<style scoped>\n",
       "    .dataframe tbody tr th:only-of-type {\n",
       "        vertical-align: middle;\n",
       "    }\n",
       "\n",
       "    .dataframe tbody tr th {\n",
       "        vertical-align: top;\n",
       "    }\n",
       "\n",
       "    .dataframe thead th {\n",
       "        text-align: right;\n",
       "    }\n",
       "</style>\n",
       "<table border=\"1\" class=\"dataframe\">\n",
       "  <thead>\n",
       "    <tr style=\"text-align: right;\">\n",
       "      <th></th>\n",
       "      <th>scan_country</th>\n",
       "      <th>bottle_count</th>\n",
       "      <th>total_bottle_weight</th>\n",
       "      <th>country_name</th>\n",
       "      <th>population</th>\n",
       "      <th>bottle_count_per_capita</th>\n",
       "    </tr>\n",
       "  </thead>\n",
       "  <tbody>\n",
       "    <tr>\n",
       "      <th>0</th>\n",
       "      <td>AO</td>\n",
       "      <td>543</td>\n",
       "      <td>15.196511</td>\n",
       "      <td>Angola</td>\n",
       "      <td>35589</td>\n",
       "      <td>0.015258</td>\n",
       "    </tr>\n",
       "    <tr>\n",
       "      <th>1</th>\n",
       "      <td>BE</td>\n",
       "      <td>48</td>\n",
       "      <td>1.142382</td>\n",
       "      <td>Belgium</td>\n",
       "      <td>11656</td>\n",
       "      <td>0.004118</td>\n",
       "    </tr>\n",
       "    <tr>\n",
       "      <th>2</th>\n",
       "      <td>BR</td>\n",
       "      <td>20</td>\n",
       "      <td>0.557427</td>\n",
       "      <td>Brazil</td>\n",
       "      <td>215313</td>\n",
       "      <td>0.000093</td>\n",
       "    </tr>\n",
       "    <tr>\n",
       "      <th>3</th>\n",
       "      <td>CA</td>\n",
       "      <td>5975</td>\n",
       "      <td>163.104544</td>\n",
       "      <td>Canada</td>\n",
       "      <td>38454</td>\n",
       "      <td>0.155380</td>\n",
       "    </tr>\n",
       "    <tr>\n",
       "      <th>4</th>\n",
       "      <td>CD</td>\n",
       "      <td>15356</td>\n",
       "      <td>222.929782</td>\n",
       "      <td>DR Congo</td>\n",
       "      <td>99010</td>\n",
       "      <td>0.155095</td>\n",
       "    </tr>\n",
       "    <tr>\n",
       "      <th>5</th>\n",
       "      <td>CH</td>\n",
       "      <td>23</td>\n",
       "      <td>0.703474</td>\n",
       "      <td>Switzerland</td>\n",
       "      <td>8740</td>\n",
       "      <td>0.002632</td>\n",
       "    </tr>\n",
       "    <tr>\n",
       "      <th>6</th>\n",
       "      <td>ES</td>\n",
       "      <td>991</td>\n",
       "      <td>37.685292</td>\n",
       "      <td>Spain</td>\n",
       "      <td>47559</td>\n",
       "      <td>0.020837</td>\n",
       "    </tr>\n",
       "    <tr>\n",
       "      <th>7</th>\n",
       "      <td>FR</td>\n",
       "      <td>36</td>\n",
       "      <td>1.692000</td>\n",
       "      <td>France</td>\n",
       "      <td>64627</td>\n",
       "      <td>0.000557</td>\n",
       "    </tr>\n",
       "    <tr>\n",
       "      <th>8</th>\n",
       "      <td>GB</td>\n",
       "      <td>9455</td>\n",
       "      <td>258.869109</td>\n",
       "      <td>United Kingdom</td>\n",
       "      <td>67509</td>\n",
       "      <td>0.140055</td>\n",
       "    </tr>\n",
       "    <tr>\n",
       "      <th>9</th>\n",
       "      <td>KE</td>\n",
       "      <td>112600</td>\n",
       "      <td>3053.625241</td>\n",
       "      <td>Kenya</td>\n",
       "      <td>54027</td>\n",
       "      <td>2.084143</td>\n",
       "    </tr>\n",
       "    <tr>\n",
       "      <th>10</th>\n",
       "      <td>MW</td>\n",
       "      <td>73537</td>\n",
       "      <td>2016.181807</td>\n",
       "      <td>Malawi</td>\n",
       "      <td>20405</td>\n",
       "      <td>3.603872</td>\n",
       "    </tr>\n",
       "    <tr>\n",
       "      <th>11</th>\n",
       "      <td>MZ</td>\n",
       "      <td>2284083</td>\n",
       "      <td>69937.294571</td>\n",
       "      <td>Mozambique</td>\n",
       "      <td>32970</td>\n",
       "      <td>69.277616</td>\n",
       "    </tr>\n",
       "    <tr>\n",
       "      <th>12</th>\n",
       "      <td>NG</td>\n",
       "      <td>5</td>\n",
       "      <td>0.118998</td>\n",
       "      <td>Nigeria</td>\n",
       "      <td>218541</td>\n",
       "      <td>0.000023</td>\n",
       "    </tr>\n",
       "    <tr>\n",
       "      <th>13</th>\n",
       "      <td>NL</td>\n",
       "      <td>15</td>\n",
       "      <td>0.540000</td>\n",
       "      <td>Netherlands</td>\n",
       "      <td>17564</td>\n",
       "      <td>0.000854</td>\n",
       "    </tr>\n",
       "    <tr>\n",
       "      <th>14</th>\n",
       "      <td>QA</td>\n",
       "      <td>37</td>\n",
       "      <td>1.131676</td>\n",
       "      <td>Qatar</td>\n",
       "      <td>2695</td>\n",
       "      <td>0.013729</td>\n",
       "    </tr>\n",
       "    <tr>\n",
       "      <th>15</th>\n",
       "      <td>RW</td>\n",
       "      <td>156295</td>\n",
       "      <td>4222.823761</td>\n",
       "      <td>Rwanda</td>\n",
       "      <td>13777</td>\n",
       "      <td>11.344632</td>\n",
       "    </tr>\n",
       "    <tr>\n",
       "      <th>16</th>\n",
       "      <td>SL</td>\n",
       "      <td>10</td>\n",
       "      <td>0.305858</td>\n",
       "      <td>Sierra Leone</td>\n",
       "      <td>8606</td>\n",
       "      <td>0.001162</td>\n",
       "    </tr>\n",
       "    <tr>\n",
       "      <th>17</th>\n",
       "      <td>TZ</td>\n",
       "      <td>452141</td>\n",
       "      <td>12438.147444</td>\n",
       "      <td>Tanzania</td>\n",
       "      <td>65498</td>\n",
       "      <td>6.903127</td>\n",
       "    </tr>\n",
       "    <tr>\n",
       "      <th>18</th>\n",
       "      <td>UG</td>\n",
       "      <td>8055</td>\n",
       "      <td>233.112293</td>\n",
       "      <td>Uganda</td>\n",
       "      <td>47250</td>\n",
       "      <td>0.170476</td>\n",
       "    </tr>\n",
       "    <tr>\n",
       "      <th>19</th>\n",
       "      <td>ZA</td>\n",
       "      <td>4002</td>\n",
       "      <td>138.587516</td>\n",
       "      <td>South Africa</td>\n",
       "      <td>59894</td>\n",
       "      <td>0.066818</td>\n",
       "    </tr>\n",
       "    <tr>\n",
       "      <th>20</th>\n",
       "      <td>ZM</td>\n",
       "      <td>18527</td>\n",
       "      <td>443.503276</td>\n",
       "      <td>Zambia</td>\n",
       "      <td>20018</td>\n",
       "      <td>0.925517</td>\n",
       "    </tr>\n",
       "  </tbody>\n",
       "</table>\n",
       "</div>"
      ],
      "text/plain": [
       "   scan_country  bottle_count  total_bottle_weight    country_name  \\\n",
       "0            AO           543            15.196511          Angola   \n",
       "1            BE            48             1.142382         Belgium   \n",
       "2            BR            20             0.557427          Brazil   \n",
       "3            CA          5975           163.104544          Canada   \n",
       "4            CD         15356           222.929782        DR Congo   \n",
       "5            CH            23             0.703474     Switzerland   \n",
       "6            ES           991            37.685292           Spain   \n",
       "7            FR            36             1.692000          France   \n",
       "8            GB          9455           258.869109  United Kingdom   \n",
       "9            KE        112600          3053.625241           Kenya   \n",
       "10           MW         73537          2016.181807          Malawi   \n",
       "11           MZ       2284083         69937.294571      Mozambique   \n",
       "12           NG             5             0.118998         Nigeria   \n",
       "13           NL            15             0.540000     Netherlands   \n",
       "14           QA            37             1.131676           Qatar   \n",
       "15           RW        156295          4222.823761          Rwanda   \n",
       "16           SL            10             0.305858    Sierra Leone   \n",
       "17           TZ        452141         12438.147444        Tanzania   \n",
       "18           UG          8055           233.112293          Uganda   \n",
       "19           ZA          4002           138.587516    South Africa   \n",
       "20           ZM         18527           443.503276          Zambia   \n",
       "\n",
       "    population  bottle_count_per_capita  \n",
       "0        35589                 0.015258  \n",
       "1        11656                 0.004118  \n",
       "2       215313                 0.000093  \n",
       "3        38454                 0.155380  \n",
       "4        99010                 0.155095  \n",
       "5         8740                 0.002632  \n",
       "6        47559                 0.020837  \n",
       "7        64627                 0.000557  \n",
       "8        67509                 0.140055  \n",
       "9        54027                 2.084143  \n",
       "10       20405                 3.603872  \n",
       "11       32970                69.277616  \n",
       "12      218541                 0.000023  \n",
       "13       17564                 0.000854  \n",
       "14        2695                 0.013729  \n",
       "15       13777                11.344632  \n",
       "16        8606                 0.001162  \n",
       "17       65498                 6.903127  \n",
       "18       47250                 0.170476  \n",
       "19       59894                 0.066818  \n",
       "20       20018                 0.925517  "
      ]
     },
     "execution_count": 275,
     "metadata": {},
     "output_type": "execute_result"
    }
   ],
   "source": [
    "# Calculate the ratio of bottle_count to population\n",
    "merged_mapping_df['bottle_count_per_capita'] = merged_mapping_df['bottle_count'] / (merged_mapping_df['population'])\n",
    "\n",
    "# Print the updated merged_mapping_df DataFrame\n",
    "merged_mapping_df\n"
   ]
  },
  {
   "attachments": {},
   "cell_type": "markdown",
   "id": "b05d0f2f",
   "metadata": {},
   "source": [
    "#### Convert Scan_country column to iso_alpha3 which has 3 digit country codes"
   ]
  },
  {
   "cell_type": "code",
   "execution_count": 276,
   "id": "b3a14843",
   "metadata": {},
   "outputs": [
    {
     "data": {
      "text/html": [
       "<div>\n",
       "<style scoped>\n",
       "    .dataframe tbody tr th:only-of-type {\n",
       "        vertical-align: middle;\n",
       "    }\n",
       "\n",
       "    .dataframe tbody tr th {\n",
       "        vertical-align: top;\n",
       "    }\n",
       "\n",
       "    .dataframe thead th {\n",
       "        text-align: right;\n",
       "    }\n",
       "</style>\n",
       "<table border=\"1\" class=\"dataframe\">\n",
       "  <thead>\n",
       "    <tr style=\"text-align: right;\">\n",
       "      <th></th>\n",
       "      <th>scan_country</th>\n",
       "      <th>bottle_count</th>\n",
       "      <th>total_bottle_weight</th>\n",
       "      <th>country_name</th>\n",
       "      <th>population</th>\n",
       "      <th>bottle_count_per_capita</th>\n",
       "      <th>iso_alpha3</th>\n",
       "    </tr>\n",
       "  </thead>\n",
       "  <tbody>\n",
       "    <tr>\n",
       "      <th>0</th>\n",
       "      <td>AO</td>\n",
       "      <td>543</td>\n",
       "      <td>15.196511</td>\n",
       "      <td>Angola</td>\n",
       "      <td>35589</td>\n",
       "      <td>0.015258</td>\n",
       "      <td>AGO</td>\n",
       "    </tr>\n",
       "    <tr>\n",
       "      <th>1</th>\n",
       "      <td>BE</td>\n",
       "      <td>48</td>\n",
       "      <td>1.142382</td>\n",
       "      <td>Belgium</td>\n",
       "      <td>11656</td>\n",
       "      <td>0.004118</td>\n",
       "      <td>BEL</td>\n",
       "    </tr>\n",
       "    <tr>\n",
       "      <th>2</th>\n",
       "      <td>BR</td>\n",
       "      <td>20</td>\n",
       "      <td>0.557427</td>\n",
       "      <td>Brazil</td>\n",
       "      <td>215313</td>\n",
       "      <td>0.000093</td>\n",
       "      <td>BRA</td>\n",
       "    </tr>\n",
       "    <tr>\n",
       "      <th>3</th>\n",
       "      <td>CA</td>\n",
       "      <td>5975</td>\n",
       "      <td>163.104544</td>\n",
       "      <td>Canada</td>\n",
       "      <td>38454</td>\n",
       "      <td>0.155380</td>\n",
       "      <td>CAN</td>\n",
       "    </tr>\n",
       "    <tr>\n",
       "      <th>4</th>\n",
       "      <td>CD</td>\n",
       "      <td>15356</td>\n",
       "      <td>222.929782</td>\n",
       "      <td>DR Congo</td>\n",
       "      <td>99010</td>\n",
       "      <td>0.155095</td>\n",
       "      <td>COD</td>\n",
       "    </tr>\n",
       "    <tr>\n",
       "      <th>5</th>\n",
       "      <td>CH</td>\n",
       "      <td>23</td>\n",
       "      <td>0.703474</td>\n",
       "      <td>Switzerland</td>\n",
       "      <td>8740</td>\n",
       "      <td>0.002632</td>\n",
       "      <td>CHE</td>\n",
       "    </tr>\n",
       "    <tr>\n",
       "      <th>6</th>\n",
       "      <td>ES</td>\n",
       "      <td>991</td>\n",
       "      <td>37.685292</td>\n",
       "      <td>Spain</td>\n",
       "      <td>47559</td>\n",
       "      <td>0.020837</td>\n",
       "      <td>ESP</td>\n",
       "    </tr>\n",
       "    <tr>\n",
       "      <th>7</th>\n",
       "      <td>FR</td>\n",
       "      <td>36</td>\n",
       "      <td>1.692000</td>\n",
       "      <td>France</td>\n",
       "      <td>64627</td>\n",
       "      <td>0.000557</td>\n",
       "      <td>FRA</td>\n",
       "    </tr>\n",
       "    <tr>\n",
       "      <th>8</th>\n",
       "      <td>GB</td>\n",
       "      <td>9455</td>\n",
       "      <td>258.869109</td>\n",
       "      <td>United Kingdom</td>\n",
       "      <td>67509</td>\n",
       "      <td>0.140055</td>\n",
       "      <td>GBR</td>\n",
       "    </tr>\n",
       "    <tr>\n",
       "      <th>9</th>\n",
       "      <td>KE</td>\n",
       "      <td>112600</td>\n",
       "      <td>3053.625241</td>\n",
       "      <td>Kenya</td>\n",
       "      <td>54027</td>\n",
       "      <td>2.084143</td>\n",
       "      <td>KEN</td>\n",
       "    </tr>\n",
       "    <tr>\n",
       "      <th>10</th>\n",
       "      <td>MW</td>\n",
       "      <td>73537</td>\n",
       "      <td>2016.181807</td>\n",
       "      <td>Malawi</td>\n",
       "      <td>20405</td>\n",
       "      <td>3.603872</td>\n",
       "      <td>MWI</td>\n",
       "    </tr>\n",
       "    <tr>\n",
       "      <th>11</th>\n",
       "      <td>MZ</td>\n",
       "      <td>2284083</td>\n",
       "      <td>69937.294571</td>\n",
       "      <td>Mozambique</td>\n",
       "      <td>32970</td>\n",
       "      <td>69.277616</td>\n",
       "      <td>MOZ</td>\n",
       "    </tr>\n",
       "    <tr>\n",
       "      <th>12</th>\n",
       "      <td>NG</td>\n",
       "      <td>5</td>\n",
       "      <td>0.118998</td>\n",
       "      <td>Nigeria</td>\n",
       "      <td>218541</td>\n",
       "      <td>0.000023</td>\n",
       "      <td>NGA</td>\n",
       "    </tr>\n",
       "    <tr>\n",
       "      <th>13</th>\n",
       "      <td>NL</td>\n",
       "      <td>15</td>\n",
       "      <td>0.540000</td>\n",
       "      <td>Netherlands</td>\n",
       "      <td>17564</td>\n",
       "      <td>0.000854</td>\n",
       "      <td>NLD</td>\n",
       "    </tr>\n",
       "    <tr>\n",
       "      <th>14</th>\n",
       "      <td>QA</td>\n",
       "      <td>37</td>\n",
       "      <td>1.131676</td>\n",
       "      <td>Qatar</td>\n",
       "      <td>2695</td>\n",
       "      <td>0.013729</td>\n",
       "      <td>QAT</td>\n",
       "    </tr>\n",
       "    <tr>\n",
       "      <th>15</th>\n",
       "      <td>RW</td>\n",
       "      <td>156295</td>\n",
       "      <td>4222.823761</td>\n",
       "      <td>Rwanda</td>\n",
       "      <td>13777</td>\n",
       "      <td>11.344632</td>\n",
       "      <td>RWA</td>\n",
       "    </tr>\n",
       "    <tr>\n",
       "      <th>16</th>\n",
       "      <td>SL</td>\n",
       "      <td>10</td>\n",
       "      <td>0.305858</td>\n",
       "      <td>Sierra Leone</td>\n",
       "      <td>8606</td>\n",
       "      <td>0.001162</td>\n",
       "      <td>SLE</td>\n",
       "    </tr>\n",
       "    <tr>\n",
       "      <th>17</th>\n",
       "      <td>TZ</td>\n",
       "      <td>452141</td>\n",
       "      <td>12438.147444</td>\n",
       "      <td>Tanzania</td>\n",
       "      <td>65498</td>\n",
       "      <td>6.903127</td>\n",
       "      <td>TZA</td>\n",
       "    </tr>\n",
       "    <tr>\n",
       "      <th>18</th>\n",
       "      <td>UG</td>\n",
       "      <td>8055</td>\n",
       "      <td>233.112293</td>\n",
       "      <td>Uganda</td>\n",
       "      <td>47250</td>\n",
       "      <td>0.170476</td>\n",
       "      <td>UGA</td>\n",
       "    </tr>\n",
       "    <tr>\n",
       "      <th>19</th>\n",
       "      <td>ZA</td>\n",
       "      <td>4002</td>\n",
       "      <td>138.587516</td>\n",
       "      <td>South Africa</td>\n",
       "      <td>59894</td>\n",
       "      <td>0.066818</td>\n",
       "      <td>ZAF</td>\n",
       "    </tr>\n",
       "    <tr>\n",
       "      <th>20</th>\n",
       "      <td>ZM</td>\n",
       "      <td>18527</td>\n",
       "      <td>443.503276</td>\n",
       "      <td>Zambia</td>\n",
       "      <td>20018</td>\n",
       "      <td>0.925517</td>\n",
       "      <td>ZMB</td>\n",
       "    </tr>\n",
       "  </tbody>\n",
       "</table>\n",
       "</div>"
      ],
      "text/plain": [
       "   scan_country  bottle_count  total_bottle_weight    country_name  \\\n",
       "0            AO           543            15.196511          Angola   \n",
       "1            BE            48             1.142382         Belgium   \n",
       "2            BR            20             0.557427          Brazil   \n",
       "3            CA          5975           163.104544          Canada   \n",
       "4            CD         15356           222.929782        DR Congo   \n",
       "5            CH            23             0.703474     Switzerland   \n",
       "6            ES           991            37.685292           Spain   \n",
       "7            FR            36             1.692000          France   \n",
       "8            GB          9455           258.869109  United Kingdom   \n",
       "9            KE        112600          3053.625241           Kenya   \n",
       "10           MW         73537          2016.181807          Malawi   \n",
       "11           MZ       2284083         69937.294571      Mozambique   \n",
       "12           NG             5             0.118998         Nigeria   \n",
       "13           NL            15             0.540000     Netherlands   \n",
       "14           QA            37             1.131676           Qatar   \n",
       "15           RW        156295          4222.823761          Rwanda   \n",
       "16           SL            10             0.305858    Sierra Leone   \n",
       "17           TZ        452141         12438.147444        Tanzania   \n",
       "18           UG          8055           233.112293          Uganda   \n",
       "19           ZA          4002           138.587516    South Africa   \n",
       "20           ZM         18527           443.503276          Zambia   \n",
       "\n",
       "    population  bottle_count_per_capita iso_alpha3  \n",
       "0        35589                 0.015258        AGO  \n",
       "1        11656                 0.004118        BEL  \n",
       "2       215313                 0.000093        BRA  \n",
       "3        38454                 0.155380        CAN  \n",
       "4        99010                 0.155095        COD  \n",
       "5         8740                 0.002632        CHE  \n",
       "6        47559                 0.020837        ESP  \n",
       "7        64627                 0.000557        FRA  \n",
       "8        67509                 0.140055        GBR  \n",
       "9        54027                 2.084143        KEN  \n",
       "10       20405                 3.603872        MWI  \n",
       "11       32970                69.277616        MOZ  \n",
       "12      218541                 0.000023        NGA  \n",
       "13       17564                 0.000854        NLD  \n",
       "14        2695                 0.013729        QAT  \n",
       "15       13777                11.344632        RWA  \n",
       "16        8606                 0.001162        SLE  \n",
       "17       65498                 6.903127        TZA  \n",
       "18       47250                 0.170476        UGA  \n",
       "19       59894                 0.066818        ZAF  \n",
       "20       20018                 0.925517        ZMB  "
      ]
     },
     "execution_count": 276,
     "metadata": {},
     "output_type": "execute_result"
    }
   ],
   "source": [
    "import pycountry\n",
    "\n",
    "# Map two-letter country codes to ISO alpha-3 codes\n",
    "merged_mapping_df['iso_alpha3'] = merged_mapping_df['scan_country'].apply(\n",
    "    lambda x: pycountry.countries.get(alpha_2=x).alpha_3 if pycountry.countries.get(alpha_2=x) else None\n",
    ")\n",
    "\n",
    "merged_mapping_df"
   ]
  },
  {
   "attachments": {},
   "cell_type": "markdown",
   "id": "55bfb00d",
   "metadata": {},
   "source": [
    "## Data Analysis"
   ]
  },
  {
   "attachments": {},
   "cell_type": "markdown",
   "id": "20a177e6",
   "metadata": {},
   "source": [
    "### 1. Plastic bottle count, Plastic bottle count per capita, Plastic bottle weight"
   ]
  },
  {
   "attachments": {},
   "cell_type": "markdown",
   "id": "38580b5f",
   "metadata": {},
   "source": [
    "***World map showing plasic bottle count and bottle count per capita for each country***"
   ]
  },
  {
   "cell_type": "code",
   "execution_count": 277,
   "id": "ca2af4ca",
   "metadata": {},
   "outputs": [
    {
     "data": {
      "application/vnd.plotly.v1+json": {
       "config": {
        "plotlyServerURL": "https://plot.ly"
       },
       "data": [
        {
         "autocolorscale": false,
         "colorbar": {
          "title": {
           "text": "BottleCount<br>PerCapita<br>(Per Person)<br>Scale"
          }
         },
         "colorscale": [
          [
           0,
           "green"
          ],
          [
           0.1,
           "yellow"
          ],
          [
           0.2,
           "orange"
          ],
          [
           0.3,
           "orange"
          ],
          [
           0.4,
           "orange"
          ],
          [
           0.5,
           "orange"
          ],
          [
           0.6,
           "orange"
          ],
          [
           0.7,
           "red"
          ],
          [
           0.8,
           "red"
          ],
          [
           0.9,
           "red"
          ],
          [
           1,
           "red"
          ]
         ],
         "customdata": [
          543,
          48,
          20,
          5975,
          15356,
          23,
          991,
          36,
          9455,
          112600,
          73537,
          2284083,
          5,
          15,
          37,
          156295,
          10,
          452141,
          8055,
          4002,
          18527
         ],
         "hovertemplate": "%{hovertext}",
         "hovertext": [
          "Angola<br>Bottle Count Per Capita: 0.0153<br>Bottle Count: 543",
          "Belgium<br>Bottle Count Per Capita: 0.0041<br>Bottle Count: 48",
          "Brazil<br>Bottle Count Per Capita: 0.0001<br>Bottle Count: 20",
          "Canada<br>Bottle Count Per Capita: 0.1554<br>Bottle Count: 5975",
          "DR Congo<br>Bottle Count Per Capita: 0.1551<br>Bottle Count: 15356",
          "Switzerland<br>Bottle Count Per Capita: 0.0026<br>Bottle Count: 23",
          "Spain<br>Bottle Count Per Capita: 0.0208<br>Bottle Count: 991",
          "France<br>Bottle Count Per Capita: 0.0006<br>Bottle Count: 36",
          "United Kingdom<br>Bottle Count Per Capita: 0.1401<br>Bottle Count: 9455",
          "Kenya<br>Bottle Count Per Capita: 2.0841<br>Bottle Count: 112600",
          "Malawi<br>Bottle Count Per Capita: 3.6039<br>Bottle Count: 73537",
          "Mozambique<br>Bottle Count Per Capita: 69.2776<br>Bottle Count: 2284083",
          "Nigeria<br>Bottle Count Per Capita: 0.0000<br>Bottle Count: 5",
          "Netherlands<br>Bottle Count Per Capita: 0.0009<br>Bottle Count: 15",
          "Qatar<br>Bottle Count Per Capita: 0.0137<br>Bottle Count: 37",
          "Rwanda<br>Bottle Count Per Capita: 11.3446<br>Bottle Count: 156295",
          "Sierra Leone<br>Bottle Count Per Capita: 0.0012<br>Bottle Count: 10",
          "Tanzania<br>Bottle Count Per Capita: 6.9031<br>Bottle Count: 452141",
          "Uganda<br>Bottle Count Per Capita: 0.1705<br>Bottle Count: 8055",
          "South Africa<br>Bottle Count Per Capita: 0.0668<br>Bottle Count: 4002",
          "Zambia<br>Bottle Count Per Capita: 0.9255<br>Bottle Count: 18527"
         ],
         "locations": [
          "AGO",
          "BEL",
          "BRA",
          "CAN",
          "COD",
          "CHE",
          "ESP",
          "FRA",
          "GBR",
          "KEN",
          "MWI",
          "MOZ",
          "NGA",
          "NLD",
          "QAT",
          "RWA",
          "SLE",
          "TZA",
          "UGA",
          "ZAF",
          "ZMB"
         ],
         "marker": {
          "line": {
           "color": "white",
           "width": 0.5
          }
         },
         "text": [
          "Angola",
          "Belgium",
          "Brazil",
          "Canada",
          "DR Congo",
          "Switzerland",
          "Spain",
          "France",
          "United Kingdom",
          "Kenya",
          "Malawi",
          "Mozambique",
          "Nigeria",
          "Netherlands",
          "Qatar",
          "Rwanda",
          "Sierra Leone",
          "Tanzania",
          "Uganda",
          "South Africa",
          "Zambia"
         ],
         "type": "choropleth",
         "z": [
          0.015257523392059344,
          0.004118050789293068,
          0.00009288802812649492,
          0.15538045456909555,
          0.1550954449045551,
          0.002631578947368421,
          0.02083727580478984,
          0.0005570427220821019,
          0.14005540002073796,
          2.084143113628371,
          3.603871600098015,
          69.27761601455869,
          0.000022879002109443993,
          0.0008540195855158278,
          0.013729128014842301,
          11.34463235827829,
          0.0011619800139437602,
          6.903126813032459,
          0.17047619047619048,
          0.06681804521321,
          0.9255170346687981
         ],
         "zmax": 11.34463235827829,
         "zmin": 0
        }
       ],
       "layout": {
        "coloraxis": {
         "colorbar": {
          "len": 0.5,
          "thickness": 0.05,
          "thicknessmode": "fraction",
          "title": {
           "side": "top",
           "text": "BottleCount PerCapita<br>Scale"
          },
          "x": 0.1,
          "y": 0.5
         }
        },
        "geo": {
         "center": {
          "lat": 0,
          "lon": 0
         },
         "projection": {
          "scale": 1.25,
          "type": "equirectangular"
         },
         "showcoastlines": true,
         "showframe": true
        },
        "margin": {
         "b": 30,
         "l": 30,
         "r": 30,
         "t": 30
        },
        "template": {
         "data": {
          "bar": [
           {
            "error_x": {
             "color": "#2a3f5f"
            },
            "error_y": {
             "color": "#2a3f5f"
            },
            "marker": {
             "line": {
              "color": "#E5ECF6",
              "width": 0.5
             },
             "pattern": {
              "fillmode": "overlay",
              "size": 10,
              "solidity": 0.2
             }
            },
            "type": "bar"
           }
          ],
          "barpolar": [
           {
            "marker": {
             "line": {
              "color": "#E5ECF6",
              "width": 0.5
             },
             "pattern": {
              "fillmode": "overlay",
              "size": 10,
              "solidity": 0.2
             }
            },
            "type": "barpolar"
           }
          ],
          "carpet": [
           {
            "aaxis": {
             "endlinecolor": "#2a3f5f",
             "gridcolor": "white",
             "linecolor": "white",
             "minorgridcolor": "white",
             "startlinecolor": "#2a3f5f"
            },
            "baxis": {
             "endlinecolor": "#2a3f5f",
             "gridcolor": "white",
             "linecolor": "white",
             "minorgridcolor": "white",
             "startlinecolor": "#2a3f5f"
            },
            "type": "carpet"
           }
          ],
          "choropleth": [
           {
            "colorbar": {
             "outlinewidth": 0,
             "ticks": ""
            },
            "type": "choropleth"
           }
          ],
          "contour": [
           {
            "colorbar": {
             "outlinewidth": 0,
             "ticks": ""
            },
            "colorscale": [
             [
              0,
              "#0d0887"
             ],
             [
              0.1111111111111111,
              "#46039f"
             ],
             [
              0.2222222222222222,
              "#7201a8"
             ],
             [
              0.3333333333333333,
              "#9c179e"
             ],
             [
              0.4444444444444444,
              "#bd3786"
             ],
             [
              0.5555555555555556,
              "#d8576b"
             ],
             [
              0.6666666666666666,
              "#ed7953"
             ],
             [
              0.7777777777777778,
              "#fb9f3a"
             ],
             [
              0.8888888888888888,
              "#fdca26"
             ],
             [
              1,
              "#f0f921"
             ]
            ],
            "type": "contour"
           }
          ],
          "contourcarpet": [
           {
            "colorbar": {
             "outlinewidth": 0,
             "ticks": ""
            },
            "type": "contourcarpet"
           }
          ],
          "heatmap": [
           {
            "colorbar": {
             "outlinewidth": 0,
             "ticks": ""
            },
            "colorscale": [
             [
              0,
              "#0d0887"
             ],
             [
              0.1111111111111111,
              "#46039f"
             ],
             [
              0.2222222222222222,
              "#7201a8"
             ],
             [
              0.3333333333333333,
              "#9c179e"
             ],
             [
              0.4444444444444444,
              "#bd3786"
             ],
             [
              0.5555555555555556,
              "#d8576b"
             ],
             [
              0.6666666666666666,
              "#ed7953"
             ],
             [
              0.7777777777777778,
              "#fb9f3a"
             ],
             [
              0.8888888888888888,
              "#fdca26"
             ],
             [
              1,
              "#f0f921"
             ]
            ],
            "type": "heatmap"
           }
          ],
          "heatmapgl": [
           {
            "colorbar": {
             "outlinewidth": 0,
             "ticks": ""
            },
            "colorscale": [
             [
              0,
              "#0d0887"
             ],
             [
              0.1111111111111111,
              "#46039f"
             ],
             [
              0.2222222222222222,
              "#7201a8"
             ],
             [
              0.3333333333333333,
              "#9c179e"
             ],
             [
              0.4444444444444444,
              "#bd3786"
             ],
             [
              0.5555555555555556,
              "#d8576b"
             ],
             [
              0.6666666666666666,
              "#ed7953"
             ],
             [
              0.7777777777777778,
              "#fb9f3a"
             ],
             [
              0.8888888888888888,
              "#fdca26"
             ],
             [
              1,
              "#f0f921"
             ]
            ],
            "type": "heatmapgl"
           }
          ],
          "histogram": [
           {
            "marker": {
             "pattern": {
              "fillmode": "overlay",
              "size": 10,
              "solidity": 0.2
             }
            },
            "type": "histogram"
           }
          ],
          "histogram2d": [
           {
            "colorbar": {
             "outlinewidth": 0,
             "ticks": ""
            },
            "colorscale": [
             [
              0,
              "#0d0887"
             ],
             [
              0.1111111111111111,
              "#46039f"
             ],
             [
              0.2222222222222222,
              "#7201a8"
             ],
             [
              0.3333333333333333,
              "#9c179e"
             ],
             [
              0.4444444444444444,
              "#bd3786"
             ],
             [
              0.5555555555555556,
              "#d8576b"
             ],
             [
              0.6666666666666666,
              "#ed7953"
             ],
             [
              0.7777777777777778,
              "#fb9f3a"
             ],
             [
              0.8888888888888888,
              "#fdca26"
             ],
             [
              1,
              "#f0f921"
             ]
            ],
            "type": "histogram2d"
           }
          ],
          "histogram2dcontour": [
           {
            "colorbar": {
             "outlinewidth": 0,
             "ticks": ""
            },
            "colorscale": [
             [
              0,
              "#0d0887"
             ],
             [
              0.1111111111111111,
              "#46039f"
             ],
             [
              0.2222222222222222,
              "#7201a8"
             ],
             [
              0.3333333333333333,
              "#9c179e"
             ],
             [
              0.4444444444444444,
              "#bd3786"
             ],
             [
              0.5555555555555556,
              "#d8576b"
             ],
             [
              0.6666666666666666,
              "#ed7953"
             ],
             [
              0.7777777777777778,
              "#fb9f3a"
             ],
             [
              0.8888888888888888,
              "#fdca26"
             ],
             [
              1,
              "#f0f921"
             ]
            ],
            "type": "histogram2dcontour"
           }
          ],
          "mesh3d": [
           {
            "colorbar": {
             "outlinewidth": 0,
             "ticks": ""
            },
            "type": "mesh3d"
           }
          ],
          "parcoords": [
           {
            "line": {
             "colorbar": {
              "outlinewidth": 0,
              "ticks": ""
             }
            },
            "type": "parcoords"
           }
          ],
          "pie": [
           {
            "automargin": true,
            "type": "pie"
           }
          ],
          "scatter": [
           {
            "fillpattern": {
             "fillmode": "overlay",
             "size": 10,
             "solidity": 0.2
            },
            "type": "scatter"
           }
          ],
          "scatter3d": [
           {
            "line": {
             "colorbar": {
              "outlinewidth": 0,
              "ticks": ""
             }
            },
            "marker": {
             "colorbar": {
              "outlinewidth": 0,
              "ticks": ""
             }
            },
            "type": "scatter3d"
           }
          ],
          "scattercarpet": [
           {
            "marker": {
             "colorbar": {
              "outlinewidth": 0,
              "ticks": ""
             }
            },
            "type": "scattercarpet"
           }
          ],
          "scattergeo": [
           {
            "marker": {
             "colorbar": {
              "outlinewidth": 0,
              "ticks": ""
             }
            },
            "type": "scattergeo"
           }
          ],
          "scattergl": [
           {
            "marker": {
             "colorbar": {
              "outlinewidth": 0,
              "ticks": ""
             }
            },
            "type": "scattergl"
           }
          ],
          "scattermapbox": [
           {
            "marker": {
             "colorbar": {
              "outlinewidth": 0,
              "ticks": ""
             }
            },
            "type": "scattermapbox"
           }
          ],
          "scatterpolar": [
           {
            "marker": {
             "colorbar": {
              "outlinewidth": 0,
              "ticks": ""
             }
            },
            "type": "scatterpolar"
           }
          ],
          "scatterpolargl": [
           {
            "marker": {
             "colorbar": {
              "outlinewidth": 0,
              "ticks": ""
             }
            },
            "type": "scatterpolargl"
           }
          ],
          "scatterternary": [
           {
            "marker": {
             "colorbar": {
              "outlinewidth": 0,
              "ticks": ""
             }
            },
            "type": "scatterternary"
           }
          ],
          "surface": [
           {
            "colorbar": {
             "outlinewidth": 0,
             "ticks": ""
            },
            "colorscale": [
             [
              0,
              "#0d0887"
             ],
             [
              0.1111111111111111,
              "#46039f"
             ],
             [
              0.2222222222222222,
              "#7201a8"
             ],
             [
              0.3333333333333333,
              "#9c179e"
             ],
             [
              0.4444444444444444,
              "#bd3786"
             ],
             [
              0.5555555555555556,
              "#d8576b"
             ],
             [
              0.6666666666666666,
              "#ed7953"
             ],
             [
              0.7777777777777778,
              "#fb9f3a"
             ],
             [
              0.8888888888888888,
              "#fdca26"
             ],
             [
              1,
              "#f0f921"
             ]
            ],
            "type": "surface"
           }
          ],
          "table": [
           {
            "cells": {
             "fill": {
              "color": "#EBF0F8"
             },
             "line": {
              "color": "white"
             }
            },
            "header": {
             "fill": {
              "color": "#C8D4E3"
             },
             "line": {
              "color": "white"
             }
            },
            "type": "table"
           }
          ]
         },
         "layout": {
          "annotationdefaults": {
           "arrowcolor": "#2a3f5f",
           "arrowhead": 0,
           "arrowwidth": 1
          },
          "autotypenumbers": "strict",
          "coloraxis": {
           "colorbar": {
            "outlinewidth": 0,
            "ticks": ""
           }
          },
          "colorscale": {
           "diverging": [
            [
             0,
             "#8e0152"
            ],
            [
             0.1,
             "#c51b7d"
            ],
            [
             0.2,
             "#de77ae"
            ],
            [
             0.3,
             "#f1b6da"
            ],
            [
             0.4,
             "#fde0ef"
            ],
            [
             0.5,
             "#f7f7f7"
            ],
            [
             0.6,
             "#e6f5d0"
            ],
            [
             0.7,
             "#b8e186"
            ],
            [
             0.8,
             "#7fbc41"
            ],
            [
             0.9,
             "#4d9221"
            ],
            [
             1,
             "#276419"
            ]
           ],
           "sequential": [
            [
             0,
             "#0d0887"
            ],
            [
             0.1111111111111111,
             "#46039f"
            ],
            [
             0.2222222222222222,
             "#7201a8"
            ],
            [
             0.3333333333333333,
             "#9c179e"
            ],
            [
             0.4444444444444444,
             "#bd3786"
            ],
            [
             0.5555555555555556,
             "#d8576b"
            ],
            [
             0.6666666666666666,
             "#ed7953"
            ],
            [
             0.7777777777777778,
             "#fb9f3a"
            ],
            [
             0.8888888888888888,
             "#fdca26"
            ],
            [
             1,
             "#f0f921"
            ]
           ],
           "sequentialminus": [
            [
             0,
             "#0d0887"
            ],
            [
             0.1111111111111111,
             "#46039f"
            ],
            [
             0.2222222222222222,
             "#7201a8"
            ],
            [
             0.3333333333333333,
             "#9c179e"
            ],
            [
             0.4444444444444444,
             "#bd3786"
            ],
            [
             0.5555555555555556,
             "#d8576b"
            ],
            [
             0.6666666666666666,
             "#ed7953"
            ],
            [
             0.7777777777777778,
             "#fb9f3a"
            ],
            [
             0.8888888888888888,
             "#fdca26"
            ],
            [
             1,
             "#f0f921"
            ]
           ]
          },
          "colorway": [
           "#636efa",
           "#EF553B",
           "#00cc96",
           "#ab63fa",
           "#FFA15A",
           "#19d3f3",
           "#FF6692",
           "#B6E880",
           "#FF97FF",
           "#FECB52"
          ],
          "font": {
           "color": "#2a3f5f"
          },
          "geo": {
           "bgcolor": "white",
           "lakecolor": "white",
           "landcolor": "#E5ECF6",
           "showlakes": true,
           "showland": true,
           "subunitcolor": "white"
          },
          "hoverlabel": {
           "align": "left"
          },
          "hovermode": "closest",
          "mapbox": {
           "style": "light"
          },
          "paper_bgcolor": "white",
          "plot_bgcolor": "#E5ECF6",
          "polar": {
           "angularaxis": {
            "gridcolor": "white",
            "linecolor": "white",
            "ticks": ""
           },
           "bgcolor": "#E5ECF6",
           "radialaxis": {
            "gridcolor": "white",
            "linecolor": "white",
            "ticks": ""
           }
          },
          "scene": {
           "xaxis": {
            "backgroundcolor": "#E5ECF6",
            "gridcolor": "white",
            "gridwidth": 2,
            "linecolor": "white",
            "showbackground": true,
            "ticks": "",
            "zerolinecolor": "white"
           },
           "yaxis": {
            "backgroundcolor": "#E5ECF6",
            "gridcolor": "white",
            "gridwidth": 2,
            "linecolor": "white",
            "showbackground": true,
            "ticks": "",
            "zerolinecolor": "white"
           },
           "zaxis": {
            "backgroundcolor": "#E5ECF6",
            "gridcolor": "white",
            "gridwidth": 2,
            "linecolor": "white",
            "showbackground": true,
            "ticks": "",
            "zerolinecolor": "white"
           }
          },
          "shapedefaults": {
           "line": {
            "color": "#2a3f5f"
           }
          },
          "ternary": {
           "aaxis": {
            "gridcolor": "white",
            "linecolor": "white",
            "ticks": ""
           },
           "baxis": {
            "gridcolor": "white",
            "linecolor": "white",
            "ticks": ""
           },
           "bgcolor": "#E5ECF6",
           "caxis": {
            "gridcolor": "white",
            "linecolor": "white",
            "ticks": ""
           }
          },
          "title": {
           "x": 0.05
          },
          "xaxis": {
           "automargin": true,
           "gridcolor": "white",
           "linecolor": "white",
           "ticks": "",
           "title": {
            "standoff": 15
           },
           "zerolinecolor": "white",
           "zerolinewidth": 2
          },
          "yaxis": {
           "automargin": true,
           "gridcolor": "white",
           "linecolor": "white",
           "ticks": "",
           "title": {
            "standoff": 15
           },
           "zerolinecolor": "white",
           "zerolinewidth": 2
          }
         }
        },
        "title": {
         "text": "Plastic Bottle Count and Bottle Count Per Capita for Each Country"
        }
       }
      }
     },
     "metadata": {},
     "output_type": "display_data"
    }
   ],
   "source": [
    "import plotly.graph_objects as go\n",
    "import numpy as np\n",
    "\n",
    "# Define color categories\n",
    "colors = {\n",
    "    'black': [merged_mapping_df['iso_alpha3'].iloc[merged_mapping_df['bottle_count_per_capita'].idxmax()]],\n",
    "    'red': merged_mapping_df.nlargest(6, 'bottle_count_per_capita')['iso_alpha3'].tolist(),\n",
    "    'green': merged_mapping_df.nlargest(11, 'bottle_count_per_capita')['iso_alpha3'].tolist()[6:],\n",
    "    'skyblue': merged_mapping_df.nsmallest(len(merged_mapping_df) - 17, 'bottle_count_per_capita')['iso_alpha3'].tolist()\n",
    "}\n",
    "\n",
    "# Create a Choropleth map using the merged_mapping_df DataFrame\n",
    "fig = go.Figure(data=go.Choropleth(\n",
    "    locations=merged_mapping_df['iso_alpha3'],\n",
    "    text=merged_mapping_df['country_name'],\n",
    "    z=merged_mapping_df['bottle_count_per_capita'],\n",
    "    customdata=merged_mapping_df['bottle_count'],\n",
    "    colorscale=['green'] + ['yellow'] + ['orange'] * 5 + ['red'] * (len(merged_mapping_df) - 17),\n",
    "    autocolorscale=False,\n",
    "    marker_line_color='white',\n",
    "    marker_line_width=0.5,\n",
    "    colorbar_title='BottleCount<br>PerCapita<br>(Per Person)<br>Scale',\n",
    "    zmin=0,  # Set the minimum value of the color scale\n",
    "    zmax=np.percentile(merged_mapping_df['bottle_count_per_capita'], 95)  # Adjust the percentile as needed\n",
    "))\n",
    "\n",
    "\n",
    "\n",
    "\n",
    "fig.update_layout(\n",
    "    title='Plastic Bottle Count and Bottle Count Per Capita for Each Country',\n",
    "    geo=dict(\n",
    "        showframe=True,\n",
    "        showcoastlines=True,\n",
    "        projection_type='equirectangular',\n",
    "        center=dict(lat=0, lon=0),\n",
    "        projection_scale=1.25\n",
    "    ),\n",
    "    margin=dict(l=30, r=30, t=30, b=30),\n",
    "    coloraxis_colorbar=dict(\n",
    "        len=0.5,  # Adjust the length of the colorbar\n",
    "        x=0.1,  # Position the colorbar closer to the map (0 is leftmost, 1 is rightmost)\n",
    "        y=0.5,  # Position the colorbar vertically in the middle (0 is bottom, 1 is top)\n",
    "        thicknessmode='fraction',\n",
    "        thickness=0.05,\n",
    "        title='BottleCount PerCapita<br>Scale',  # Modify the title of the colorbar\n",
    "        titleside='top'  # Position the title at the top of the colorbar\n",
    "    )\n",
    ")\n",
    "\n",
    "\n",
    "\n",
    "\n",
    "# Update trace colors based on color categories\n",
    "for color, countries in colors.items():\n",
    "    indices = [i for i, country in enumerate(merged_mapping_df['iso_alpha3']) if country in countries]\n",
    "    fig1.update_traces(marker=dict(color=color), selector=dict(indices=indices))\n",
    "\n",
    "# Update hover text and hover template\n",
    "fig.update_traces(hovertext=merged_mapping_df['country_name'] + '<br>Bottle Count Per Capita: ' +\n",
    "                           merged_mapping_df['bottle_count_per_capita'].apply(lambda x: f'{x:.4f}') +\n",
    "                           '<br>Bottle Count: ' + merged_mapping_df['bottle_count'].astype(str),\n",
    "                  hovertemplate='%{hovertext}')\n",
    "\n",
    "# Show the map\n",
    "fig.show()\n"
   ]
  },
  {
   "attachments": {},
   "cell_type": "markdown",
   "id": "e7bf8c7c",
   "metadata": {},
   "source": [
    "***Bar Plot showing plasic bottle count per capita for each country***"
   ]
  },
  {
   "cell_type": "code",
   "execution_count": 278,
   "id": "458b9df6",
   "metadata": {},
   "outputs": [
    {
     "data": {
      "application/vnd.plotly.v1+json": {
       "config": {
        "plotlyServerURL": "https://plot.ly"
       },
       "data": [
        {
         "orientation": "h",
         "type": "bar",
         "x": [
          69.27761601455869,
          11.34463235827829,
          6.903126813032459,
          3.603871600098015,
          2.084143113628371,
          0.9255170346687981,
          0.17047619047619048,
          0.15538045456909555,
          0.1550954449045551,
          0.14005540002073796,
          0.06681804521321,
          0.02083727580478984,
          0.015257523392059344,
          0.013729128014842301,
          0.004118050789293068,
          0.002631578947368421,
          0.0011619800139437602,
          0.0008540195855158278,
          0.0005570427220821019,
          0.00009288802812649492,
          0.000022879002109443993
         ],
         "y": [
          "Mozambique",
          "Rwanda",
          "Tanzania",
          "Malawi",
          "Kenya",
          "Zambia",
          "Uganda",
          "Canada",
          "DR Congo",
          "United Kingdom",
          "South Africa",
          "Spain",
          "Angola",
          "Qatar",
          "Belgium",
          "Switzerland",
          "Sierra Leone",
          "Netherlands",
          "France",
          "Brazil",
          "Nigeria"
         ]
        }
       ],
       "layout": {
        "bargap": 0.1,
        "bargroupgap": 0.05,
        "height": 600,
        "template": {
         "data": {
          "bar": [
           {
            "error_x": {
             "color": "#2a3f5f"
            },
            "error_y": {
             "color": "#2a3f5f"
            },
            "marker": {
             "line": {
              "color": "#E5ECF6",
              "width": 0.5
             },
             "pattern": {
              "fillmode": "overlay",
              "size": 10,
              "solidity": 0.2
             }
            },
            "type": "bar"
           }
          ],
          "barpolar": [
           {
            "marker": {
             "line": {
              "color": "#E5ECF6",
              "width": 0.5
             },
             "pattern": {
              "fillmode": "overlay",
              "size": 10,
              "solidity": 0.2
             }
            },
            "type": "barpolar"
           }
          ],
          "carpet": [
           {
            "aaxis": {
             "endlinecolor": "#2a3f5f",
             "gridcolor": "white",
             "linecolor": "white",
             "minorgridcolor": "white",
             "startlinecolor": "#2a3f5f"
            },
            "baxis": {
             "endlinecolor": "#2a3f5f",
             "gridcolor": "white",
             "linecolor": "white",
             "minorgridcolor": "white",
             "startlinecolor": "#2a3f5f"
            },
            "type": "carpet"
           }
          ],
          "choropleth": [
           {
            "colorbar": {
             "outlinewidth": 0,
             "ticks": ""
            },
            "type": "choropleth"
           }
          ],
          "contour": [
           {
            "colorbar": {
             "outlinewidth": 0,
             "ticks": ""
            },
            "colorscale": [
             [
              0,
              "#0d0887"
             ],
             [
              0.1111111111111111,
              "#46039f"
             ],
             [
              0.2222222222222222,
              "#7201a8"
             ],
             [
              0.3333333333333333,
              "#9c179e"
             ],
             [
              0.4444444444444444,
              "#bd3786"
             ],
             [
              0.5555555555555556,
              "#d8576b"
             ],
             [
              0.6666666666666666,
              "#ed7953"
             ],
             [
              0.7777777777777778,
              "#fb9f3a"
             ],
             [
              0.8888888888888888,
              "#fdca26"
             ],
             [
              1,
              "#f0f921"
             ]
            ],
            "type": "contour"
           }
          ],
          "contourcarpet": [
           {
            "colorbar": {
             "outlinewidth": 0,
             "ticks": ""
            },
            "type": "contourcarpet"
           }
          ],
          "heatmap": [
           {
            "colorbar": {
             "outlinewidth": 0,
             "ticks": ""
            },
            "colorscale": [
             [
              0,
              "#0d0887"
             ],
             [
              0.1111111111111111,
              "#46039f"
             ],
             [
              0.2222222222222222,
              "#7201a8"
             ],
             [
              0.3333333333333333,
              "#9c179e"
             ],
             [
              0.4444444444444444,
              "#bd3786"
             ],
             [
              0.5555555555555556,
              "#d8576b"
             ],
             [
              0.6666666666666666,
              "#ed7953"
             ],
             [
              0.7777777777777778,
              "#fb9f3a"
             ],
             [
              0.8888888888888888,
              "#fdca26"
             ],
             [
              1,
              "#f0f921"
             ]
            ],
            "type": "heatmap"
           }
          ],
          "heatmapgl": [
           {
            "colorbar": {
             "outlinewidth": 0,
             "ticks": ""
            },
            "colorscale": [
             [
              0,
              "#0d0887"
             ],
             [
              0.1111111111111111,
              "#46039f"
             ],
             [
              0.2222222222222222,
              "#7201a8"
             ],
             [
              0.3333333333333333,
              "#9c179e"
             ],
             [
              0.4444444444444444,
              "#bd3786"
             ],
             [
              0.5555555555555556,
              "#d8576b"
             ],
             [
              0.6666666666666666,
              "#ed7953"
             ],
             [
              0.7777777777777778,
              "#fb9f3a"
             ],
             [
              0.8888888888888888,
              "#fdca26"
             ],
             [
              1,
              "#f0f921"
             ]
            ],
            "type": "heatmapgl"
           }
          ],
          "histogram": [
           {
            "marker": {
             "pattern": {
              "fillmode": "overlay",
              "size": 10,
              "solidity": 0.2
             }
            },
            "type": "histogram"
           }
          ],
          "histogram2d": [
           {
            "colorbar": {
             "outlinewidth": 0,
             "ticks": ""
            },
            "colorscale": [
             [
              0,
              "#0d0887"
             ],
             [
              0.1111111111111111,
              "#46039f"
             ],
             [
              0.2222222222222222,
              "#7201a8"
             ],
             [
              0.3333333333333333,
              "#9c179e"
             ],
             [
              0.4444444444444444,
              "#bd3786"
             ],
             [
              0.5555555555555556,
              "#d8576b"
             ],
             [
              0.6666666666666666,
              "#ed7953"
             ],
             [
              0.7777777777777778,
              "#fb9f3a"
             ],
             [
              0.8888888888888888,
              "#fdca26"
             ],
             [
              1,
              "#f0f921"
             ]
            ],
            "type": "histogram2d"
           }
          ],
          "histogram2dcontour": [
           {
            "colorbar": {
             "outlinewidth": 0,
             "ticks": ""
            },
            "colorscale": [
             [
              0,
              "#0d0887"
             ],
             [
              0.1111111111111111,
              "#46039f"
             ],
             [
              0.2222222222222222,
              "#7201a8"
             ],
             [
              0.3333333333333333,
              "#9c179e"
             ],
             [
              0.4444444444444444,
              "#bd3786"
             ],
             [
              0.5555555555555556,
              "#d8576b"
             ],
             [
              0.6666666666666666,
              "#ed7953"
             ],
             [
              0.7777777777777778,
              "#fb9f3a"
             ],
             [
              0.8888888888888888,
              "#fdca26"
             ],
             [
              1,
              "#f0f921"
             ]
            ],
            "type": "histogram2dcontour"
           }
          ],
          "mesh3d": [
           {
            "colorbar": {
             "outlinewidth": 0,
             "ticks": ""
            },
            "type": "mesh3d"
           }
          ],
          "parcoords": [
           {
            "line": {
             "colorbar": {
              "outlinewidth": 0,
              "ticks": ""
             }
            },
            "type": "parcoords"
           }
          ],
          "pie": [
           {
            "automargin": true,
            "type": "pie"
           }
          ],
          "scatter": [
           {
            "fillpattern": {
             "fillmode": "overlay",
             "size": 10,
             "solidity": 0.2
            },
            "type": "scatter"
           }
          ],
          "scatter3d": [
           {
            "line": {
             "colorbar": {
              "outlinewidth": 0,
              "ticks": ""
             }
            },
            "marker": {
             "colorbar": {
              "outlinewidth": 0,
              "ticks": ""
             }
            },
            "type": "scatter3d"
           }
          ],
          "scattercarpet": [
           {
            "marker": {
             "colorbar": {
              "outlinewidth": 0,
              "ticks": ""
             }
            },
            "type": "scattercarpet"
           }
          ],
          "scattergeo": [
           {
            "marker": {
             "colorbar": {
              "outlinewidth": 0,
              "ticks": ""
             }
            },
            "type": "scattergeo"
           }
          ],
          "scattergl": [
           {
            "marker": {
             "colorbar": {
              "outlinewidth": 0,
              "ticks": ""
             }
            },
            "type": "scattergl"
           }
          ],
          "scattermapbox": [
           {
            "marker": {
             "colorbar": {
              "outlinewidth": 0,
              "ticks": ""
             }
            },
            "type": "scattermapbox"
           }
          ],
          "scatterpolar": [
           {
            "marker": {
             "colorbar": {
              "outlinewidth": 0,
              "ticks": ""
             }
            },
            "type": "scatterpolar"
           }
          ],
          "scatterpolargl": [
           {
            "marker": {
             "colorbar": {
              "outlinewidth": 0,
              "ticks": ""
             }
            },
            "type": "scatterpolargl"
           }
          ],
          "scatterternary": [
           {
            "marker": {
             "colorbar": {
              "outlinewidth": 0,
              "ticks": ""
             }
            },
            "type": "scatterternary"
           }
          ],
          "surface": [
           {
            "colorbar": {
             "outlinewidth": 0,
             "ticks": ""
            },
            "colorscale": [
             [
              0,
              "#0d0887"
             ],
             [
              0.1111111111111111,
              "#46039f"
             ],
             [
              0.2222222222222222,
              "#7201a8"
             ],
             [
              0.3333333333333333,
              "#9c179e"
             ],
             [
              0.4444444444444444,
              "#bd3786"
             ],
             [
              0.5555555555555556,
              "#d8576b"
             ],
             [
              0.6666666666666666,
              "#ed7953"
             ],
             [
              0.7777777777777778,
              "#fb9f3a"
             ],
             [
              0.8888888888888888,
              "#fdca26"
             ],
             [
              1,
              "#f0f921"
             ]
            ],
            "type": "surface"
           }
          ],
          "table": [
           {
            "cells": {
             "fill": {
              "color": "#EBF0F8"
             },
             "line": {
              "color": "white"
             }
            },
            "header": {
             "fill": {
              "color": "#C8D4E3"
             },
             "line": {
              "color": "white"
             }
            },
            "type": "table"
           }
          ]
         },
         "layout": {
          "annotationdefaults": {
           "arrowcolor": "#2a3f5f",
           "arrowhead": 0,
           "arrowwidth": 1
          },
          "autotypenumbers": "strict",
          "coloraxis": {
           "colorbar": {
            "outlinewidth": 0,
            "ticks": ""
           }
          },
          "colorscale": {
           "diverging": [
            [
             0,
             "#8e0152"
            ],
            [
             0.1,
             "#c51b7d"
            ],
            [
             0.2,
             "#de77ae"
            ],
            [
             0.3,
             "#f1b6da"
            ],
            [
             0.4,
             "#fde0ef"
            ],
            [
             0.5,
             "#f7f7f7"
            ],
            [
             0.6,
             "#e6f5d0"
            ],
            [
             0.7,
             "#b8e186"
            ],
            [
             0.8,
             "#7fbc41"
            ],
            [
             0.9,
             "#4d9221"
            ],
            [
             1,
             "#276419"
            ]
           ],
           "sequential": [
            [
             0,
             "#0d0887"
            ],
            [
             0.1111111111111111,
             "#46039f"
            ],
            [
             0.2222222222222222,
             "#7201a8"
            ],
            [
             0.3333333333333333,
             "#9c179e"
            ],
            [
             0.4444444444444444,
             "#bd3786"
            ],
            [
             0.5555555555555556,
             "#d8576b"
            ],
            [
             0.6666666666666666,
             "#ed7953"
            ],
            [
             0.7777777777777778,
             "#fb9f3a"
            ],
            [
             0.8888888888888888,
             "#fdca26"
            ],
            [
             1,
             "#f0f921"
            ]
           ],
           "sequentialminus": [
            [
             0,
             "#0d0887"
            ],
            [
             0.1111111111111111,
             "#46039f"
            ],
            [
             0.2222222222222222,
             "#7201a8"
            ],
            [
             0.3333333333333333,
             "#9c179e"
            ],
            [
             0.4444444444444444,
             "#bd3786"
            ],
            [
             0.5555555555555556,
             "#d8576b"
            ],
            [
             0.6666666666666666,
             "#ed7953"
            ],
            [
             0.7777777777777778,
             "#fb9f3a"
            ],
            [
             0.8888888888888888,
             "#fdca26"
            ],
            [
             1,
             "#f0f921"
            ]
           ]
          },
          "colorway": [
           "#636efa",
           "#EF553B",
           "#00cc96",
           "#ab63fa",
           "#FFA15A",
           "#19d3f3",
           "#FF6692",
           "#B6E880",
           "#FF97FF",
           "#FECB52"
          ],
          "font": {
           "color": "#2a3f5f"
          },
          "geo": {
           "bgcolor": "white",
           "lakecolor": "white",
           "landcolor": "#E5ECF6",
           "showlakes": true,
           "showland": true,
           "subunitcolor": "white"
          },
          "hoverlabel": {
           "align": "left"
          },
          "hovermode": "closest",
          "mapbox": {
           "style": "light"
          },
          "paper_bgcolor": "white",
          "plot_bgcolor": "#E5ECF6",
          "polar": {
           "angularaxis": {
            "gridcolor": "white",
            "linecolor": "white",
            "ticks": ""
           },
           "bgcolor": "#E5ECF6",
           "radialaxis": {
            "gridcolor": "white",
            "linecolor": "white",
            "ticks": ""
           }
          },
          "scene": {
           "xaxis": {
            "backgroundcolor": "#E5ECF6",
            "gridcolor": "white",
            "gridwidth": 2,
            "linecolor": "white",
            "showbackground": true,
            "ticks": "",
            "zerolinecolor": "white"
           },
           "yaxis": {
            "backgroundcolor": "#E5ECF6",
            "gridcolor": "white",
            "gridwidth": 2,
            "linecolor": "white",
            "showbackground": true,
            "ticks": "",
            "zerolinecolor": "white"
           },
           "zaxis": {
            "backgroundcolor": "#E5ECF6",
            "gridcolor": "white",
            "gridwidth": 2,
            "linecolor": "white",
            "showbackground": true,
            "ticks": "",
            "zerolinecolor": "white"
           }
          },
          "shapedefaults": {
           "line": {
            "color": "#2a3f5f"
           }
          },
          "ternary": {
           "aaxis": {
            "gridcolor": "white",
            "linecolor": "white",
            "ticks": ""
           },
           "baxis": {
            "gridcolor": "white",
            "linecolor": "white",
            "ticks": ""
           },
           "bgcolor": "#E5ECF6",
           "caxis": {
            "gridcolor": "white",
            "linecolor": "white",
            "ticks": ""
           }
          },
          "title": {
           "x": 0.05
          },
          "xaxis": {
           "automargin": true,
           "gridcolor": "white",
           "linecolor": "white",
           "ticks": "",
           "title": {
            "standoff": 15
           },
           "zerolinecolor": "white",
           "zerolinewidth": 2
          },
          "yaxis": {
           "automargin": true,
           "gridcolor": "white",
           "linecolor": "white",
           "ticks": "",
           "title": {
            "standoff": 15
           },
           "zerolinecolor": "white",
           "zerolinewidth": 2
          }
         }
        },
        "title": {
         "text": "Bottle Count per Capita by Country"
        },
        "width": 800,
        "xaxis": {
         "title": {
          "text": "Bottle Count Per Capita"
         }
        },
        "yaxis": {
         "title": {
          "text": "Country"
         }
        }
       }
      }
     },
     "metadata": {},
     "output_type": "display_data"
    }
   ],
   "source": [
    "import plotly.graph_objects as go\n",
    "\n",
    "# Sort the data by bottle_count_per_capita in descending order\n",
    "bottle_count_per_capita_bar_df = merged_mapping_df.sort_values('bottle_count_per_capita', ascending=False)\n",
    "\n",
    "# Create the bar plot\n",
    "bar = go.Figure(data=go.Bar(\n",
    "    x=bottle_count_per_capita_bar_df['bottle_count_per_capita'],\n",
    "    y=bottle_count_per_capita_bar_df['country_name'],\n",
    "    orientation='h'\n",
    "))\n",
    "\n",
    "# Customize the layout\n",
    "bar.update_layout(\n",
    "    title='Bottle Count per Capita by Country',\n",
    "    xaxis_title='Bottle Count Per Capita',\n",
    "    yaxis_title='Country',\n",
    "    bargap=0.1,\n",
    "    bargroupgap=0.05,\n",
    "    height=600,\n",
    "    width=800\n",
    ")\n",
    "\n",
    "# Show the plot\n",
    "bar.show()\n"
   ]
  },
  {
   "cell_type": "code",
   "execution_count": null,
   "id": "80c3be1a",
   "metadata": {},
   "outputs": [],
   "source": []
  },
  {
   "cell_type": "code",
   "execution_count": null,
   "id": "8a47093a",
   "metadata": {},
   "outputs": [],
   "source": []
  },
  {
   "attachments": {},
   "cell_type": "markdown",
   "id": "add8cccb",
   "metadata": {},
   "source": [
    "***World map showing plasic bottle weight for each country***"
   ]
  },
  {
   "cell_type": "code",
   "execution_count": 279,
   "id": "f52b04ae",
   "metadata": {},
   "outputs": [
    {
     "data": {
      "application/vnd.plotly.v1+json": {
       "config": {
        "plotlyServerURL": "https://plot.ly"
       },
       "data": [
        {
         "autocolorscale": false,
         "colorbar": {
          "title": {
           "text": "Bottle Weight Scale (kg)"
          }
         },
         "colorscale": [
          [
           0,
           "green"
          ],
          [
           0.1,
           "yellow"
          ],
          [
           0.2,
           "orange"
          ],
          [
           0.3,
           "orange"
          ],
          [
           0.4,
           "orange"
          ],
          [
           0.5,
           "orange"
          ],
          [
           0.6,
           "orange"
          ],
          [
           0.7,
           "red"
          ],
          [
           0.8,
           "red"
          ],
          [
           0.9,
           "red"
          ],
          [
           1,
           "red"
          ]
         ],
         "hovertemplate": "<b>%{text}</b><extra></extra>",
         "locations": [
          "AGO",
          "BEL",
          "BRA",
          "CAN",
          "COD",
          "CHE",
          "ESP",
          "FRA",
          "GBR",
          "KEN",
          "MWI",
          "MOZ",
          "NGA",
          "NLD",
          "QAT",
          "RWA",
          "SLE",
          "TZA",
          "UGA",
          "ZAF",
          "ZMB"
         ],
         "marker": {
          "line": {
           "color": "white",
           "width": 0.5
          }
         },
         "text": [
          "Angola<br>Bottle Weight: 15.1965kg",
          "Belgium<br>Bottle Weight: 1.1424kg",
          "Brazil<br>Bottle Weight: 0.5574kg",
          "Canada<br>Bottle Weight: 163.1045kg",
          "DR Congo<br>Bottle Weight: 222.9298kg",
          "Switzerland<br>Bottle Weight: 0.7035kg",
          "Spain<br>Bottle Weight: 37.6853kg",
          "France<br>Bottle Weight: 1.6920kg",
          "United Kingdom<br>Bottle Weight: 258.8691kg",
          "Kenya<br>Bottle Weight: 3053.6252kg",
          "Malawi<br>Bottle Weight: 2016.1818kg",
          "Mozambique<br>Bottle Weight: 69937.2946kg",
          "Nigeria<br>Bottle Weight: 0.1190kg",
          "Netherlands<br>Bottle Weight: 0.5400kg",
          "Qatar<br>Bottle Weight: 1.1317kg",
          "Rwanda<br>Bottle Weight: 4222.8238kg",
          "Sierra Leone<br>Bottle Weight: 0.3059kg",
          "Tanzania<br>Bottle Weight: 12438.1474kg",
          "Uganda<br>Bottle Weight: 233.1123kg",
          "South Africa<br>Bottle Weight: 138.5875kg",
          "Zambia<br>Bottle Weight: 443.5033kg"
         ],
         "type": "choropleth",
         "z": [
          15.196510547968675,
          1.1423816091954022,
          0.5574271077180415,
          163.10454418980046,
          222.9297816348177,
          0.7034744979666032,
          37.685292485246606,
          1.6920000000000004,
          258.86910932254324,
          3053.6252414401442,
          2016.1818073239194,
          69937.29457143725,
          0.11899808429118774,
          0.5399999999999999,
          1.1316763662941014,
          4222.823760550675,
          0.3058584773767842,
          12438.147444373892,
          233.11229332756488,
          138.58751636627753,
          443.5032758116261
         ],
         "zmax": 12438.147444373892,
         "zmin": 0
        }
       ],
       "layout": {
        "geo": {
         "projection": {
          "type": "equirectangular"
         },
         "showcoastlines": true,
         "showframe": true
        },
        "margin": {
         "b": 30,
         "l": 30,
         "r": 30,
         "t": 30
        },
        "template": {
         "data": {
          "bar": [
           {
            "error_x": {
             "color": "#2a3f5f"
            },
            "error_y": {
             "color": "#2a3f5f"
            },
            "marker": {
             "line": {
              "color": "#E5ECF6",
              "width": 0.5
             },
             "pattern": {
              "fillmode": "overlay",
              "size": 10,
              "solidity": 0.2
             }
            },
            "type": "bar"
           }
          ],
          "barpolar": [
           {
            "marker": {
             "line": {
              "color": "#E5ECF6",
              "width": 0.5
             },
             "pattern": {
              "fillmode": "overlay",
              "size": 10,
              "solidity": 0.2
             }
            },
            "type": "barpolar"
           }
          ],
          "carpet": [
           {
            "aaxis": {
             "endlinecolor": "#2a3f5f",
             "gridcolor": "white",
             "linecolor": "white",
             "minorgridcolor": "white",
             "startlinecolor": "#2a3f5f"
            },
            "baxis": {
             "endlinecolor": "#2a3f5f",
             "gridcolor": "white",
             "linecolor": "white",
             "minorgridcolor": "white",
             "startlinecolor": "#2a3f5f"
            },
            "type": "carpet"
           }
          ],
          "choropleth": [
           {
            "colorbar": {
             "outlinewidth": 0,
             "ticks": ""
            },
            "type": "choropleth"
           }
          ],
          "contour": [
           {
            "colorbar": {
             "outlinewidth": 0,
             "ticks": ""
            },
            "colorscale": [
             [
              0,
              "#0d0887"
             ],
             [
              0.1111111111111111,
              "#46039f"
             ],
             [
              0.2222222222222222,
              "#7201a8"
             ],
             [
              0.3333333333333333,
              "#9c179e"
             ],
             [
              0.4444444444444444,
              "#bd3786"
             ],
             [
              0.5555555555555556,
              "#d8576b"
             ],
             [
              0.6666666666666666,
              "#ed7953"
             ],
             [
              0.7777777777777778,
              "#fb9f3a"
             ],
             [
              0.8888888888888888,
              "#fdca26"
             ],
             [
              1,
              "#f0f921"
             ]
            ],
            "type": "contour"
           }
          ],
          "contourcarpet": [
           {
            "colorbar": {
             "outlinewidth": 0,
             "ticks": ""
            },
            "type": "contourcarpet"
           }
          ],
          "heatmap": [
           {
            "colorbar": {
             "outlinewidth": 0,
             "ticks": ""
            },
            "colorscale": [
             [
              0,
              "#0d0887"
             ],
             [
              0.1111111111111111,
              "#46039f"
             ],
             [
              0.2222222222222222,
              "#7201a8"
             ],
             [
              0.3333333333333333,
              "#9c179e"
             ],
             [
              0.4444444444444444,
              "#bd3786"
             ],
             [
              0.5555555555555556,
              "#d8576b"
             ],
             [
              0.6666666666666666,
              "#ed7953"
             ],
             [
              0.7777777777777778,
              "#fb9f3a"
             ],
             [
              0.8888888888888888,
              "#fdca26"
             ],
             [
              1,
              "#f0f921"
             ]
            ],
            "type": "heatmap"
           }
          ],
          "heatmapgl": [
           {
            "colorbar": {
             "outlinewidth": 0,
             "ticks": ""
            },
            "colorscale": [
             [
              0,
              "#0d0887"
             ],
             [
              0.1111111111111111,
              "#46039f"
             ],
             [
              0.2222222222222222,
              "#7201a8"
             ],
             [
              0.3333333333333333,
              "#9c179e"
             ],
             [
              0.4444444444444444,
              "#bd3786"
             ],
             [
              0.5555555555555556,
              "#d8576b"
             ],
             [
              0.6666666666666666,
              "#ed7953"
             ],
             [
              0.7777777777777778,
              "#fb9f3a"
             ],
             [
              0.8888888888888888,
              "#fdca26"
             ],
             [
              1,
              "#f0f921"
             ]
            ],
            "type": "heatmapgl"
           }
          ],
          "histogram": [
           {
            "marker": {
             "pattern": {
              "fillmode": "overlay",
              "size": 10,
              "solidity": 0.2
             }
            },
            "type": "histogram"
           }
          ],
          "histogram2d": [
           {
            "colorbar": {
             "outlinewidth": 0,
             "ticks": ""
            },
            "colorscale": [
             [
              0,
              "#0d0887"
             ],
             [
              0.1111111111111111,
              "#46039f"
             ],
             [
              0.2222222222222222,
              "#7201a8"
             ],
             [
              0.3333333333333333,
              "#9c179e"
             ],
             [
              0.4444444444444444,
              "#bd3786"
             ],
             [
              0.5555555555555556,
              "#d8576b"
             ],
             [
              0.6666666666666666,
              "#ed7953"
             ],
             [
              0.7777777777777778,
              "#fb9f3a"
             ],
             [
              0.8888888888888888,
              "#fdca26"
             ],
             [
              1,
              "#f0f921"
             ]
            ],
            "type": "histogram2d"
           }
          ],
          "histogram2dcontour": [
           {
            "colorbar": {
             "outlinewidth": 0,
             "ticks": ""
            },
            "colorscale": [
             [
              0,
              "#0d0887"
             ],
             [
              0.1111111111111111,
              "#46039f"
             ],
             [
              0.2222222222222222,
              "#7201a8"
             ],
             [
              0.3333333333333333,
              "#9c179e"
             ],
             [
              0.4444444444444444,
              "#bd3786"
             ],
             [
              0.5555555555555556,
              "#d8576b"
             ],
             [
              0.6666666666666666,
              "#ed7953"
             ],
             [
              0.7777777777777778,
              "#fb9f3a"
             ],
             [
              0.8888888888888888,
              "#fdca26"
             ],
             [
              1,
              "#f0f921"
             ]
            ],
            "type": "histogram2dcontour"
           }
          ],
          "mesh3d": [
           {
            "colorbar": {
             "outlinewidth": 0,
             "ticks": ""
            },
            "type": "mesh3d"
           }
          ],
          "parcoords": [
           {
            "line": {
             "colorbar": {
              "outlinewidth": 0,
              "ticks": ""
             }
            },
            "type": "parcoords"
           }
          ],
          "pie": [
           {
            "automargin": true,
            "type": "pie"
           }
          ],
          "scatter": [
           {
            "fillpattern": {
             "fillmode": "overlay",
             "size": 10,
             "solidity": 0.2
            },
            "type": "scatter"
           }
          ],
          "scatter3d": [
           {
            "line": {
             "colorbar": {
              "outlinewidth": 0,
              "ticks": ""
             }
            },
            "marker": {
             "colorbar": {
              "outlinewidth": 0,
              "ticks": ""
             }
            },
            "type": "scatter3d"
           }
          ],
          "scattercarpet": [
           {
            "marker": {
             "colorbar": {
              "outlinewidth": 0,
              "ticks": ""
             }
            },
            "type": "scattercarpet"
           }
          ],
          "scattergeo": [
           {
            "marker": {
             "colorbar": {
              "outlinewidth": 0,
              "ticks": ""
             }
            },
            "type": "scattergeo"
           }
          ],
          "scattergl": [
           {
            "marker": {
             "colorbar": {
              "outlinewidth": 0,
              "ticks": ""
             }
            },
            "type": "scattergl"
           }
          ],
          "scattermapbox": [
           {
            "marker": {
             "colorbar": {
              "outlinewidth": 0,
              "ticks": ""
             }
            },
            "type": "scattermapbox"
           }
          ],
          "scatterpolar": [
           {
            "marker": {
             "colorbar": {
              "outlinewidth": 0,
              "ticks": ""
             }
            },
            "type": "scatterpolar"
           }
          ],
          "scatterpolargl": [
           {
            "marker": {
             "colorbar": {
              "outlinewidth": 0,
              "ticks": ""
             }
            },
            "type": "scatterpolargl"
           }
          ],
          "scatterternary": [
           {
            "marker": {
             "colorbar": {
              "outlinewidth": 0,
              "ticks": ""
             }
            },
            "type": "scatterternary"
           }
          ],
          "surface": [
           {
            "colorbar": {
             "outlinewidth": 0,
             "ticks": ""
            },
            "colorscale": [
             [
              0,
              "#0d0887"
             ],
             [
              0.1111111111111111,
              "#46039f"
             ],
             [
              0.2222222222222222,
              "#7201a8"
             ],
             [
              0.3333333333333333,
              "#9c179e"
             ],
             [
              0.4444444444444444,
              "#bd3786"
             ],
             [
              0.5555555555555556,
              "#d8576b"
             ],
             [
              0.6666666666666666,
              "#ed7953"
             ],
             [
              0.7777777777777778,
              "#fb9f3a"
             ],
             [
              0.8888888888888888,
              "#fdca26"
             ],
             [
              1,
              "#f0f921"
             ]
            ],
            "type": "surface"
           }
          ],
          "table": [
           {
            "cells": {
             "fill": {
              "color": "#EBF0F8"
             },
             "line": {
              "color": "white"
             }
            },
            "header": {
             "fill": {
              "color": "#C8D4E3"
             },
             "line": {
              "color": "white"
             }
            },
            "type": "table"
           }
          ]
         },
         "layout": {
          "annotationdefaults": {
           "arrowcolor": "#2a3f5f",
           "arrowhead": 0,
           "arrowwidth": 1
          },
          "autotypenumbers": "strict",
          "coloraxis": {
           "colorbar": {
            "outlinewidth": 0,
            "ticks": ""
           }
          },
          "colorscale": {
           "diverging": [
            [
             0,
             "#8e0152"
            ],
            [
             0.1,
             "#c51b7d"
            ],
            [
             0.2,
             "#de77ae"
            ],
            [
             0.3,
             "#f1b6da"
            ],
            [
             0.4,
             "#fde0ef"
            ],
            [
             0.5,
             "#f7f7f7"
            ],
            [
             0.6,
             "#e6f5d0"
            ],
            [
             0.7,
             "#b8e186"
            ],
            [
             0.8,
             "#7fbc41"
            ],
            [
             0.9,
             "#4d9221"
            ],
            [
             1,
             "#276419"
            ]
           ],
           "sequential": [
            [
             0,
             "#0d0887"
            ],
            [
             0.1111111111111111,
             "#46039f"
            ],
            [
             0.2222222222222222,
             "#7201a8"
            ],
            [
             0.3333333333333333,
             "#9c179e"
            ],
            [
             0.4444444444444444,
             "#bd3786"
            ],
            [
             0.5555555555555556,
             "#d8576b"
            ],
            [
             0.6666666666666666,
             "#ed7953"
            ],
            [
             0.7777777777777778,
             "#fb9f3a"
            ],
            [
             0.8888888888888888,
             "#fdca26"
            ],
            [
             1,
             "#f0f921"
            ]
           ],
           "sequentialminus": [
            [
             0,
             "#0d0887"
            ],
            [
             0.1111111111111111,
             "#46039f"
            ],
            [
             0.2222222222222222,
             "#7201a8"
            ],
            [
             0.3333333333333333,
             "#9c179e"
            ],
            [
             0.4444444444444444,
             "#bd3786"
            ],
            [
             0.5555555555555556,
             "#d8576b"
            ],
            [
             0.6666666666666666,
             "#ed7953"
            ],
            [
             0.7777777777777778,
             "#fb9f3a"
            ],
            [
             0.8888888888888888,
             "#fdca26"
            ],
            [
             1,
             "#f0f921"
            ]
           ]
          },
          "colorway": [
           "#636efa",
           "#EF553B",
           "#00cc96",
           "#ab63fa",
           "#FFA15A",
           "#19d3f3",
           "#FF6692",
           "#B6E880",
           "#FF97FF",
           "#FECB52"
          ],
          "font": {
           "color": "#2a3f5f"
          },
          "geo": {
           "bgcolor": "white",
           "lakecolor": "white",
           "landcolor": "#E5ECF6",
           "showlakes": true,
           "showland": true,
           "subunitcolor": "white"
          },
          "hoverlabel": {
           "align": "left"
          },
          "hovermode": "closest",
          "mapbox": {
           "style": "light"
          },
          "paper_bgcolor": "white",
          "plot_bgcolor": "#E5ECF6",
          "polar": {
           "angularaxis": {
            "gridcolor": "white",
            "linecolor": "white",
            "ticks": ""
           },
           "bgcolor": "#E5ECF6",
           "radialaxis": {
            "gridcolor": "white",
            "linecolor": "white",
            "ticks": ""
           }
          },
          "scene": {
           "xaxis": {
            "backgroundcolor": "#E5ECF6",
            "gridcolor": "white",
            "gridwidth": 2,
            "linecolor": "white",
            "showbackground": true,
            "ticks": "",
            "zerolinecolor": "white"
           },
           "yaxis": {
            "backgroundcolor": "#E5ECF6",
            "gridcolor": "white",
            "gridwidth": 2,
            "linecolor": "white",
            "showbackground": true,
            "ticks": "",
            "zerolinecolor": "white"
           },
           "zaxis": {
            "backgroundcolor": "#E5ECF6",
            "gridcolor": "white",
            "gridwidth": 2,
            "linecolor": "white",
            "showbackground": true,
            "ticks": "",
            "zerolinecolor": "white"
           }
          },
          "shapedefaults": {
           "line": {
            "color": "#2a3f5f"
           }
          },
          "ternary": {
           "aaxis": {
            "gridcolor": "white",
            "linecolor": "white",
            "ticks": ""
           },
           "baxis": {
            "gridcolor": "white",
            "linecolor": "white",
            "ticks": ""
           },
           "bgcolor": "#E5ECF6",
           "caxis": {
            "gridcolor": "white",
            "linecolor": "white",
            "ticks": ""
           }
          },
          "title": {
           "x": 0.05
          },
          "xaxis": {
           "automargin": true,
           "gridcolor": "white",
           "linecolor": "white",
           "ticks": "",
           "title": {
            "standoff": 15
           },
           "zerolinecolor": "white",
           "zerolinewidth": 2
          },
          "yaxis": {
           "automargin": true,
           "gridcolor": "white",
           "linecolor": "white",
           "ticks": "",
           "title": {
            "standoff": 15
           },
           "zerolinecolor": "white",
           "zerolinewidth": 2
          }
         }
        },
        "title": {
         "text": "Plasic bottle weight for each country"
        }
       }
      }
     },
     "metadata": {},
     "output_type": "display_data"
    }
   ],
   "source": [
    "import plotly.graph_objects as go\n",
    "import numpy as np\n",
    "\n",
    "# Define color categories\n",
    "colors = {\n",
    "    'black': [merged_mapping_df['iso_alpha3'].iloc[merged_mapping_df['total_bottle_weight'].idxmax()]],\n",
    "    'red': merged_mapping_df.nlargest(6, 'total_bottle_weight')['iso_alpha3'].tolist(),\n",
    "    'green': merged_mapping_df.nlargest(11, 'total_bottle_weight')['iso_alpha3'].tolist()[6:],\n",
    "    'skyblue': merged_mapping_df.nsmallest(len(merged_mapping_df) - 17, 'total_bottle_weight')['iso_alpha3'].tolist()\n",
    "}\n",
    "\n",
    "# Create a Choropleth map using the merged_mapping_df DataFrame\n",
    "fig = go.Figure(data=go.Choropleth(\n",
    "    locations=merged_mapping_df['iso_alpha3'],\n",
    "    text=merged_mapping_df['country_name'] + '<br>Bottle Weight: ' + merged_mapping_df['total_bottle_weight'].apply(lambda x: f'{x:.4f}').astype(str) + 'kg',\n",
    "    z=merged_mapping_df['total_bottle_weight'],\n",
    "    colorscale=['green'] + ['yellow'] + ['orange'] * 5 + ['red'] * (len(merged_mapping_df) - 17),\n",
    "    autocolorscale=False,\n",
    "    marker_line_color='white',\n",
    "    marker_line_width=0.5,\n",
    "    colorbar_title='Bottle Weight Scale (kg)',\n",
    "    zmin=0,  # Set the minimum value of the color scale\n",
    "    zmax=np.percentile(merged_mapping_df['total_bottle_weight'], 95)  # Adjust the percentile as needed\n",
    "))\n",
    "\n",
    "# Set the layout of the map\n",
    "fig.update_layout(\n",
    "    title='Plasic bottle weight for each country',\n",
    "    geo=dict(\n",
    "        showframe=True,\n",
    "        showcoastlines=True,\n",
    "        projection_type='equirectangular'\n",
    "    ),\n",
    "    margin=dict(l=30, r=30, t=30, b=30)  # Increase the margin values to make the rectangle larger\n",
    ")\n",
    "\n",
    "# Update trace colors based on color categories\n",
    "for color, countries in colors.items():\n",
    "    indices = [i for i, country in enumerate(merged_mapping_df['iso_alpha3']) if country in countries]\n",
    "    fig.update_traces(marker=dict(color=color), selector=dict(indices=indices))\n",
    "\n",
    "# Update hover text\n",
    "fig.update_traces(hovertemplate='<b>%{text}</b><extra></extra>')\n",
    "\n",
    "# Show the map\n",
    "fig.show()\n"
   ]
  },
  {
   "attachments": {},
   "cell_type": "markdown",
   "id": "333edb1d",
   "metadata": {},
   "source": [
    "***Bar plot showing plasic bottle weight for each country***"
   ]
  },
  {
   "cell_type": "code",
   "execution_count": 280,
   "id": "806b5809",
   "metadata": {},
   "outputs": [
    {
     "data": {
      "application/vnd.plotly.v1+json": {
       "config": {
        "plotlyServerURL": "https://plot.ly"
       },
       "data": [
        {
         "orientation": "h",
         "type": "bar",
         "x": [
          69937.29457143725,
          12438.147444373892,
          4222.823760550675,
          3053.6252414401442,
          2016.1818073239194,
          443.5032758116261,
          258.86910932254324,
          233.11229332756488,
          222.9297816348177,
          163.10454418980046,
          138.58751636627753,
          37.685292485246606,
          15.196510547968675,
          1.6920000000000004,
          1.1423816091954022,
          1.1316763662941014,
          0.7034744979666032,
          0.5574271077180415,
          0.5399999999999999,
          0.3058584773767842,
          0.11899808429118774
         ],
         "y": [
          "Mozambique",
          "Tanzania",
          "Rwanda",
          "Kenya",
          "Malawi",
          "Zambia",
          "United Kingdom",
          "Uganda",
          "DR Congo",
          "Canada",
          "South Africa",
          "Spain",
          "Angola",
          "France",
          "Belgium",
          "Qatar",
          "Switzerland",
          "Brazil",
          "Netherlands",
          "Sierra Leone",
          "Nigeria"
         ]
        }
       ],
       "layout": {
        "bargap": 0.1,
        "bargroupgap": 0.05,
        "height": 600,
        "template": {
         "data": {
          "bar": [
           {
            "error_x": {
             "color": "#2a3f5f"
            },
            "error_y": {
             "color": "#2a3f5f"
            },
            "marker": {
             "line": {
              "color": "#E5ECF6",
              "width": 0.5
             },
             "pattern": {
              "fillmode": "overlay",
              "size": 10,
              "solidity": 0.2
             }
            },
            "type": "bar"
           }
          ],
          "barpolar": [
           {
            "marker": {
             "line": {
              "color": "#E5ECF6",
              "width": 0.5
             },
             "pattern": {
              "fillmode": "overlay",
              "size": 10,
              "solidity": 0.2
             }
            },
            "type": "barpolar"
           }
          ],
          "carpet": [
           {
            "aaxis": {
             "endlinecolor": "#2a3f5f",
             "gridcolor": "white",
             "linecolor": "white",
             "minorgridcolor": "white",
             "startlinecolor": "#2a3f5f"
            },
            "baxis": {
             "endlinecolor": "#2a3f5f",
             "gridcolor": "white",
             "linecolor": "white",
             "minorgridcolor": "white",
             "startlinecolor": "#2a3f5f"
            },
            "type": "carpet"
           }
          ],
          "choropleth": [
           {
            "colorbar": {
             "outlinewidth": 0,
             "ticks": ""
            },
            "type": "choropleth"
           }
          ],
          "contour": [
           {
            "colorbar": {
             "outlinewidth": 0,
             "ticks": ""
            },
            "colorscale": [
             [
              0,
              "#0d0887"
             ],
             [
              0.1111111111111111,
              "#46039f"
             ],
             [
              0.2222222222222222,
              "#7201a8"
             ],
             [
              0.3333333333333333,
              "#9c179e"
             ],
             [
              0.4444444444444444,
              "#bd3786"
             ],
             [
              0.5555555555555556,
              "#d8576b"
             ],
             [
              0.6666666666666666,
              "#ed7953"
             ],
             [
              0.7777777777777778,
              "#fb9f3a"
             ],
             [
              0.8888888888888888,
              "#fdca26"
             ],
             [
              1,
              "#f0f921"
             ]
            ],
            "type": "contour"
           }
          ],
          "contourcarpet": [
           {
            "colorbar": {
             "outlinewidth": 0,
             "ticks": ""
            },
            "type": "contourcarpet"
           }
          ],
          "heatmap": [
           {
            "colorbar": {
             "outlinewidth": 0,
             "ticks": ""
            },
            "colorscale": [
             [
              0,
              "#0d0887"
             ],
             [
              0.1111111111111111,
              "#46039f"
             ],
             [
              0.2222222222222222,
              "#7201a8"
             ],
             [
              0.3333333333333333,
              "#9c179e"
             ],
             [
              0.4444444444444444,
              "#bd3786"
             ],
             [
              0.5555555555555556,
              "#d8576b"
             ],
             [
              0.6666666666666666,
              "#ed7953"
             ],
             [
              0.7777777777777778,
              "#fb9f3a"
             ],
             [
              0.8888888888888888,
              "#fdca26"
             ],
             [
              1,
              "#f0f921"
             ]
            ],
            "type": "heatmap"
           }
          ],
          "heatmapgl": [
           {
            "colorbar": {
             "outlinewidth": 0,
             "ticks": ""
            },
            "colorscale": [
             [
              0,
              "#0d0887"
             ],
             [
              0.1111111111111111,
              "#46039f"
             ],
             [
              0.2222222222222222,
              "#7201a8"
             ],
             [
              0.3333333333333333,
              "#9c179e"
             ],
             [
              0.4444444444444444,
              "#bd3786"
             ],
             [
              0.5555555555555556,
              "#d8576b"
             ],
             [
              0.6666666666666666,
              "#ed7953"
             ],
             [
              0.7777777777777778,
              "#fb9f3a"
             ],
             [
              0.8888888888888888,
              "#fdca26"
             ],
             [
              1,
              "#f0f921"
             ]
            ],
            "type": "heatmapgl"
           }
          ],
          "histogram": [
           {
            "marker": {
             "pattern": {
              "fillmode": "overlay",
              "size": 10,
              "solidity": 0.2
             }
            },
            "type": "histogram"
           }
          ],
          "histogram2d": [
           {
            "colorbar": {
             "outlinewidth": 0,
             "ticks": ""
            },
            "colorscale": [
             [
              0,
              "#0d0887"
             ],
             [
              0.1111111111111111,
              "#46039f"
             ],
             [
              0.2222222222222222,
              "#7201a8"
             ],
             [
              0.3333333333333333,
              "#9c179e"
             ],
             [
              0.4444444444444444,
              "#bd3786"
             ],
             [
              0.5555555555555556,
              "#d8576b"
             ],
             [
              0.6666666666666666,
              "#ed7953"
             ],
             [
              0.7777777777777778,
              "#fb9f3a"
             ],
             [
              0.8888888888888888,
              "#fdca26"
             ],
             [
              1,
              "#f0f921"
             ]
            ],
            "type": "histogram2d"
           }
          ],
          "histogram2dcontour": [
           {
            "colorbar": {
             "outlinewidth": 0,
             "ticks": ""
            },
            "colorscale": [
             [
              0,
              "#0d0887"
             ],
             [
              0.1111111111111111,
              "#46039f"
             ],
             [
              0.2222222222222222,
              "#7201a8"
             ],
             [
              0.3333333333333333,
              "#9c179e"
             ],
             [
              0.4444444444444444,
              "#bd3786"
             ],
             [
              0.5555555555555556,
              "#d8576b"
             ],
             [
              0.6666666666666666,
              "#ed7953"
             ],
             [
              0.7777777777777778,
              "#fb9f3a"
             ],
             [
              0.8888888888888888,
              "#fdca26"
             ],
             [
              1,
              "#f0f921"
             ]
            ],
            "type": "histogram2dcontour"
           }
          ],
          "mesh3d": [
           {
            "colorbar": {
             "outlinewidth": 0,
             "ticks": ""
            },
            "type": "mesh3d"
           }
          ],
          "parcoords": [
           {
            "line": {
             "colorbar": {
              "outlinewidth": 0,
              "ticks": ""
             }
            },
            "type": "parcoords"
           }
          ],
          "pie": [
           {
            "automargin": true,
            "type": "pie"
           }
          ],
          "scatter": [
           {
            "fillpattern": {
             "fillmode": "overlay",
             "size": 10,
             "solidity": 0.2
            },
            "type": "scatter"
           }
          ],
          "scatter3d": [
           {
            "line": {
             "colorbar": {
              "outlinewidth": 0,
              "ticks": ""
             }
            },
            "marker": {
             "colorbar": {
              "outlinewidth": 0,
              "ticks": ""
             }
            },
            "type": "scatter3d"
           }
          ],
          "scattercarpet": [
           {
            "marker": {
             "colorbar": {
              "outlinewidth": 0,
              "ticks": ""
             }
            },
            "type": "scattercarpet"
           }
          ],
          "scattergeo": [
           {
            "marker": {
             "colorbar": {
              "outlinewidth": 0,
              "ticks": ""
             }
            },
            "type": "scattergeo"
           }
          ],
          "scattergl": [
           {
            "marker": {
             "colorbar": {
              "outlinewidth": 0,
              "ticks": ""
             }
            },
            "type": "scattergl"
           }
          ],
          "scattermapbox": [
           {
            "marker": {
             "colorbar": {
              "outlinewidth": 0,
              "ticks": ""
             }
            },
            "type": "scattermapbox"
           }
          ],
          "scatterpolar": [
           {
            "marker": {
             "colorbar": {
              "outlinewidth": 0,
              "ticks": ""
             }
            },
            "type": "scatterpolar"
           }
          ],
          "scatterpolargl": [
           {
            "marker": {
             "colorbar": {
              "outlinewidth": 0,
              "ticks": ""
             }
            },
            "type": "scatterpolargl"
           }
          ],
          "scatterternary": [
           {
            "marker": {
             "colorbar": {
              "outlinewidth": 0,
              "ticks": ""
             }
            },
            "type": "scatterternary"
           }
          ],
          "surface": [
           {
            "colorbar": {
             "outlinewidth": 0,
             "ticks": ""
            },
            "colorscale": [
             [
              0,
              "#0d0887"
             ],
             [
              0.1111111111111111,
              "#46039f"
             ],
             [
              0.2222222222222222,
              "#7201a8"
             ],
             [
              0.3333333333333333,
              "#9c179e"
             ],
             [
              0.4444444444444444,
              "#bd3786"
             ],
             [
              0.5555555555555556,
              "#d8576b"
             ],
             [
              0.6666666666666666,
              "#ed7953"
             ],
             [
              0.7777777777777778,
              "#fb9f3a"
             ],
             [
              0.8888888888888888,
              "#fdca26"
             ],
             [
              1,
              "#f0f921"
             ]
            ],
            "type": "surface"
           }
          ],
          "table": [
           {
            "cells": {
             "fill": {
              "color": "#EBF0F8"
             },
             "line": {
              "color": "white"
             }
            },
            "header": {
             "fill": {
              "color": "#C8D4E3"
             },
             "line": {
              "color": "white"
             }
            },
            "type": "table"
           }
          ]
         },
         "layout": {
          "annotationdefaults": {
           "arrowcolor": "#2a3f5f",
           "arrowhead": 0,
           "arrowwidth": 1
          },
          "autotypenumbers": "strict",
          "coloraxis": {
           "colorbar": {
            "outlinewidth": 0,
            "ticks": ""
           }
          },
          "colorscale": {
           "diverging": [
            [
             0,
             "#8e0152"
            ],
            [
             0.1,
             "#c51b7d"
            ],
            [
             0.2,
             "#de77ae"
            ],
            [
             0.3,
             "#f1b6da"
            ],
            [
             0.4,
             "#fde0ef"
            ],
            [
             0.5,
             "#f7f7f7"
            ],
            [
             0.6,
             "#e6f5d0"
            ],
            [
             0.7,
             "#b8e186"
            ],
            [
             0.8,
             "#7fbc41"
            ],
            [
             0.9,
             "#4d9221"
            ],
            [
             1,
             "#276419"
            ]
           ],
           "sequential": [
            [
             0,
             "#0d0887"
            ],
            [
             0.1111111111111111,
             "#46039f"
            ],
            [
             0.2222222222222222,
             "#7201a8"
            ],
            [
             0.3333333333333333,
             "#9c179e"
            ],
            [
             0.4444444444444444,
             "#bd3786"
            ],
            [
             0.5555555555555556,
             "#d8576b"
            ],
            [
             0.6666666666666666,
             "#ed7953"
            ],
            [
             0.7777777777777778,
             "#fb9f3a"
            ],
            [
             0.8888888888888888,
             "#fdca26"
            ],
            [
             1,
             "#f0f921"
            ]
           ],
           "sequentialminus": [
            [
             0,
             "#0d0887"
            ],
            [
             0.1111111111111111,
             "#46039f"
            ],
            [
             0.2222222222222222,
             "#7201a8"
            ],
            [
             0.3333333333333333,
             "#9c179e"
            ],
            [
             0.4444444444444444,
             "#bd3786"
            ],
            [
             0.5555555555555556,
             "#d8576b"
            ],
            [
             0.6666666666666666,
             "#ed7953"
            ],
            [
             0.7777777777777778,
             "#fb9f3a"
            ],
            [
             0.8888888888888888,
             "#fdca26"
            ],
            [
             1,
             "#f0f921"
            ]
           ]
          },
          "colorway": [
           "#636efa",
           "#EF553B",
           "#00cc96",
           "#ab63fa",
           "#FFA15A",
           "#19d3f3",
           "#FF6692",
           "#B6E880",
           "#FF97FF",
           "#FECB52"
          ],
          "font": {
           "color": "#2a3f5f"
          },
          "geo": {
           "bgcolor": "white",
           "lakecolor": "white",
           "landcolor": "#E5ECF6",
           "showlakes": true,
           "showland": true,
           "subunitcolor": "white"
          },
          "hoverlabel": {
           "align": "left"
          },
          "hovermode": "closest",
          "mapbox": {
           "style": "light"
          },
          "paper_bgcolor": "white",
          "plot_bgcolor": "#E5ECF6",
          "polar": {
           "angularaxis": {
            "gridcolor": "white",
            "linecolor": "white",
            "ticks": ""
           },
           "bgcolor": "#E5ECF6",
           "radialaxis": {
            "gridcolor": "white",
            "linecolor": "white",
            "ticks": ""
           }
          },
          "scene": {
           "xaxis": {
            "backgroundcolor": "#E5ECF6",
            "gridcolor": "white",
            "gridwidth": 2,
            "linecolor": "white",
            "showbackground": true,
            "ticks": "",
            "zerolinecolor": "white"
           },
           "yaxis": {
            "backgroundcolor": "#E5ECF6",
            "gridcolor": "white",
            "gridwidth": 2,
            "linecolor": "white",
            "showbackground": true,
            "ticks": "",
            "zerolinecolor": "white"
           },
           "zaxis": {
            "backgroundcolor": "#E5ECF6",
            "gridcolor": "white",
            "gridwidth": 2,
            "linecolor": "white",
            "showbackground": true,
            "ticks": "",
            "zerolinecolor": "white"
           }
          },
          "shapedefaults": {
           "line": {
            "color": "#2a3f5f"
           }
          },
          "ternary": {
           "aaxis": {
            "gridcolor": "white",
            "linecolor": "white",
            "ticks": ""
           },
           "baxis": {
            "gridcolor": "white",
            "linecolor": "white",
            "ticks": ""
           },
           "bgcolor": "#E5ECF6",
           "caxis": {
            "gridcolor": "white",
            "linecolor": "white",
            "ticks": ""
           }
          },
          "title": {
           "x": 0.05
          },
          "xaxis": {
           "automargin": true,
           "gridcolor": "white",
           "linecolor": "white",
           "ticks": "",
           "title": {
            "standoff": 15
           },
           "zerolinecolor": "white",
           "zerolinewidth": 2
          },
          "yaxis": {
           "automargin": true,
           "gridcolor": "white",
           "linecolor": "white",
           "ticks": "",
           "title": {
            "standoff": 15
           },
           "zerolinecolor": "white",
           "zerolinewidth": 2
          }
         }
        },
        "title": {
         "text": "Bottle Weight by Country"
        },
        "width": 800,
        "xaxis": {
         "title": {
          "text": "Bottle Weight(kg)"
         }
        },
        "yaxis": {
         "title": {
          "text": "Country"
         }
        }
       }
      }
     },
     "metadata": {},
     "output_type": "display_data"
    }
   ],
   "source": [
    "import plotly.graph_objects as go\n",
    "\n",
    "# Sort the data by total_bottle_weight in descending order\n",
    "total_bottle_weight_bar_df = merged_mapping_df.sort_values('total_bottle_weight', ascending=False)\n",
    "\n",
    "# Create the bar plot\n",
    "fig = go.Figure(data=go.Bar(\n",
    "    x=total_bottle_weight_bar_df['total_bottle_weight'],\n",
    "    y=total_bottle_weight_bar_df['country_name'],\n",
    "    orientation='h'\n",
    "))\n",
    "\n",
    "# Customize the layout\n",
    "fig.update_layout(\n",
    "    title='Bottle Weight by Country',\n",
    "    xaxis_title='Bottle Weight(kg)',\n",
    "    yaxis_title='Country',\n",
    "    bargap=0.1,\n",
    "    bargroupgap=0.05,\n",
    "    height=600,\n",
    "    width=800\n",
    ")\n",
    "\n",
    "# Show the plot\n",
    "fig.show()\n"
   ]
  },
  {
   "attachments": {},
   "cell_type": "markdown",
   "id": "063913b7",
   "metadata": {},
   "source": []
  },
  {
   "attachments": {},
   "cell_type": "markdown",
   "id": "94d10c70",
   "metadata": {},
   "source": [
    "### 2. Manufacturer and contribution to Environment Pollution"
   ]
  },
  {
   "cell_type": "code",
   "execution_count": 281,
   "id": "56b87f15",
   "metadata": {},
   "outputs": [
    {
     "data": {
      "text/html": [
       "<div>\n",
       "<style scoped>\n",
       "    .dataframe tbody tr th:only-of-type {\n",
       "        vertical-align: middle;\n",
       "    }\n",
       "\n",
       "    .dataframe tbody tr th {\n",
       "        vertical-align: top;\n",
       "    }\n",
       "\n",
       "    .dataframe thead th {\n",
       "        text-align: right;\n",
       "    }\n",
       "</style>\n",
       "<table border=\"1\" class=\"dataframe\">\n",
       "  <thead>\n",
       "    <tr style=\"text-align: right;\">\n",
       "      <th></th>\n",
       "      <th>product_barcode</th>\n",
       "      <th>product_label</th>\n",
       "      <th>product_size</th>\n",
       "      <th>brand_name</th>\n",
       "      <th>manufacturer_country</th>\n",
       "      <th>manufacturer_name</th>\n",
       "      <th>scan_country</th>\n",
       "      <th>data_url</th>\n",
       "      <th>bottle_weight</th>\n",
       "      <th>bottle_count</th>\n",
       "      <th>total_bottle_weight</th>\n",
       "      <th>country_name</th>\n",
       "    </tr>\n",
       "  </thead>\n",
       "  <tbody>\n",
       "    <tr>\n",
       "      <th>0</th>\n",
       "      <td>610696090768</td>\n",
       "      <td>Vimto Gasificado</td>\n",
       "      <td>350ML</td>\n",
       "      <td>Vimto</td>\n",
       "      <td>GB</td>\n",
       "      <td>Nichols plc</td>\n",
       "      <td>MZ</td>\n",
       "      <td>https://wastebase.org/#/o/85022289-591b-4e34-9...</td>\n",
       "      <td>23.570016</td>\n",
       "      <td>1</td>\n",
       "      <td>0.023570</td>\n",
       "      <td>Mozambique</td>\n",
       "    </tr>\n",
       "    <tr>\n",
       "      <th>1</th>\n",
       "      <td>817939012079</td>\n",
       "      <td>Anti-Bac All Purpose Cleaner</td>\n",
       "      <td>828ML</td>\n",
       "      <td>Method</td>\n",
       "      <td>US</td>\n",
       "      <td>Method Products pbc</td>\n",
       "      <td>GB</td>\n",
       "      <td>https://wastebase.org/#/o/cb2a0f45-314c-4fd0-9...</td>\n",
       "      <td>30.585848</td>\n",
       "      <td>1</td>\n",
       "      <td>0.030586</td>\n",
       "      <td>United Kingdom</td>\n",
       "    </tr>\n",
       "    <tr>\n",
       "      <th>2</th>\n",
       "      <td>2089616370071</td>\n",
       "      <td>Agua Mineral</td>\n",
       "      <td>5.0L</td>\n",
       "      <td>Água de Namaacha</td>\n",
       "      <td>MZ</td>\n",
       "      <td>Sociedade de Águas de Moçambique</td>\n",
       "      <td>MZ</td>\n",
       "      <td>https://wastebase.org/#/o/90c9868b-d408-490e-b...</td>\n",
       "      <td>110.000000</td>\n",
       "      <td>1</td>\n",
       "      <td>0.110000</td>\n",
       "      <td>Mozambique</td>\n",
       "    </tr>\n",
       "    <tr>\n",
       "      <th>3</th>\n",
       "      <td>40822426</td>\n",
       "      <td>Bonaqua Mineral Water</td>\n",
       "      <td>500ML</td>\n",
       "      <td>Bonaqua</td>\n",
       "      <td>US</td>\n",
       "      <td>Coca-Cola</td>\n",
       "      <td>MZ</td>\n",
       "      <td>https://wastebase.org/#/o/c3710738-2999-4396-a...</td>\n",
       "      <td>23.799617</td>\n",
       "      <td>9</td>\n",
       "      <td>0.214197</td>\n",
       "      <td>Mozambique</td>\n",
       "    </tr>\n",
       "    <tr>\n",
       "      <th>4</th>\n",
       "      <td>42380665</td>\n",
       "      <td>Fanta Litchi</td>\n",
       "      <td>280ML</td>\n",
       "      <td>Fanta</td>\n",
       "      <td>US</td>\n",
       "      <td>Coca-Cola</td>\n",
       "      <td>MZ</td>\n",
       "      <td>https://wastebase.org/#/o/c3710738-2999-4396-a...</td>\n",
       "      <td>20.500000</td>\n",
       "      <td>6</td>\n",
       "      <td>0.123000</td>\n",
       "      <td>Mozambique</td>\n",
       "    </tr>\n",
       "    <tr>\n",
       "      <th>...</th>\n",
       "      <td>...</td>\n",
       "      <td>...</td>\n",
       "      <td>...</td>\n",
       "      <td>...</td>\n",
       "      <td>...</td>\n",
       "      <td>...</td>\n",
       "      <td>...</td>\n",
       "      <td>...</td>\n",
       "      <td>...</td>\n",
       "      <td>...</td>\n",
       "      <td>...</td>\n",
       "      <td>...</td>\n",
       "    </tr>\n",
       "    <tr>\n",
       "      <th>33002</th>\n",
       "      <td>9716188532141</td>\n",
       "      <td>Agua Purificada</td>\n",
       "      <td>5.0L</td>\n",
       "      <td>Nevada</td>\n",
       "      <td>MZ</td>\n",
       "      <td>Nevada General Supplies Co, Lda</td>\n",
       "      <td>MZ</td>\n",
       "      <td>https://wastebase.org/#/o/dd241782-fd94-4a13-9...</td>\n",
       "      <td>110.000000</td>\n",
       "      <td>83</td>\n",
       "      <td>9.130000</td>\n",
       "      <td>Mozambique</td>\n",
       "    </tr>\n",
       "    <tr>\n",
       "      <th>33003</th>\n",
       "      <td>9716188532196</td>\n",
       "      <td>Agua Purificada</td>\n",
       "      <td>500ML</td>\n",
       "      <td>Nevada</td>\n",
       "      <td>MZ</td>\n",
       "      <td>Nevada General Supplies Co, Lda</td>\n",
       "      <td>MZ</td>\n",
       "      <td>https://wastebase.org/#/o/dd241782-fd94-4a13-9...</td>\n",
       "      <td>23.799617</td>\n",
       "      <td>244</td>\n",
       "      <td>5.807107</td>\n",
       "      <td>Mozambique</td>\n",
       "    </tr>\n",
       "    <tr>\n",
       "      <th>33004</th>\n",
       "      <td>9780201379624</td>\n",
       "      <td>Eau de Source</td>\n",
       "      <td>500ML</td>\n",
       "      <td>Ma Vie</td>\n",
       "      <td>CD</td>\n",
       "      <td>SOGEMIL sarl</td>\n",
       "      <td>CD</td>\n",
       "      <td>https://wastebase.org/#/o/088a248d-4115-4a19-9...</td>\n",
       "      <td>23.799617</td>\n",
       "      <td>13</td>\n",
       "      <td>0.309395</td>\n",
       "      <td>DR Congo</td>\n",
       "    </tr>\n",
       "    <tr>\n",
       "      <th>33005</th>\n",
       "      <td>9780201379624</td>\n",
       "      <td>Eau de Source</td>\n",
       "      <td>500ML</td>\n",
       "      <td>Ma Vie</td>\n",
       "      <td>CD</td>\n",
       "      <td>SOGEMIL sarl</td>\n",
       "      <td>UG</td>\n",
       "      <td>https://wastebase.org/#/o/088a248d-4115-4a19-9...</td>\n",
       "      <td>23.799617</td>\n",
       "      <td>1</td>\n",
       "      <td>0.023800</td>\n",
       "      <td>Uganda</td>\n",
       "    </tr>\n",
       "    <tr>\n",
       "      <th>33006</th>\n",
       "      <td>9781234567866</td>\n",
       "      <td>Eau de Source</td>\n",
       "      <td>750ML</td>\n",
       "      <td>Swastika water</td>\n",
       "      <td>CD</td>\n",
       "      <td>Ets SAIKI KRIPA</td>\n",
       "      <td>CD</td>\n",
       "      <td>https://wastebase.org/#/o/56bbb912-16f4-4d6a-a...</td>\n",
       "      <td>10.000000</td>\n",
       "      <td>9</td>\n",
       "      <td>0.090000</td>\n",
       "      <td>DR Congo</td>\n",
       "    </tr>\n",
       "  </tbody>\n",
       "</table>\n",
       "<p>33007 rows × 12 columns</p>\n",
       "</div>"
      ],
      "text/plain": [
       "       product_barcode                 product_label product_size  \\\n",
       "0         610696090768              Vimto Gasificado        350ML   \n",
       "1         817939012079  Anti-Bac All Purpose Cleaner        828ML   \n",
       "2        2089616370071                  Agua Mineral         5.0L   \n",
       "3             40822426         Bonaqua Mineral Water        500ML   \n",
       "4             42380665                  Fanta Litchi        280ML   \n",
       "...                ...                           ...          ...   \n",
       "33002    9716188532141               Agua Purificada         5.0L   \n",
       "33003    9716188532196               Agua Purificada        500ML   \n",
       "33004    9780201379624                 Eau de Source        500ML   \n",
       "33005    9780201379624                 Eau de Source        500ML   \n",
       "33006    9781234567866                 Eau de Source        750ML   \n",
       "\n",
       "             brand_name manufacturer_country  \\\n",
       "0                 Vimto                   GB   \n",
       "1                Method                   US   \n",
       "2      Água de Namaacha                   MZ   \n",
       "3               Bonaqua                   US   \n",
       "4                 Fanta                   US   \n",
       "...                 ...                  ...   \n",
       "33002            Nevada                   MZ   \n",
       "33003            Nevada                   MZ   \n",
       "33004            Ma Vie                   CD   \n",
       "33005            Ma Vie                   CD   \n",
       "33006    Swastika water                   CD   \n",
       "\n",
       "                      manufacturer_name scan_country  \\\n",
       "0                           Nichols plc           MZ   \n",
       "1                   Method Products pbc           GB   \n",
       "2      Sociedade de Águas de Moçambique           MZ   \n",
       "3                             Coca-Cola           MZ   \n",
       "4                             Coca-Cola           MZ   \n",
       "...                                 ...          ...   \n",
       "33002   Nevada General Supplies Co, Lda           MZ   \n",
       "33003   Nevada General Supplies Co, Lda           MZ   \n",
       "33004                      SOGEMIL sarl           CD   \n",
       "33005                      SOGEMIL sarl           UG   \n",
       "33006                   Ets SAIKI KRIPA           CD   \n",
       "\n",
       "                                                data_url  bottle_weight  \\\n",
       "0      https://wastebase.org/#/o/85022289-591b-4e34-9...      23.570016   \n",
       "1      https://wastebase.org/#/o/cb2a0f45-314c-4fd0-9...      30.585848   \n",
       "2      https://wastebase.org/#/o/90c9868b-d408-490e-b...     110.000000   \n",
       "3      https://wastebase.org/#/o/c3710738-2999-4396-a...      23.799617   \n",
       "4      https://wastebase.org/#/o/c3710738-2999-4396-a...      20.500000   \n",
       "...                                                  ...            ...   \n",
       "33002  https://wastebase.org/#/o/dd241782-fd94-4a13-9...     110.000000   \n",
       "33003  https://wastebase.org/#/o/dd241782-fd94-4a13-9...      23.799617   \n",
       "33004  https://wastebase.org/#/o/088a248d-4115-4a19-9...      23.799617   \n",
       "33005  https://wastebase.org/#/o/088a248d-4115-4a19-9...      23.799617   \n",
       "33006  https://wastebase.org/#/o/56bbb912-16f4-4d6a-a...      10.000000   \n",
       "\n",
       "       bottle_count  total_bottle_weight    country_name  \n",
       "0                 1             0.023570      Mozambique  \n",
       "1                 1             0.030586  United Kingdom  \n",
       "2                 1             0.110000      Mozambique  \n",
       "3                 9             0.214197      Mozambique  \n",
       "4                 6             0.123000      Mozambique  \n",
       "...             ...                  ...             ...  \n",
       "33002            83             9.130000      Mozambique  \n",
       "33003           244             5.807107      Mozambique  \n",
       "33004            13             0.309395        DR Congo  \n",
       "33005             1             0.023800          Uganda  \n",
       "33006             9             0.090000        DR Congo  \n",
       "\n",
       "[33007 rows x 12 columns]"
      ]
     },
     "execution_count": 281,
     "metadata": {},
     "output_type": "execute_result"
    }
   ],
   "source": [
    "# Merge merged_df with population_df to get country names\n",
    "manufacturer_df = merged_df.merge(population_df[['CCA3', 'Name']], left_on='scan_country', right_on='CCA3', how='left')\n",
    "\n",
    "# Rename the 'Name' column to 'country_name'\n",
    "manufacturer_df.rename(columns={'Name': 'country_name'}, inplace=True)\n",
    "\n",
    "# Drop the 'CCA3' column as it is no longer needed\n",
    "manufacturer_df.drop('CCA3', axis=1, inplace=True)\n",
    "\n",
    "manufacturer_df"
   ]
  },
  {
   "cell_type": "code",
   "execution_count": 282,
   "metadata": {},
   "outputs": [
    {
     "data": {
      "text/html": [
       "<div>\n",
       "<style scoped>\n",
       "    .dataframe tbody tr th:only-of-type {\n",
       "        vertical-align: middle;\n",
       "    }\n",
       "\n",
       "    .dataframe tbody tr th {\n",
       "        vertical-align: top;\n",
       "    }\n",
       "\n",
       "    .dataframe thead th {\n",
       "        text-align: right;\n",
       "    }\n",
       "</style>\n",
       "<table border=\"1\" class=\"dataframe\">\n",
       "  <thead>\n",
       "    <tr style=\"text-align: right;\">\n",
       "      <th></th>\n",
       "      <th>bottle_count</th>\n",
       "      <th>total_bottle_weight</th>\n",
       "    </tr>\n",
       "    <tr>\n",
       "      <th>manufacturer_name</th>\n",
       "      <th></th>\n",
       "      <th></th>\n",
       "    </tr>\n",
       "  </thead>\n",
       "  <tbody>\n",
       "    <tr>\n",
       "      <th>2005961 Ontario Inc.</th>\n",
       "      <td>400</td>\n",
       "      <td>8.000000</td>\n",
       "    </tr>\n",
       "    <tr>\n",
       "      <th>A.G. BARR PLC</th>\n",
       "      <td>585</td>\n",
       "      <td>19.255199</td>\n",
       "    </tr>\n",
       "    <tr>\n",
       "      <th>AGUA MINERAL CRISTALINA, S.L.</th>\n",
       "      <td>135</td>\n",
       "      <td>4.559037</td>\n",
       "    </tr>\n",
       "    <tr>\n",
       "      <th>ALDI Einkauf SE &amp; Co. oHG</th>\n",
       "      <td>144</td>\n",
       "      <td>6.505374</td>\n",
       "    </tr>\n",
       "    <tr>\n",
       "      <th>AMS Sourcing B.V.</th>\n",
       "      <td>201</td>\n",
       "      <td>5.021417</td>\n",
       "    </tr>\n",
       "    <tr>\n",
       "      <th>...</th>\n",
       "      <td>...</td>\n",
       "      <td>...</td>\n",
       "    </tr>\n",
       "    <tr>\n",
       "      <th>Zanzibar Overseas Services Ltd</th>\n",
       "      <td>3992</td>\n",
       "      <td>176.318359</td>\n",
       "    </tr>\n",
       "    <tr>\n",
       "      <th>Água Vengo</th>\n",
       "      <td>18883</td>\n",
       "      <td>622.670865</td>\n",
       "    </tr>\n",
       "    <tr>\n",
       "      <th>Águas de Carvalhelhos, S. A.</th>\n",
       "      <td>14</td>\n",
       "      <td>0.658000</td>\n",
       "    </tr>\n",
       "    <tr>\n",
       "      <th>Águas de Goba - Água de Nascente, Limitada</th>\n",
       "      <td>3360</td>\n",
       "      <td>154.121923</td>\n",
       "    </tr>\n",
       "    <tr>\n",
       "      <th>Águas de Ribaue Lda</th>\n",
       "      <td>12473</td>\n",
       "      <td>368.707907</td>\n",
       "    </tr>\n",
       "  </tbody>\n",
       "</table>\n",
       "<p>341 rows × 2 columns</p>\n",
       "</div>"
      ],
      "text/plain": [
       "                                            bottle_count  total_bottle_weight\n",
       "manufacturer_name                                                            \n",
       "2005961 Ontario Inc.                                 400             8.000000\n",
       "A.G. BARR PLC                                        585            19.255199\n",
       "AGUA MINERAL CRISTALINA, S.L.                        135             4.559037\n",
       "ALDI Einkauf SE & Co. oHG                            144             6.505374\n",
       "AMS Sourcing B.V.                                    201             5.021417\n",
       "...                                                  ...                  ...\n",
       "Zanzibar Overseas Services Ltd                      3992           176.318359\n",
       "Água Vengo                                         18883           622.670865\n",
       "Águas de Carvalhelhos, S. A.                          14             0.658000\n",
       "Águas de Goba - Água de Nascente, Limitada          3360           154.121923\n",
       "Águas de Ribaue Lda                                12473           368.707907\n",
       "\n",
       "[341 rows x 2 columns]"
      ]
     },
     "execution_count": 282,
     "metadata": {},
     "output_type": "execute_result"
    }
   ],
   "source": [
    "manufacturer_grouped = manufacturer_df.groupby('manufacturer_name').agg({'bottle_count': 'sum', 'total_bottle_weight': 'sum'})\n",
    "manufacturer_grouped"
   ]
  },
  {
   "cell_type": "code",
   "execution_count": null,
   "metadata": {},
   "outputs": [],
   "source": []
  },
  {
   "cell_type": "code",
   "execution_count": null,
   "metadata": {},
   "outputs": [],
   "source": []
  },
  {
   "cell_type": "code",
   "execution_count": null,
   "metadata": {},
   "outputs": [],
   "source": []
  },
  {
   "attachments": {},
   "cell_type": "markdown",
   "id": "67910535",
   "metadata": {},
   "source": [
    "***Top 10 brands with most plastic bottles found in Environment***"
   ]
  },
  {
   "cell_type": "code",
   "execution_count": 283,
   "id": "0fed6fd1",
   "metadata": {},
   "outputs": [
    {
     "data": {
      "application/vnd.plotly.v1+json": {
       "config": {
        "plotlyServerURL": "https://plot.ly"
       },
       "data": [
        {
         "orientation": "h",
         "type": "bar",
         "x": [
          757611,
          558278,
          457156,
          178318,
          177412,
          132991,
          105400,
          103129,
          39934,
          37611
         ],
         "y": [
          "Mopani Internacional Lda",
          "Coca-Cola",
          "Sociedade de Águas de Moçambique",
          "BAKHRESA GROUP DIVISIONS",
          "Sociedade Águas Vumba, SA",
          "Yaafico Industrial Lda",
          "Fiesta Moçambique Lda.",
          "METL Group",
          "Moz Beverages Lda",
          "UNKNOWN_ORG"
         ]
        }
       ],
       "layout": {
        "template": {
         "data": {
          "bar": [
           {
            "error_x": {
             "color": "#2a3f5f"
            },
            "error_y": {
             "color": "#2a3f5f"
            },
            "marker": {
             "line": {
              "color": "#E5ECF6",
              "width": 0.5
             },
             "pattern": {
              "fillmode": "overlay",
              "size": 10,
              "solidity": 0.2
             }
            },
            "type": "bar"
           }
          ],
          "barpolar": [
           {
            "marker": {
             "line": {
              "color": "#E5ECF6",
              "width": 0.5
             },
             "pattern": {
              "fillmode": "overlay",
              "size": 10,
              "solidity": 0.2
             }
            },
            "type": "barpolar"
           }
          ],
          "carpet": [
           {
            "aaxis": {
             "endlinecolor": "#2a3f5f",
             "gridcolor": "white",
             "linecolor": "white",
             "minorgridcolor": "white",
             "startlinecolor": "#2a3f5f"
            },
            "baxis": {
             "endlinecolor": "#2a3f5f",
             "gridcolor": "white",
             "linecolor": "white",
             "minorgridcolor": "white",
             "startlinecolor": "#2a3f5f"
            },
            "type": "carpet"
           }
          ],
          "choropleth": [
           {
            "colorbar": {
             "outlinewidth": 0,
             "ticks": ""
            },
            "type": "choropleth"
           }
          ],
          "contour": [
           {
            "colorbar": {
             "outlinewidth": 0,
             "ticks": ""
            },
            "colorscale": [
             [
              0,
              "#0d0887"
             ],
             [
              0.1111111111111111,
              "#46039f"
             ],
             [
              0.2222222222222222,
              "#7201a8"
             ],
             [
              0.3333333333333333,
              "#9c179e"
             ],
             [
              0.4444444444444444,
              "#bd3786"
             ],
             [
              0.5555555555555556,
              "#d8576b"
             ],
             [
              0.6666666666666666,
              "#ed7953"
             ],
             [
              0.7777777777777778,
              "#fb9f3a"
             ],
             [
              0.8888888888888888,
              "#fdca26"
             ],
             [
              1,
              "#f0f921"
             ]
            ],
            "type": "contour"
           }
          ],
          "contourcarpet": [
           {
            "colorbar": {
             "outlinewidth": 0,
             "ticks": ""
            },
            "type": "contourcarpet"
           }
          ],
          "heatmap": [
           {
            "colorbar": {
             "outlinewidth": 0,
             "ticks": ""
            },
            "colorscale": [
             [
              0,
              "#0d0887"
             ],
             [
              0.1111111111111111,
              "#46039f"
             ],
             [
              0.2222222222222222,
              "#7201a8"
             ],
             [
              0.3333333333333333,
              "#9c179e"
             ],
             [
              0.4444444444444444,
              "#bd3786"
             ],
             [
              0.5555555555555556,
              "#d8576b"
             ],
             [
              0.6666666666666666,
              "#ed7953"
             ],
             [
              0.7777777777777778,
              "#fb9f3a"
             ],
             [
              0.8888888888888888,
              "#fdca26"
             ],
             [
              1,
              "#f0f921"
             ]
            ],
            "type": "heatmap"
           }
          ],
          "heatmapgl": [
           {
            "colorbar": {
             "outlinewidth": 0,
             "ticks": ""
            },
            "colorscale": [
             [
              0,
              "#0d0887"
             ],
             [
              0.1111111111111111,
              "#46039f"
             ],
             [
              0.2222222222222222,
              "#7201a8"
             ],
             [
              0.3333333333333333,
              "#9c179e"
             ],
             [
              0.4444444444444444,
              "#bd3786"
             ],
             [
              0.5555555555555556,
              "#d8576b"
             ],
             [
              0.6666666666666666,
              "#ed7953"
             ],
             [
              0.7777777777777778,
              "#fb9f3a"
             ],
             [
              0.8888888888888888,
              "#fdca26"
             ],
             [
              1,
              "#f0f921"
             ]
            ],
            "type": "heatmapgl"
           }
          ],
          "histogram": [
           {
            "marker": {
             "pattern": {
              "fillmode": "overlay",
              "size": 10,
              "solidity": 0.2
             }
            },
            "type": "histogram"
           }
          ],
          "histogram2d": [
           {
            "colorbar": {
             "outlinewidth": 0,
             "ticks": ""
            },
            "colorscale": [
             [
              0,
              "#0d0887"
             ],
             [
              0.1111111111111111,
              "#46039f"
             ],
             [
              0.2222222222222222,
              "#7201a8"
             ],
             [
              0.3333333333333333,
              "#9c179e"
             ],
             [
              0.4444444444444444,
              "#bd3786"
             ],
             [
              0.5555555555555556,
              "#d8576b"
             ],
             [
              0.6666666666666666,
              "#ed7953"
             ],
             [
              0.7777777777777778,
              "#fb9f3a"
             ],
             [
              0.8888888888888888,
              "#fdca26"
             ],
             [
              1,
              "#f0f921"
             ]
            ],
            "type": "histogram2d"
           }
          ],
          "histogram2dcontour": [
           {
            "colorbar": {
             "outlinewidth": 0,
             "ticks": ""
            },
            "colorscale": [
             [
              0,
              "#0d0887"
             ],
             [
              0.1111111111111111,
              "#46039f"
             ],
             [
              0.2222222222222222,
              "#7201a8"
             ],
             [
              0.3333333333333333,
              "#9c179e"
             ],
             [
              0.4444444444444444,
              "#bd3786"
             ],
             [
              0.5555555555555556,
              "#d8576b"
             ],
             [
              0.6666666666666666,
              "#ed7953"
             ],
             [
              0.7777777777777778,
              "#fb9f3a"
             ],
             [
              0.8888888888888888,
              "#fdca26"
             ],
             [
              1,
              "#f0f921"
             ]
            ],
            "type": "histogram2dcontour"
           }
          ],
          "mesh3d": [
           {
            "colorbar": {
             "outlinewidth": 0,
             "ticks": ""
            },
            "type": "mesh3d"
           }
          ],
          "parcoords": [
           {
            "line": {
             "colorbar": {
              "outlinewidth": 0,
              "ticks": ""
             }
            },
            "type": "parcoords"
           }
          ],
          "pie": [
           {
            "automargin": true,
            "type": "pie"
           }
          ],
          "scatter": [
           {
            "fillpattern": {
             "fillmode": "overlay",
             "size": 10,
             "solidity": 0.2
            },
            "type": "scatter"
           }
          ],
          "scatter3d": [
           {
            "line": {
             "colorbar": {
              "outlinewidth": 0,
              "ticks": ""
             }
            },
            "marker": {
             "colorbar": {
              "outlinewidth": 0,
              "ticks": ""
             }
            },
            "type": "scatter3d"
           }
          ],
          "scattercarpet": [
           {
            "marker": {
             "colorbar": {
              "outlinewidth": 0,
              "ticks": ""
             }
            },
            "type": "scattercarpet"
           }
          ],
          "scattergeo": [
           {
            "marker": {
             "colorbar": {
              "outlinewidth": 0,
              "ticks": ""
             }
            },
            "type": "scattergeo"
           }
          ],
          "scattergl": [
           {
            "marker": {
             "colorbar": {
              "outlinewidth": 0,
              "ticks": ""
             }
            },
            "type": "scattergl"
           }
          ],
          "scattermapbox": [
           {
            "marker": {
             "colorbar": {
              "outlinewidth": 0,
              "ticks": ""
             }
            },
            "type": "scattermapbox"
           }
          ],
          "scatterpolar": [
           {
            "marker": {
             "colorbar": {
              "outlinewidth": 0,
              "ticks": ""
             }
            },
            "type": "scatterpolar"
           }
          ],
          "scatterpolargl": [
           {
            "marker": {
             "colorbar": {
              "outlinewidth": 0,
              "ticks": ""
             }
            },
            "type": "scatterpolargl"
           }
          ],
          "scatterternary": [
           {
            "marker": {
             "colorbar": {
              "outlinewidth": 0,
              "ticks": ""
             }
            },
            "type": "scatterternary"
           }
          ],
          "surface": [
           {
            "colorbar": {
             "outlinewidth": 0,
             "ticks": ""
            },
            "colorscale": [
             [
              0,
              "#0d0887"
             ],
             [
              0.1111111111111111,
              "#46039f"
             ],
             [
              0.2222222222222222,
              "#7201a8"
             ],
             [
              0.3333333333333333,
              "#9c179e"
             ],
             [
              0.4444444444444444,
              "#bd3786"
             ],
             [
              0.5555555555555556,
              "#d8576b"
             ],
             [
              0.6666666666666666,
              "#ed7953"
             ],
             [
              0.7777777777777778,
              "#fb9f3a"
             ],
             [
              0.8888888888888888,
              "#fdca26"
             ],
             [
              1,
              "#f0f921"
             ]
            ],
            "type": "surface"
           }
          ],
          "table": [
           {
            "cells": {
             "fill": {
              "color": "#EBF0F8"
             },
             "line": {
              "color": "white"
             }
            },
            "header": {
             "fill": {
              "color": "#C8D4E3"
             },
             "line": {
              "color": "white"
             }
            },
            "type": "table"
           }
          ]
         },
         "layout": {
          "annotationdefaults": {
           "arrowcolor": "#2a3f5f",
           "arrowhead": 0,
           "arrowwidth": 1
          },
          "autotypenumbers": "strict",
          "coloraxis": {
           "colorbar": {
            "outlinewidth": 0,
            "ticks": ""
           }
          },
          "colorscale": {
           "diverging": [
            [
             0,
             "#8e0152"
            ],
            [
             0.1,
             "#c51b7d"
            ],
            [
             0.2,
             "#de77ae"
            ],
            [
             0.3,
             "#f1b6da"
            ],
            [
             0.4,
             "#fde0ef"
            ],
            [
             0.5,
             "#f7f7f7"
            ],
            [
             0.6,
             "#e6f5d0"
            ],
            [
             0.7,
             "#b8e186"
            ],
            [
             0.8,
             "#7fbc41"
            ],
            [
             0.9,
             "#4d9221"
            ],
            [
             1,
             "#276419"
            ]
           ],
           "sequential": [
            [
             0,
             "#0d0887"
            ],
            [
             0.1111111111111111,
             "#46039f"
            ],
            [
             0.2222222222222222,
             "#7201a8"
            ],
            [
             0.3333333333333333,
             "#9c179e"
            ],
            [
             0.4444444444444444,
             "#bd3786"
            ],
            [
             0.5555555555555556,
             "#d8576b"
            ],
            [
             0.6666666666666666,
             "#ed7953"
            ],
            [
             0.7777777777777778,
             "#fb9f3a"
            ],
            [
             0.8888888888888888,
             "#fdca26"
            ],
            [
             1,
             "#f0f921"
            ]
           ],
           "sequentialminus": [
            [
             0,
             "#0d0887"
            ],
            [
             0.1111111111111111,
             "#46039f"
            ],
            [
             0.2222222222222222,
             "#7201a8"
            ],
            [
             0.3333333333333333,
             "#9c179e"
            ],
            [
             0.4444444444444444,
             "#bd3786"
            ],
            [
             0.5555555555555556,
             "#d8576b"
            ],
            [
             0.6666666666666666,
             "#ed7953"
            ],
            [
             0.7777777777777778,
             "#fb9f3a"
            ],
            [
             0.8888888888888888,
             "#fdca26"
            ],
            [
             1,
             "#f0f921"
            ]
           ]
          },
          "colorway": [
           "#636efa",
           "#EF553B",
           "#00cc96",
           "#ab63fa",
           "#FFA15A",
           "#19d3f3",
           "#FF6692",
           "#B6E880",
           "#FF97FF",
           "#FECB52"
          ],
          "font": {
           "color": "#2a3f5f"
          },
          "geo": {
           "bgcolor": "white",
           "lakecolor": "white",
           "landcolor": "#E5ECF6",
           "showlakes": true,
           "showland": true,
           "subunitcolor": "white"
          },
          "hoverlabel": {
           "align": "left"
          },
          "hovermode": "closest",
          "mapbox": {
           "style": "light"
          },
          "paper_bgcolor": "white",
          "plot_bgcolor": "#E5ECF6",
          "polar": {
           "angularaxis": {
            "gridcolor": "white",
            "linecolor": "white",
            "ticks": ""
           },
           "bgcolor": "#E5ECF6",
           "radialaxis": {
            "gridcolor": "white",
            "linecolor": "white",
            "ticks": ""
           }
          },
          "scene": {
           "xaxis": {
            "backgroundcolor": "#E5ECF6",
            "gridcolor": "white",
            "gridwidth": 2,
            "linecolor": "white",
            "showbackground": true,
            "ticks": "",
            "zerolinecolor": "white"
           },
           "yaxis": {
            "backgroundcolor": "#E5ECF6",
            "gridcolor": "white",
            "gridwidth": 2,
            "linecolor": "white",
            "showbackground": true,
            "ticks": "",
            "zerolinecolor": "white"
           },
           "zaxis": {
            "backgroundcolor": "#E5ECF6",
            "gridcolor": "white",
            "gridwidth": 2,
            "linecolor": "white",
            "showbackground": true,
            "ticks": "",
            "zerolinecolor": "white"
           }
          },
          "shapedefaults": {
           "line": {
            "color": "#2a3f5f"
           }
          },
          "ternary": {
           "aaxis": {
            "gridcolor": "white",
            "linecolor": "white",
            "ticks": ""
           },
           "baxis": {
            "gridcolor": "white",
            "linecolor": "white",
            "ticks": ""
           },
           "bgcolor": "#E5ECF6",
           "caxis": {
            "gridcolor": "white",
            "linecolor": "white",
            "ticks": ""
           }
          },
          "title": {
           "x": 0.05
          },
          "xaxis": {
           "automargin": true,
           "gridcolor": "white",
           "linecolor": "white",
           "ticks": "",
           "title": {
            "standoff": 15
           },
           "zerolinecolor": "white",
           "zerolinewidth": 2
          },
          "yaxis": {
           "automargin": true,
           "gridcolor": "white",
           "linecolor": "white",
           "ticks": "",
           "title": {
            "standoff": 15
           },
           "zerolinecolor": "white",
           "zerolinewidth": 2
          }
         }
        },
        "title": {
         "text": "Top 10 Manufacturers by Bottle Count"
        },
        "xaxis": {
         "title": {
          "text": "Bottle Count"
         }
        },
        "yaxis": {
         "title": {
          "text": "Manufacturer"
         }
        }
       }
      }
     },
     "metadata": {},
     "output_type": "display_data"
    }
   ],
   "source": [
    "import plotly.graph_objects as go\n",
    "\n",
    "# Sort the manufacturer_grouped DataFrame by bottle_count in descending order\n",
    "top_10_manufacturers_count = manufacturer_grouped.sort_values('bottle_count', ascending=False).head(10)\n",
    "\n",
    "# Create the horizontal bar plot\n",
    "bar = go.Figure(data=go.Bar(\n",
    "    y=top_10_manufacturers_count.index,  # Manufacturer names\n",
    "    x=top_10_manufacturers_count['bottle_count'],  # Bottle count\n",
    "    \n",
    "    orientation='h'  # Horizontal orientation\n",
    "))\n",
    "\n",
    "# Customize the layout of the plot\n",
    "bar.update_layout(\n",
    "    title='Top 10 Manufacturers by Bottle Count',\n",
    "    xaxis_title='Bottle Count',\n",
    "    yaxis_title='Manufacturer'\n",
    ")\n",
    "\n",
    "# Show the plot\n",
    "bar.show()\n"
   ]
  },
  {
   "attachments": {},
   "cell_type": "markdown",
   "id": "5a3a936b",
   "metadata": {},
   "source": [
    "***Top 10 brands with most plastic bottle weight found in Environment***"
   ]
  },
  {
   "cell_type": "code",
   "execution_count": 284,
   "id": "abb7dfe9",
   "metadata": {},
   "outputs": [
    {
     "data": {
      "application/vnd.plotly.v1+json": {
       "config": {
        "plotlyServerURL": "https://plot.ly"
       },
       "data": [
        {
         "orientation": "h",
         "type": "bar",
         "x": [
          19458.99968183566,
          17025.242087769566,
          16886.29605812055,
          5844.21215857389,
          4559.1968594398995,
          3587.903896333161,
          2958.7987142857137,
          2723.713377609739,
          1076.2013541413648,
          1038.5265595362894
         ],
         "y": [
          "Coca-Cola",
          "Mopani Internacional Lda",
          "Sociedade de Águas de Moçambique",
          "Sociedade Águas Vumba, SA",
          "BAKHRESA GROUP DIVISIONS",
          "Yaafico Industrial Lda",
          "Fiesta Moçambique Lda.",
          "METL Group",
          "Maeva",
          "UNKNOWN_ORG"
         ]
        }
       ],
       "layout": {
        "template": {
         "data": {
          "bar": [
           {
            "error_x": {
             "color": "#2a3f5f"
            },
            "error_y": {
             "color": "#2a3f5f"
            },
            "marker": {
             "line": {
              "color": "#E5ECF6",
              "width": 0.5
             },
             "pattern": {
              "fillmode": "overlay",
              "size": 10,
              "solidity": 0.2
             }
            },
            "type": "bar"
           }
          ],
          "barpolar": [
           {
            "marker": {
             "line": {
              "color": "#E5ECF6",
              "width": 0.5
             },
             "pattern": {
              "fillmode": "overlay",
              "size": 10,
              "solidity": 0.2
             }
            },
            "type": "barpolar"
           }
          ],
          "carpet": [
           {
            "aaxis": {
             "endlinecolor": "#2a3f5f",
             "gridcolor": "white",
             "linecolor": "white",
             "minorgridcolor": "white",
             "startlinecolor": "#2a3f5f"
            },
            "baxis": {
             "endlinecolor": "#2a3f5f",
             "gridcolor": "white",
             "linecolor": "white",
             "minorgridcolor": "white",
             "startlinecolor": "#2a3f5f"
            },
            "type": "carpet"
           }
          ],
          "choropleth": [
           {
            "colorbar": {
             "outlinewidth": 0,
             "ticks": ""
            },
            "type": "choropleth"
           }
          ],
          "contour": [
           {
            "colorbar": {
             "outlinewidth": 0,
             "ticks": ""
            },
            "colorscale": [
             [
              0,
              "#0d0887"
             ],
             [
              0.1111111111111111,
              "#46039f"
             ],
             [
              0.2222222222222222,
              "#7201a8"
             ],
             [
              0.3333333333333333,
              "#9c179e"
             ],
             [
              0.4444444444444444,
              "#bd3786"
             ],
             [
              0.5555555555555556,
              "#d8576b"
             ],
             [
              0.6666666666666666,
              "#ed7953"
             ],
             [
              0.7777777777777778,
              "#fb9f3a"
             ],
             [
              0.8888888888888888,
              "#fdca26"
             ],
             [
              1,
              "#f0f921"
             ]
            ],
            "type": "contour"
           }
          ],
          "contourcarpet": [
           {
            "colorbar": {
             "outlinewidth": 0,
             "ticks": ""
            },
            "type": "contourcarpet"
           }
          ],
          "heatmap": [
           {
            "colorbar": {
             "outlinewidth": 0,
             "ticks": ""
            },
            "colorscale": [
             [
              0,
              "#0d0887"
             ],
             [
              0.1111111111111111,
              "#46039f"
             ],
             [
              0.2222222222222222,
              "#7201a8"
             ],
             [
              0.3333333333333333,
              "#9c179e"
             ],
             [
              0.4444444444444444,
              "#bd3786"
             ],
             [
              0.5555555555555556,
              "#d8576b"
             ],
             [
              0.6666666666666666,
              "#ed7953"
             ],
             [
              0.7777777777777778,
              "#fb9f3a"
             ],
             [
              0.8888888888888888,
              "#fdca26"
             ],
             [
              1,
              "#f0f921"
             ]
            ],
            "type": "heatmap"
           }
          ],
          "heatmapgl": [
           {
            "colorbar": {
             "outlinewidth": 0,
             "ticks": ""
            },
            "colorscale": [
             [
              0,
              "#0d0887"
             ],
             [
              0.1111111111111111,
              "#46039f"
             ],
             [
              0.2222222222222222,
              "#7201a8"
             ],
             [
              0.3333333333333333,
              "#9c179e"
             ],
             [
              0.4444444444444444,
              "#bd3786"
             ],
             [
              0.5555555555555556,
              "#d8576b"
             ],
             [
              0.6666666666666666,
              "#ed7953"
             ],
             [
              0.7777777777777778,
              "#fb9f3a"
             ],
             [
              0.8888888888888888,
              "#fdca26"
             ],
             [
              1,
              "#f0f921"
             ]
            ],
            "type": "heatmapgl"
           }
          ],
          "histogram": [
           {
            "marker": {
             "pattern": {
              "fillmode": "overlay",
              "size": 10,
              "solidity": 0.2
             }
            },
            "type": "histogram"
           }
          ],
          "histogram2d": [
           {
            "colorbar": {
             "outlinewidth": 0,
             "ticks": ""
            },
            "colorscale": [
             [
              0,
              "#0d0887"
             ],
             [
              0.1111111111111111,
              "#46039f"
             ],
             [
              0.2222222222222222,
              "#7201a8"
             ],
             [
              0.3333333333333333,
              "#9c179e"
             ],
             [
              0.4444444444444444,
              "#bd3786"
             ],
             [
              0.5555555555555556,
              "#d8576b"
             ],
             [
              0.6666666666666666,
              "#ed7953"
             ],
             [
              0.7777777777777778,
              "#fb9f3a"
             ],
             [
              0.8888888888888888,
              "#fdca26"
             ],
             [
              1,
              "#f0f921"
             ]
            ],
            "type": "histogram2d"
           }
          ],
          "histogram2dcontour": [
           {
            "colorbar": {
             "outlinewidth": 0,
             "ticks": ""
            },
            "colorscale": [
             [
              0,
              "#0d0887"
             ],
             [
              0.1111111111111111,
              "#46039f"
             ],
             [
              0.2222222222222222,
              "#7201a8"
             ],
             [
              0.3333333333333333,
              "#9c179e"
             ],
             [
              0.4444444444444444,
              "#bd3786"
             ],
             [
              0.5555555555555556,
              "#d8576b"
             ],
             [
              0.6666666666666666,
              "#ed7953"
             ],
             [
              0.7777777777777778,
              "#fb9f3a"
             ],
             [
              0.8888888888888888,
              "#fdca26"
             ],
             [
              1,
              "#f0f921"
             ]
            ],
            "type": "histogram2dcontour"
           }
          ],
          "mesh3d": [
           {
            "colorbar": {
             "outlinewidth": 0,
             "ticks": ""
            },
            "type": "mesh3d"
           }
          ],
          "parcoords": [
           {
            "line": {
             "colorbar": {
              "outlinewidth": 0,
              "ticks": ""
             }
            },
            "type": "parcoords"
           }
          ],
          "pie": [
           {
            "automargin": true,
            "type": "pie"
           }
          ],
          "scatter": [
           {
            "fillpattern": {
             "fillmode": "overlay",
             "size": 10,
             "solidity": 0.2
            },
            "type": "scatter"
           }
          ],
          "scatter3d": [
           {
            "line": {
             "colorbar": {
              "outlinewidth": 0,
              "ticks": ""
             }
            },
            "marker": {
             "colorbar": {
              "outlinewidth": 0,
              "ticks": ""
             }
            },
            "type": "scatter3d"
           }
          ],
          "scattercarpet": [
           {
            "marker": {
             "colorbar": {
              "outlinewidth": 0,
              "ticks": ""
             }
            },
            "type": "scattercarpet"
           }
          ],
          "scattergeo": [
           {
            "marker": {
             "colorbar": {
              "outlinewidth": 0,
              "ticks": ""
             }
            },
            "type": "scattergeo"
           }
          ],
          "scattergl": [
           {
            "marker": {
             "colorbar": {
              "outlinewidth": 0,
              "ticks": ""
             }
            },
            "type": "scattergl"
           }
          ],
          "scattermapbox": [
           {
            "marker": {
             "colorbar": {
              "outlinewidth": 0,
              "ticks": ""
             }
            },
            "type": "scattermapbox"
           }
          ],
          "scatterpolar": [
           {
            "marker": {
             "colorbar": {
              "outlinewidth": 0,
              "ticks": ""
             }
            },
            "type": "scatterpolar"
           }
          ],
          "scatterpolargl": [
           {
            "marker": {
             "colorbar": {
              "outlinewidth": 0,
              "ticks": ""
             }
            },
            "type": "scatterpolargl"
           }
          ],
          "scatterternary": [
           {
            "marker": {
             "colorbar": {
              "outlinewidth": 0,
              "ticks": ""
             }
            },
            "type": "scatterternary"
           }
          ],
          "surface": [
           {
            "colorbar": {
             "outlinewidth": 0,
             "ticks": ""
            },
            "colorscale": [
             [
              0,
              "#0d0887"
             ],
             [
              0.1111111111111111,
              "#46039f"
             ],
             [
              0.2222222222222222,
              "#7201a8"
             ],
             [
              0.3333333333333333,
              "#9c179e"
             ],
             [
              0.4444444444444444,
              "#bd3786"
             ],
             [
              0.5555555555555556,
              "#d8576b"
             ],
             [
              0.6666666666666666,
              "#ed7953"
             ],
             [
              0.7777777777777778,
              "#fb9f3a"
             ],
             [
              0.8888888888888888,
              "#fdca26"
             ],
             [
              1,
              "#f0f921"
             ]
            ],
            "type": "surface"
           }
          ],
          "table": [
           {
            "cells": {
             "fill": {
              "color": "#EBF0F8"
             },
             "line": {
              "color": "white"
             }
            },
            "header": {
             "fill": {
              "color": "#C8D4E3"
             },
             "line": {
              "color": "white"
             }
            },
            "type": "table"
           }
          ]
         },
         "layout": {
          "annotationdefaults": {
           "arrowcolor": "#2a3f5f",
           "arrowhead": 0,
           "arrowwidth": 1
          },
          "autotypenumbers": "strict",
          "coloraxis": {
           "colorbar": {
            "outlinewidth": 0,
            "ticks": ""
           }
          },
          "colorscale": {
           "diverging": [
            [
             0,
             "#8e0152"
            ],
            [
             0.1,
             "#c51b7d"
            ],
            [
             0.2,
             "#de77ae"
            ],
            [
             0.3,
             "#f1b6da"
            ],
            [
             0.4,
             "#fde0ef"
            ],
            [
             0.5,
             "#f7f7f7"
            ],
            [
             0.6,
             "#e6f5d0"
            ],
            [
             0.7,
             "#b8e186"
            ],
            [
             0.8,
             "#7fbc41"
            ],
            [
             0.9,
             "#4d9221"
            ],
            [
             1,
             "#276419"
            ]
           ],
           "sequential": [
            [
             0,
             "#0d0887"
            ],
            [
             0.1111111111111111,
             "#46039f"
            ],
            [
             0.2222222222222222,
             "#7201a8"
            ],
            [
             0.3333333333333333,
             "#9c179e"
            ],
            [
             0.4444444444444444,
             "#bd3786"
            ],
            [
             0.5555555555555556,
             "#d8576b"
            ],
            [
             0.6666666666666666,
             "#ed7953"
            ],
            [
             0.7777777777777778,
             "#fb9f3a"
            ],
            [
             0.8888888888888888,
             "#fdca26"
            ],
            [
             1,
             "#f0f921"
            ]
           ],
           "sequentialminus": [
            [
             0,
             "#0d0887"
            ],
            [
             0.1111111111111111,
             "#46039f"
            ],
            [
             0.2222222222222222,
             "#7201a8"
            ],
            [
             0.3333333333333333,
             "#9c179e"
            ],
            [
             0.4444444444444444,
             "#bd3786"
            ],
            [
             0.5555555555555556,
             "#d8576b"
            ],
            [
             0.6666666666666666,
             "#ed7953"
            ],
            [
             0.7777777777777778,
             "#fb9f3a"
            ],
            [
             0.8888888888888888,
             "#fdca26"
            ],
            [
             1,
             "#f0f921"
            ]
           ]
          },
          "colorway": [
           "#636efa",
           "#EF553B",
           "#00cc96",
           "#ab63fa",
           "#FFA15A",
           "#19d3f3",
           "#FF6692",
           "#B6E880",
           "#FF97FF",
           "#FECB52"
          ],
          "font": {
           "color": "#2a3f5f"
          },
          "geo": {
           "bgcolor": "white",
           "lakecolor": "white",
           "landcolor": "#E5ECF6",
           "showlakes": true,
           "showland": true,
           "subunitcolor": "white"
          },
          "hoverlabel": {
           "align": "left"
          },
          "hovermode": "closest",
          "mapbox": {
           "style": "light"
          },
          "paper_bgcolor": "white",
          "plot_bgcolor": "#E5ECF6",
          "polar": {
           "angularaxis": {
            "gridcolor": "white",
            "linecolor": "white",
            "ticks": ""
           },
           "bgcolor": "#E5ECF6",
           "radialaxis": {
            "gridcolor": "white",
            "linecolor": "white",
            "ticks": ""
           }
          },
          "scene": {
           "xaxis": {
            "backgroundcolor": "#E5ECF6",
            "gridcolor": "white",
            "gridwidth": 2,
            "linecolor": "white",
            "showbackground": true,
            "ticks": "",
            "zerolinecolor": "white"
           },
           "yaxis": {
            "backgroundcolor": "#E5ECF6",
            "gridcolor": "white",
            "gridwidth": 2,
            "linecolor": "white",
            "showbackground": true,
            "ticks": "",
            "zerolinecolor": "white"
           },
           "zaxis": {
            "backgroundcolor": "#E5ECF6",
            "gridcolor": "white",
            "gridwidth": 2,
            "linecolor": "white",
            "showbackground": true,
            "ticks": "",
            "zerolinecolor": "white"
           }
          },
          "shapedefaults": {
           "line": {
            "color": "#2a3f5f"
           }
          },
          "ternary": {
           "aaxis": {
            "gridcolor": "white",
            "linecolor": "white",
            "ticks": ""
           },
           "baxis": {
            "gridcolor": "white",
            "linecolor": "white",
            "ticks": ""
           },
           "bgcolor": "#E5ECF6",
           "caxis": {
            "gridcolor": "white",
            "linecolor": "white",
            "ticks": ""
           }
          },
          "title": {
           "x": 0.05
          },
          "xaxis": {
           "automargin": true,
           "gridcolor": "white",
           "linecolor": "white",
           "ticks": "",
           "title": {
            "standoff": 15
           },
           "zerolinecolor": "white",
           "zerolinewidth": 2
          },
          "yaxis": {
           "automargin": true,
           "gridcolor": "white",
           "linecolor": "white",
           "ticks": "",
           "title": {
            "standoff": 15
           },
           "zerolinecolor": "white",
           "zerolinewidth": 2
          }
         }
        },
        "title": {
         "text": "Top 10 Manufacturers by Total Bottle Weight"
        },
        "xaxis": {
         "title": {
          "text": "Total Bottle Weight(kgs)"
         }
        },
        "yaxis": {
         "title": {
          "text": "Manufacturer"
         }
        }
       }
      }
     },
     "metadata": {},
     "output_type": "display_data"
    }
   ],
   "source": [
    "\n",
    "# Sort the manufacturer_grouped DataFrame by total_bottle_weight in descending order\n",
    "top_10_manufacturers_weight = manufacturer_grouped.sort_values('total_bottle_weight', ascending=False).head(10)\n",
    "\n",
    "# Create the horizontal bar plot\n",
    "fig = go.Figure(data=go.Bar(\n",
    "    y=top_10_manufacturers_weight.index,  # Manufacturer names\n",
    "    x=top_10_manufacturers_weight['total_bottle_weight'],  # Total bottle weight\n",
    "    \n",
    "    orientation='h'  # Horizontal orientation\n",
    "))\n",
    "\n",
    "# Customize the layout of the plot\n",
    "fig.update_layout(\n",
    "    title='Top 10 Manufacturers by Total Bottle Weight',\n",
    "    xaxis_title='Total Bottle Weight(kgs)',\n",
    "    yaxis_title='Manufacturer'\n",
    ")\n",
    "\n",
    "# Show the plot\n",
    "fig.show()\n"
   ]
  },
  {
   "attachments": {},
   "cell_type": "markdown",
   "id": "77f7fd39",
   "metadata": {},
   "source": [
    "***Table showing the top 3 manufacturer names with most plastic bottles in each country***"
   ]
  },
  {
   "cell_type": "code",
   "execution_count": 285,
   "id": "2a94771d",
   "metadata": {},
   "outputs": [],
   "source": [
    "# Calculate the bottle count percentage\n",
    "manufacturer_df['bottle_count_percentage'] = manufacturer_df['bottle_count'] / manufacturer_df['bottle_count'].sum() * 100\n"
   ]
  },
  {
   "cell_type": "code",
   "execution_count": 286,
   "id": "5f28d8fe",
   "metadata": {},
   "outputs": [
    {
     "name": "stdout",
     "output_type": "stream",
     "text": [
      "Country:  Kenya\n",
      "Top Manufacturers:\n",
      "Manufacturer: Coca-Cola\n",
      "Total Bottle Count Percentage: 25.982238010657145 %\n",
      "\n",
      "Manufacturer: Salama ICE Drinking Water\n",
      "Total Bottle Count Percentage: 9.674955595026642 %\n",
      "\n",
      "Manufacturer: BAKHRESA GROUP DIVISIONS\n",
      "Total Bottle Count Percentage: 8.8898756660746 %\n",
      "\n"
     ]
    }
   ],
   "source": [
    "# Specify the default country name\n",
    "default_country = 'Kenya'\n",
    "\n",
    "# Set the country name to the default country if not provided by the user\n",
    "country_name = default_country or input(\"Enter the country name: \") \n",
    "\n",
    "# Filter the manufacturer_df based on the specified country name\n",
    "filtered_df = manufacturer_df[manufacturer_df['country_name'] == country_name].copy()\n",
    "\n",
    "# Calculate bottlecount_percent\n",
    "filtered_df['bottlecount_percent'] = (filtered_df['bottle_count'] / filtered_df['bottle_count'].sum()) * 100\n",
    "\n",
    "# Group the filtered_df by manufacturer_name and calculate the total bottlecount_percentage for each manufacturer\n",
    "grouped_df = filtered_df.groupby('manufacturer_name')['bottlecount_percent'].sum()\n",
    "\n",
    "# Get the top 3 manufacturers and their corresponding total bottlecount_percentage\n",
    "top_manufacturers = grouped_df.nlargest(3)\n",
    "\n",
    "# Print the country name and the top manufacturers with their total bottlecount_percentage\n",
    "print(\"Country: \", country_name)\n",
    "print(\"Top Manufacturers:\")\n",
    "if len(top_manufacturers) > 0:\n",
    "    for manufacturer, percentage in top_manufacturers.items():\n",
    "        print(\"Manufacturer:\", manufacturer)\n",
    "        print(\"Total Bottle Count Percentage:\", percentage,\"%\")\n",
    "        print()\n",
    "else:\n",
    "    print(\"No manufacturer names found for the specified country.\")\n"
   ]
  },
  {
   "cell_type": "code",
   "execution_count": null,
   "id": "34bfabaf",
   "metadata": {},
   "outputs": [],
   "source": []
  },
  {
   "attachments": {},
   "cell_type": "markdown",
   "id": "21fa5e7e",
   "metadata": {},
   "source": []
  },
  {
   "attachments": {},
   "cell_type": "markdown",
   "id": "927f60ea",
   "metadata": {},
   "source": [
    "### 3. Bottle size polluting the environment most"
   ]
  },
  {
   "cell_type": "code",
   "execution_count": 287,
   "id": "9996e413",
   "metadata": {},
   "outputs": [
    {
     "name": "stdout",
     "output_type": "stream",
     "text": [
      "Count of values ending with 'L': 30983\n"
     ]
    }
   ],
   "source": [
    "\n",
    "l_count = manufacturer_df['product_size'].str.endswith('L').sum()\n",
    "\n",
    "print(\"Count of values ending with 'L':\", l_count)\n"
   ]
  },
  {
   "cell_type": "code",
   "execution_count": 288,
   "id": "0aa00ea2",
   "metadata": {},
   "outputs": [
    {
     "name": "stdout",
     "output_type": "stream",
     "text": [
      "Count of values not ending with 'ML' or 'L': 2024\n"
     ]
    }
   ],
   "source": [
    "non_ml_l_count = (~manufacturer_df['product_size'].str.endswith('ML')) & (~manufacturer_df['product_size'].str.endswith('L'))\n",
    "count = non_ml_l_count.sum()\n",
    "\n",
    "print(\"Count of values not ending with 'ML' or 'L':\", count)\n"
   ]
  },
  {
   "cell_type": "code",
   "execution_count": 289,
   "id": "ce212347",
   "metadata": {},
   "outputs": [
    {
     "name": "stdout",
     "output_type": "stream",
     "text": [
      "Percentage of values not ending with 'ML' or 'L': 6.132032599145636 %\n"
     ]
    }
   ],
   "source": [
    "total_count = len(manufacturer_df)\n",
    "non_ml_l_count = (~manufacturer_df['product_size'].str.endswith('ML')) & (~manufacturer_df['product_size'].str.endswith('L'))\n",
    "count = non_ml_l_count.sum()\n",
    "percentage = (count / total_count) * 100\n",
    "\n",
    "print(\"Percentage of values not ending with 'ML' or 'L':\", percentage, \"%\")\n"
   ]
  },
  {
   "cell_type": "code",
   "execution_count": 290,
   "id": "50b423e8",
   "metadata": {},
   "outputs": [],
   "source": [
    "# drop rows whose values in product_size column don't end with L\n",
    "manufacturer_df = manufacturer_df[manufacturer_df['product_size'].str.endswith('L')]\n"
   ]
  },
  {
   "cell_type": "code",
   "execution_count": 291,
   "id": "d7d37a44",
   "metadata": {},
   "outputs": [],
   "source": [
    "# Create a dataframe with rows ending with 'ML'\n",
    "ML_df = manufacturer_df[manufacturer_df['product_size'].str.endswith('ML')]\n",
    "\n",
    "# Create a dataframe with rows not ending with 'ML'\n",
    "L_df = manufacturer_df[~manufacturer_df['product_size'].str.endswith('ML')]\n"
   ]
  },
  {
   "cell_type": "code",
   "execution_count": 292,
   "metadata": {},
   "outputs": [
    {
     "name": "stderr",
     "output_type": "stream",
     "text": [
      "c:\\Users\\Eston\\anaconda3\\envs\\learn-env\\lib\\site-packages\\pandas\\core\\indexing.py:1745: SettingWithCopyWarning:\n",
      "\n",
      "\n",
      "A value is trying to be set on a copy of a slice from a DataFrame.\n",
      "Try using .loc[row_indexer,col_indexer] = value instead\n",
      "\n",
      "See the caveats in the documentation: https://pandas.pydata.org/pandas-docs/stable/user_guide/indexing.html#returning-a-view-versus-a-copy\n",
      "\n"
     ]
    }
   ],
   "source": [
    "L_df.loc[:, 'product_size'] = L_df.loc[:, 'product_size'].astype(str)  # Convert to string\n",
    "L_df.loc[:, 'product_size'] = L_df.loc[:, 'product_size'].str.rstrip('L')  # Remove 'L' suffix\n",
    "L_df.loc[:, 'product_size'] = L_df.loc[:, 'product_size'].astype(float) * 1000  # Convert to float and multiply by 1000\n",
    "L_df.loc[:, 'product_size'] = L_df.loc[:, 'product_size'].astype(int)  # Convert to integer\n"
   ]
  },
  {
   "cell_type": "code",
   "execution_count": 293,
   "id": "667bf7c1",
   "metadata": {},
   "outputs": [],
   "source": [
    "ML_df.loc[:, 'product_size'] = ML_df.loc[:, 'product_size'].astype(str)  # Convert to string\n",
    "ML_df.loc[:, 'product_size'] = ML_df.loc[:, 'product_size'].str.rstrip('ML')  # Remove 'ML' suffix\n",
    "ML_df.loc[:, 'product_size'] = ML_df.loc[:, 'product_size'].astype(float)\n",
    "ML_df.loc[:, 'product_size'] = ML_df.loc[:, 'product_size'].astype(int)  # Convert to integer\n"
   ]
  },
  {
   "cell_type": "code",
   "execution_count": 294,
   "metadata": {},
   "outputs": [],
   "source": [
    "product_df = pd.concat([ML_df, L_df])"
   ]
  },
  {
   "cell_type": "code",
   "execution_count": 295,
   "id": "c9ff76c3",
   "metadata": {},
   "outputs": [
    {
     "data": {
      "text/html": [
       "<div>\n",
       "<style scoped>\n",
       "    .dataframe tbody tr th:only-of-type {\n",
       "        vertical-align: middle;\n",
       "    }\n",
       "\n",
       "    .dataframe tbody tr th {\n",
       "        vertical-align: top;\n",
       "    }\n",
       "\n",
       "    .dataframe thead th {\n",
       "        text-align: right;\n",
       "    }\n",
       "</style>\n",
       "<table border=\"1\" class=\"dataframe\">\n",
       "  <thead>\n",
       "    <tr style=\"text-align: right;\">\n",
       "      <th></th>\n",
       "      <th>product_barcode</th>\n",
       "      <th>product_label</th>\n",
       "      <th>product_size</th>\n",
       "      <th>brand_name</th>\n",
       "      <th>manufacturer_country</th>\n",
       "      <th>manufacturer_name</th>\n",
       "      <th>scan_country</th>\n",
       "      <th>data_url</th>\n",
       "      <th>bottle_weight</th>\n",
       "      <th>bottle_count</th>\n",
       "      <th>total_bottle_weight</th>\n",
       "      <th>country_name</th>\n",
       "      <th>bottle_count_percentage</th>\n",
       "    </tr>\n",
       "  </thead>\n",
       "  <tbody>\n",
       "    <tr>\n",
       "      <th>0</th>\n",
       "      <td>610696090768</td>\n",
       "      <td>Vimto Gasificado</td>\n",
       "      <td>350</td>\n",
       "      <td>Vimto</td>\n",
       "      <td>GB</td>\n",
       "      <td>Nichols plc</td>\n",
       "      <td>MZ</td>\n",
       "      <td>https://wastebase.org/#/o/85022289-591b-4e34-9...</td>\n",
       "      <td>23.570016</td>\n",
       "      <td>1</td>\n",
       "      <td>0.023570</td>\n",
       "      <td>Mozambique</td>\n",
       "      <td>0.000032</td>\n",
       "    </tr>\n",
       "    <tr>\n",
       "      <th>1</th>\n",
       "      <td>817939012079</td>\n",
       "      <td>Anti-Bac All Purpose Cleaner</td>\n",
       "      <td>828</td>\n",
       "      <td>Method</td>\n",
       "      <td>US</td>\n",
       "      <td>Method Products pbc</td>\n",
       "      <td>GB</td>\n",
       "      <td>https://wastebase.org/#/o/cb2a0f45-314c-4fd0-9...</td>\n",
       "      <td>30.585848</td>\n",
       "      <td>1</td>\n",
       "      <td>0.030586</td>\n",
       "      <td>United Kingdom</td>\n",
       "      <td>0.000032</td>\n",
       "    </tr>\n",
       "    <tr>\n",
       "      <th>3</th>\n",
       "      <td>40822426</td>\n",
       "      <td>Bonaqua Mineral Water</td>\n",
       "      <td>500</td>\n",
       "      <td>Bonaqua</td>\n",
       "      <td>US</td>\n",
       "      <td>Coca-Cola</td>\n",
       "      <td>MZ</td>\n",
       "      <td>https://wastebase.org/#/o/c3710738-2999-4396-a...</td>\n",
       "      <td>23.799617</td>\n",
       "      <td>9</td>\n",
       "      <td>0.214197</td>\n",
       "      <td>Mozambique</td>\n",
       "      <td>0.000286</td>\n",
       "    </tr>\n",
       "    <tr>\n",
       "      <th>4</th>\n",
       "      <td>42380665</td>\n",
       "      <td>Fanta Litchi</td>\n",
       "      <td>280</td>\n",
       "      <td>Fanta</td>\n",
       "      <td>US</td>\n",
       "      <td>Coca-Cola</td>\n",
       "      <td>MZ</td>\n",
       "      <td>https://wastebase.org/#/o/c3710738-2999-4396-a...</td>\n",
       "      <td>20.500000</td>\n",
       "      <td>6</td>\n",
       "      <td>0.123000</td>\n",
       "      <td>Mozambique</td>\n",
       "      <td>0.000191</td>\n",
       "    </tr>\n",
       "    <tr>\n",
       "      <th>5</th>\n",
       "      <td>42380696</td>\n",
       "      <td>Fanta Orange</td>\n",
       "      <td>280</td>\n",
       "      <td>Fanta</td>\n",
       "      <td>US</td>\n",
       "      <td>Coca-Cola</td>\n",
       "      <td>MZ</td>\n",
       "      <td>https://wastebase.org/#/o/c3710738-2999-4396-a...</td>\n",
       "      <td>20.500000</td>\n",
       "      <td>3</td>\n",
       "      <td>0.061500</td>\n",
       "      <td>Mozambique</td>\n",
       "      <td>0.000095</td>\n",
       "    </tr>\n",
       "    <tr>\n",
       "      <th>...</th>\n",
       "      <td>...</td>\n",
       "      <td>...</td>\n",
       "      <td>...</td>\n",
       "      <td>...</td>\n",
       "      <td>...</td>\n",
       "      <td>...</td>\n",
       "      <td>...</td>\n",
       "      <td>...</td>\n",
       "      <td>...</td>\n",
       "      <td>...</td>\n",
       "      <td>...</td>\n",
       "      <td>...</td>\n",
       "      <td>...</td>\n",
       "    </tr>\n",
       "    <tr>\n",
       "      <th>32995</th>\n",
       "      <td>9506000125053</td>\n",
       "      <td>Oleo Alimentar Ativa</td>\n",
       "      <td>2000</td>\n",
       "      <td>Óleo Dona</td>\n",
       "      <td>SG</td>\n",
       "      <td>Olam International Ltd</td>\n",
       "      <td>MZ</td>\n",
       "      <td>https://wastebase.org/#/o/3b2dbe02-26ea-4c8d-a...</td>\n",
       "      <td>53.113872</td>\n",
       "      <td>25</td>\n",
       "      <td>1.327847</td>\n",
       "      <td>Mozambique</td>\n",
       "      <td>0.000796</td>\n",
       "    </tr>\n",
       "    <tr>\n",
       "      <th>32997</th>\n",
       "      <td>9507000007479</td>\n",
       "      <td>Água Pura</td>\n",
       "      <td>1500</td>\n",
       "      <td>Glaciar</td>\n",
       "      <td>MZ</td>\n",
       "      <td>Glaciar Industria e Comercio</td>\n",
       "      <td>MZ</td>\n",
       "      <td>https://wastebase.org/#/o/0d4adecb-eec9-41d4-b...</td>\n",
       "      <td>47.000000</td>\n",
       "      <td>7</td>\n",
       "      <td>0.329000</td>\n",
       "      <td>Mozambique</td>\n",
       "      <td>0.000223</td>\n",
       "    </tr>\n",
       "    <tr>\n",
       "      <th>32999</th>\n",
       "      <td>9556135421506</td>\n",
       "      <td>Drinking Water</td>\n",
       "      <td>1500</td>\n",
       "      <td>Summer</td>\n",
       "      <td>UK</td>\n",
       "      <td>UNKNOWN_ORG</td>\n",
       "      <td>MZ</td>\n",
       "      <td>https://wastebase.org/#/o/00000000-0000-0000-0...</td>\n",
       "      <td>47.000000</td>\n",
       "      <td>1</td>\n",
       "      <td>0.047000</td>\n",
       "      <td>Mozambique</td>\n",
       "      <td>0.000032</td>\n",
       "    </tr>\n",
       "    <tr>\n",
       "      <th>33001</th>\n",
       "      <td>9716188532134</td>\n",
       "      <td>Agua Purificada</td>\n",
       "      <td>1500</td>\n",
       "      <td>Nevada</td>\n",
       "      <td>MZ</td>\n",
       "      <td>Nevada General Supplies Co, Lda</td>\n",
       "      <td>MZ</td>\n",
       "      <td>https://wastebase.org/#/o/dd241782-fd94-4a13-9...</td>\n",
       "      <td>47.000000</td>\n",
       "      <td>49</td>\n",
       "      <td>2.303000</td>\n",
       "      <td>Mozambique</td>\n",
       "      <td>0.001560</td>\n",
       "    </tr>\n",
       "    <tr>\n",
       "      <th>33002</th>\n",
       "      <td>9716188532141</td>\n",
       "      <td>Agua Purificada</td>\n",
       "      <td>5000</td>\n",
       "      <td>Nevada</td>\n",
       "      <td>MZ</td>\n",
       "      <td>Nevada General Supplies Co, Lda</td>\n",
       "      <td>MZ</td>\n",
       "      <td>https://wastebase.org/#/o/dd241782-fd94-4a13-9...</td>\n",
       "      <td>110.000000</td>\n",
       "      <td>83</td>\n",
       "      <td>9.130000</td>\n",
       "      <td>Mozambique</td>\n",
       "      <td>0.002642</td>\n",
       "    </tr>\n",
       "  </tbody>\n",
       "</table>\n",
       "<p>30983 rows × 13 columns</p>\n",
       "</div>"
      ],
      "text/plain": [
       "       product_barcode                 product_label  product_size brand_name  \\\n",
       "0         610696090768              Vimto Gasificado           350      Vimto   \n",
       "1         817939012079  Anti-Bac All Purpose Cleaner           828     Method   \n",
       "3             40822426         Bonaqua Mineral Water           500    Bonaqua   \n",
       "4             42380665                  Fanta Litchi           280      Fanta   \n",
       "5             42380696                  Fanta Orange           280      Fanta   \n",
       "...                ...                           ...           ...        ...   \n",
       "32995    9506000125053          Oleo Alimentar Ativa          2000  Óleo Dona   \n",
       "32997    9507000007479                     Água Pura          1500    Glaciar   \n",
       "32999    9556135421506                Drinking Water          1500     Summer   \n",
       "33001    9716188532134               Agua Purificada          1500     Nevada   \n",
       "33002    9716188532141               Agua Purificada          5000     Nevada   \n",
       "\n",
       "      manufacturer_country                manufacturer_name scan_country  \\\n",
       "0                       GB                      Nichols plc           MZ   \n",
       "1                       US              Method Products pbc           GB   \n",
       "3                       US                        Coca-Cola           MZ   \n",
       "4                       US                        Coca-Cola           MZ   \n",
       "5                       US                        Coca-Cola           MZ   \n",
       "...                    ...                              ...          ...   \n",
       "32995                   SG           Olam International Ltd           MZ   \n",
       "32997                   MZ     Glaciar Industria e Comercio           MZ   \n",
       "32999                   UK                      UNKNOWN_ORG           MZ   \n",
       "33001                   MZ  Nevada General Supplies Co, Lda           MZ   \n",
       "33002                   MZ  Nevada General Supplies Co, Lda           MZ   \n",
       "\n",
       "                                                data_url  bottle_weight  \\\n",
       "0      https://wastebase.org/#/o/85022289-591b-4e34-9...      23.570016   \n",
       "1      https://wastebase.org/#/o/cb2a0f45-314c-4fd0-9...      30.585848   \n",
       "3      https://wastebase.org/#/o/c3710738-2999-4396-a...      23.799617   \n",
       "4      https://wastebase.org/#/o/c3710738-2999-4396-a...      20.500000   \n",
       "5      https://wastebase.org/#/o/c3710738-2999-4396-a...      20.500000   \n",
       "...                                                  ...            ...   \n",
       "32995  https://wastebase.org/#/o/3b2dbe02-26ea-4c8d-a...      53.113872   \n",
       "32997  https://wastebase.org/#/o/0d4adecb-eec9-41d4-b...      47.000000   \n",
       "32999  https://wastebase.org/#/o/00000000-0000-0000-0...      47.000000   \n",
       "33001  https://wastebase.org/#/o/dd241782-fd94-4a13-9...      47.000000   \n",
       "33002  https://wastebase.org/#/o/dd241782-fd94-4a13-9...     110.000000   \n",
       "\n",
       "       bottle_count  total_bottle_weight    country_name  \\\n",
       "0                 1             0.023570      Mozambique   \n",
       "1                 1             0.030586  United Kingdom   \n",
       "3                 9             0.214197      Mozambique   \n",
       "4                 6             0.123000      Mozambique   \n",
       "5                 3             0.061500      Mozambique   \n",
       "...             ...                  ...             ...   \n",
       "32995            25             1.327847      Mozambique   \n",
       "32997             7             0.329000      Mozambique   \n",
       "32999             1             0.047000      Mozambique   \n",
       "33001            49             2.303000      Mozambique   \n",
       "33002            83             9.130000      Mozambique   \n",
       "\n",
       "       bottle_count_percentage  \n",
       "0                     0.000032  \n",
       "1                     0.000032  \n",
       "3                     0.000286  \n",
       "4                     0.000191  \n",
       "5                     0.000095  \n",
       "...                        ...  \n",
       "32995                 0.000796  \n",
       "32997                 0.000223  \n",
       "32999                 0.000032  \n",
       "33001                 0.001560  \n",
       "33002                 0.002642  \n",
       "\n",
       "[30983 rows x 13 columns]"
      ]
     },
     "execution_count": 295,
     "metadata": {},
     "output_type": "execute_result"
    }
   ],
   "source": [
    "product_df"
   ]
  },
  {
   "attachments": {},
   "cell_type": "markdown",
   "id": "1907f8e4",
   "metadata": {},
   "source": [
    "***Bottle size group polluting the environment the most***"
   ]
  },
  {
   "cell_type": "code",
   "execution_count": 296,
   "id": "d383a6ff",
   "metadata": {},
   "outputs": [
    {
     "data": {
      "text/html": [
       "<div>\n",
       "<style scoped>\n",
       "    .dataframe tbody tr th:only-of-type {\n",
       "        vertical-align: middle;\n",
       "    }\n",
       "\n",
       "    .dataframe tbody tr th {\n",
       "        vertical-align: top;\n",
       "    }\n",
       "\n",
       "    .dataframe thead th {\n",
       "        text-align: right;\n",
       "    }\n",
       "</style>\n",
       "<table border=\"1\" class=\"dataframe\">\n",
       "  <thead>\n",
       "    <tr style=\"text-align: right;\">\n",
       "      <th></th>\n",
       "      <th>product_group</th>\n",
       "      <th>bottle_count</th>\n",
       "      <th>size_description</th>\n",
       "    </tr>\n",
       "  </thead>\n",
       "  <tbody>\n",
       "    <tr>\n",
       "      <th>0</th>\n",
       "      <td>0-250 ml</td>\n",
       "      <td>43701</td>\n",
       "      <td>Mini</td>\n",
       "    </tr>\n",
       "    <tr>\n",
       "      <th>1</th>\n",
       "      <td>251-500 ml</td>\n",
       "      <td>1360082</td>\n",
       "      <td>Small</td>\n",
       "    </tr>\n",
       "    <tr>\n",
       "      <th>2</th>\n",
       "      <td>501-1000 ml</td>\n",
       "      <td>875098</td>\n",
       "      <td>Medium</td>\n",
       "    </tr>\n",
       "    <tr>\n",
       "      <th>3</th>\n",
       "      <td>1001-2000 ml</td>\n",
       "      <td>478352</td>\n",
       "      <td>Large</td>\n",
       "    </tr>\n",
       "    <tr>\n",
       "      <th>4</th>\n",
       "      <td>2001-5000 ml</td>\n",
       "      <td>215980</td>\n",
       "      <td>Extra Large</td>\n",
       "    </tr>\n",
       "    <tr>\n",
       "      <th>5</th>\n",
       "      <td>5001+ ml</td>\n",
       "      <td>151240</td>\n",
       "      <td>Super Large</td>\n",
       "    </tr>\n",
       "  </tbody>\n",
       "</table>\n",
       "</div>"
      ],
      "text/plain": [
       "  product_group  bottle_count size_description\n",
       "0      0-250 ml         43701             Mini\n",
       "1    251-500 ml       1360082            Small\n",
       "2   501-1000 ml        875098           Medium\n",
       "3  1001-2000 ml        478352            Large\n",
       "4  2001-5000 ml        215980      Extra Large\n",
       "5      5001+ ml        151240      Super Large"
      ]
     },
     "execution_count": 296,
     "metadata": {},
     "output_type": "execute_result"
    }
   ],
   "source": [
    "\n",
    "# Create custom labels for the size groups\n",
    "size_labels = ['0-250 ml', '251-500 ml', '501-1000 ml', '1001-2000 ml', '2001-5000 ml', '5001+ ml']\n",
    "\n",
    "# Create custom size bins for grouping\n",
    "size_bins = [0, 250, 500, 1000, 2000, 5000, np.inf]\n",
    "\n",
    "# Assign size group labels based on the product size\n",
    "product_df['product_group'] = pd.cut(product_df['product_size'], bins=size_bins, labels=size_labels, right=False)\n",
    "\n",
    "# Group the data by the \"product_group\" column and calculate the sum of \"bottle_count\"\n",
    "product_group_df = product_df.groupby('product_group')['bottle_count'].sum().reset_index()\n",
    "\n",
    "# Add a description column based on the size group labels\n",
    "product_group_df['size_description'] = ['Mini','Small', 'Medium', 'Large', 'Extra Large', 'Super Large']\n",
    "\n",
    "# Display the product_group_df DataFrame\n",
    "product_group_df\n"
   ]
  },
  {
   "cell_type": "code",
   "execution_count": 297,
   "id": "bf087511",
   "metadata": {},
   "outputs": [
    {
     "data": {
      "application/vnd.plotly.v1+json": {
       "config": {
        "plotlyServerURL": "https://plot.ly"
       },
       "data": [
        {
         "hovertemplate": "<b>%{x}</b><br>Bottle Count: %{y}<br>Size Description: %{text}",
         "text": [
          "Mini",
          "Small",
          "Medium",
          "Large",
          "Extra Large",
          "Super Large"
         ],
         "textposition": "auto",
         "type": "bar",
         "x": [
          "0-250 ml",
          "251-500 ml",
          "501-1000 ml",
          "1001-2000 ml",
          "2001-5000 ml",
          "5001+ ml"
         ],
         "y": [
          43701,
          1360082,
          875098,
          478352,
          215980,
          151240
         ]
        }
       ],
       "layout": {
        "template": {
         "data": {
          "bar": [
           {
            "error_x": {
             "color": "#2a3f5f"
            },
            "error_y": {
             "color": "#2a3f5f"
            },
            "marker": {
             "line": {
              "color": "#E5ECF6",
              "width": 0.5
             },
             "pattern": {
              "fillmode": "overlay",
              "size": 10,
              "solidity": 0.2
             }
            },
            "type": "bar"
           }
          ],
          "barpolar": [
           {
            "marker": {
             "line": {
              "color": "#E5ECF6",
              "width": 0.5
             },
             "pattern": {
              "fillmode": "overlay",
              "size": 10,
              "solidity": 0.2
             }
            },
            "type": "barpolar"
           }
          ],
          "carpet": [
           {
            "aaxis": {
             "endlinecolor": "#2a3f5f",
             "gridcolor": "white",
             "linecolor": "white",
             "minorgridcolor": "white",
             "startlinecolor": "#2a3f5f"
            },
            "baxis": {
             "endlinecolor": "#2a3f5f",
             "gridcolor": "white",
             "linecolor": "white",
             "minorgridcolor": "white",
             "startlinecolor": "#2a3f5f"
            },
            "type": "carpet"
           }
          ],
          "choropleth": [
           {
            "colorbar": {
             "outlinewidth": 0,
             "ticks": ""
            },
            "type": "choropleth"
           }
          ],
          "contour": [
           {
            "colorbar": {
             "outlinewidth": 0,
             "ticks": ""
            },
            "colorscale": [
             [
              0,
              "#0d0887"
             ],
             [
              0.1111111111111111,
              "#46039f"
             ],
             [
              0.2222222222222222,
              "#7201a8"
             ],
             [
              0.3333333333333333,
              "#9c179e"
             ],
             [
              0.4444444444444444,
              "#bd3786"
             ],
             [
              0.5555555555555556,
              "#d8576b"
             ],
             [
              0.6666666666666666,
              "#ed7953"
             ],
             [
              0.7777777777777778,
              "#fb9f3a"
             ],
             [
              0.8888888888888888,
              "#fdca26"
             ],
             [
              1,
              "#f0f921"
             ]
            ],
            "type": "contour"
           }
          ],
          "contourcarpet": [
           {
            "colorbar": {
             "outlinewidth": 0,
             "ticks": ""
            },
            "type": "contourcarpet"
           }
          ],
          "heatmap": [
           {
            "colorbar": {
             "outlinewidth": 0,
             "ticks": ""
            },
            "colorscale": [
             [
              0,
              "#0d0887"
             ],
             [
              0.1111111111111111,
              "#46039f"
             ],
             [
              0.2222222222222222,
              "#7201a8"
             ],
             [
              0.3333333333333333,
              "#9c179e"
             ],
             [
              0.4444444444444444,
              "#bd3786"
             ],
             [
              0.5555555555555556,
              "#d8576b"
             ],
             [
              0.6666666666666666,
              "#ed7953"
             ],
             [
              0.7777777777777778,
              "#fb9f3a"
             ],
             [
              0.8888888888888888,
              "#fdca26"
             ],
             [
              1,
              "#f0f921"
             ]
            ],
            "type": "heatmap"
           }
          ],
          "heatmapgl": [
           {
            "colorbar": {
             "outlinewidth": 0,
             "ticks": ""
            },
            "colorscale": [
             [
              0,
              "#0d0887"
             ],
             [
              0.1111111111111111,
              "#46039f"
             ],
             [
              0.2222222222222222,
              "#7201a8"
             ],
             [
              0.3333333333333333,
              "#9c179e"
             ],
             [
              0.4444444444444444,
              "#bd3786"
             ],
             [
              0.5555555555555556,
              "#d8576b"
             ],
             [
              0.6666666666666666,
              "#ed7953"
             ],
             [
              0.7777777777777778,
              "#fb9f3a"
             ],
             [
              0.8888888888888888,
              "#fdca26"
             ],
             [
              1,
              "#f0f921"
             ]
            ],
            "type": "heatmapgl"
           }
          ],
          "histogram": [
           {
            "marker": {
             "pattern": {
              "fillmode": "overlay",
              "size": 10,
              "solidity": 0.2
             }
            },
            "type": "histogram"
           }
          ],
          "histogram2d": [
           {
            "colorbar": {
             "outlinewidth": 0,
             "ticks": ""
            },
            "colorscale": [
             [
              0,
              "#0d0887"
             ],
             [
              0.1111111111111111,
              "#46039f"
             ],
             [
              0.2222222222222222,
              "#7201a8"
             ],
             [
              0.3333333333333333,
              "#9c179e"
             ],
             [
              0.4444444444444444,
              "#bd3786"
             ],
             [
              0.5555555555555556,
              "#d8576b"
             ],
             [
              0.6666666666666666,
              "#ed7953"
             ],
             [
              0.7777777777777778,
              "#fb9f3a"
             ],
             [
              0.8888888888888888,
              "#fdca26"
             ],
             [
              1,
              "#f0f921"
             ]
            ],
            "type": "histogram2d"
           }
          ],
          "histogram2dcontour": [
           {
            "colorbar": {
             "outlinewidth": 0,
             "ticks": ""
            },
            "colorscale": [
             [
              0,
              "#0d0887"
             ],
             [
              0.1111111111111111,
              "#46039f"
             ],
             [
              0.2222222222222222,
              "#7201a8"
             ],
             [
              0.3333333333333333,
              "#9c179e"
             ],
             [
              0.4444444444444444,
              "#bd3786"
             ],
             [
              0.5555555555555556,
              "#d8576b"
             ],
             [
              0.6666666666666666,
              "#ed7953"
             ],
             [
              0.7777777777777778,
              "#fb9f3a"
             ],
             [
              0.8888888888888888,
              "#fdca26"
             ],
             [
              1,
              "#f0f921"
             ]
            ],
            "type": "histogram2dcontour"
           }
          ],
          "mesh3d": [
           {
            "colorbar": {
             "outlinewidth": 0,
             "ticks": ""
            },
            "type": "mesh3d"
           }
          ],
          "parcoords": [
           {
            "line": {
             "colorbar": {
              "outlinewidth": 0,
              "ticks": ""
             }
            },
            "type": "parcoords"
           }
          ],
          "pie": [
           {
            "automargin": true,
            "type": "pie"
           }
          ],
          "scatter": [
           {
            "fillpattern": {
             "fillmode": "overlay",
             "size": 10,
             "solidity": 0.2
            },
            "type": "scatter"
           }
          ],
          "scatter3d": [
           {
            "line": {
             "colorbar": {
              "outlinewidth": 0,
              "ticks": ""
             }
            },
            "marker": {
             "colorbar": {
              "outlinewidth": 0,
              "ticks": ""
             }
            },
            "type": "scatter3d"
           }
          ],
          "scattercarpet": [
           {
            "marker": {
             "colorbar": {
              "outlinewidth": 0,
              "ticks": ""
             }
            },
            "type": "scattercarpet"
           }
          ],
          "scattergeo": [
           {
            "marker": {
             "colorbar": {
              "outlinewidth": 0,
              "ticks": ""
             }
            },
            "type": "scattergeo"
           }
          ],
          "scattergl": [
           {
            "marker": {
             "colorbar": {
              "outlinewidth": 0,
              "ticks": ""
             }
            },
            "type": "scattergl"
           }
          ],
          "scattermapbox": [
           {
            "marker": {
             "colorbar": {
              "outlinewidth": 0,
              "ticks": ""
             }
            },
            "type": "scattermapbox"
           }
          ],
          "scatterpolar": [
           {
            "marker": {
             "colorbar": {
              "outlinewidth": 0,
              "ticks": ""
             }
            },
            "type": "scatterpolar"
           }
          ],
          "scatterpolargl": [
           {
            "marker": {
             "colorbar": {
              "outlinewidth": 0,
              "ticks": ""
             }
            },
            "type": "scatterpolargl"
           }
          ],
          "scatterternary": [
           {
            "marker": {
             "colorbar": {
              "outlinewidth": 0,
              "ticks": ""
             }
            },
            "type": "scatterternary"
           }
          ],
          "surface": [
           {
            "colorbar": {
             "outlinewidth": 0,
             "ticks": ""
            },
            "colorscale": [
             [
              0,
              "#0d0887"
             ],
             [
              0.1111111111111111,
              "#46039f"
             ],
             [
              0.2222222222222222,
              "#7201a8"
             ],
             [
              0.3333333333333333,
              "#9c179e"
             ],
             [
              0.4444444444444444,
              "#bd3786"
             ],
             [
              0.5555555555555556,
              "#d8576b"
             ],
             [
              0.6666666666666666,
              "#ed7953"
             ],
             [
              0.7777777777777778,
              "#fb9f3a"
             ],
             [
              0.8888888888888888,
              "#fdca26"
             ],
             [
              1,
              "#f0f921"
             ]
            ],
            "type": "surface"
           }
          ],
          "table": [
           {
            "cells": {
             "fill": {
              "color": "#EBF0F8"
             },
             "line": {
              "color": "white"
             }
            },
            "header": {
             "fill": {
              "color": "#C8D4E3"
             },
             "line": {
              "color": "white"
             }
            },
            "type": "table"
           }
          ]
         },
         "layout": {
          "annotationdefaults": {
           "arrowcolor": "#2a3f5f",
           "arrowhead": 0,
           "arrowwidth": 1
          },
          "autotypenumbers": "strict",
          "coloraxis": {
           "colorbar": {
            "outlinewidth": 0,
            "ticks": ""
           }
          },
          "colorscale": {
           "diverging": [
            [
             0,
             "#8e0152"
            ],
            [
             0.1,
             "#c51b7d"
            ],
            [
             0.2,
             "#de77ae"
            ],
            [
             0.3,
             "#f1b6da"
            ],
            [
             0.4,
             "#fde0ef"
            ],
            [
             0.5,
             "#f7f7f7"
            ],
            [
             0.6,
             "#e6f5d0"
            ],
            [
             0.7,
             "#b8e186"
            ],
            [
             0.8,
             "#7fbc41"
            ],
            [
             0.9,
             "#4d9221"
            ],
            [
             1,
             "#276419"
            ]
           ],
           "sequential": [
            [
             0,
             "#0d0887"
            ],
            [
             0.1111111111111111,
             "#46039f"
            ],
            [
             0.2222222222222222,
             "#7201a8"
            ],
            [
             0.3333333333333333,
             "#9c179e"
            ],
            [
             0.4444444444444444,
             "#bd3786"
            ],
            [
             0.5555555555555556,
             "#d8576b"
            ],
            [
             0.6666666666666666,
             "#ed7953"
            ],
            [
             0.7777777777777778,
             "#fb9f3a"
            ],
            [
             0.8888888888888888,
             "#fdca26"
            ],
            [
             1,
             "#f0f921"
            ]
           ],
           "sequentialminus": [
            [
             0,
             "#0d0887"
            ],
            [
             0.1111111111111111,
             "#46039f"
            ],
            [
             0.2222222222222222,
             "#7201a8"
            ],
            [
             0.3333333333333333,
             "#9c179e"
            ],
            [
             0.4444444444444444,
             "#bd3786"
            ],
            [
             0.5555555555555556,
             "#d8576b"
            ],
            [
             0.6666666666666666,
             "#ed7953"
            ],
            [
             0.7777777777777778,
             "#fb9f3a"
            ],
            [
             0.8888888888888888,
             "#fdca26"
            ],
            [
             1,
             "#f0f921"
            ]
           ]
          },
          "colorway": [
           "#636efa",
           "#EF553B",
           "#00cc96",
           "#ab63fa",
           "#FFA15A",
           "#19d3f3",
           "#FF6692",
           "#B6E880",
           "#FF97FF",
           "#FECB52"
          ],
          "font": {
           "color": "#2a3f5f"
          },
          "geo": {
           "bgcolor": "white",
           "lakecolor": "white",
           "landcolor": "#E5ECF6",
           "showlakes": true,
           "showland": true,
           "subunitcolor": "white"
          },
          "hoverlabel": {
           "align": "left"
          },
          "hovermode": "closest",
          "mapbox": {
           "style": "light"
          },
          "paper_bgcolor": "white",
          "plot_bgcolor": "#E5ECF6",
          "polar": {
           "angularaxis": {
            "gridcolor": "white",
            "linecolor": "white",
            "ticks": ""
           },
           "bgcolor": "#E5ECF6",
           "radialaxis": {
            "gridcolor": "white",
            "linecolor": "white",
            "ticks": ""
           }
          },
          "scene": {
           "xaxis": {
            "backgroundcolor": "#E5ECF6",
            "gridcolor": "white",
            "gridwidth": 2,
            "linecolor": "white",
            "showbackground": true,
            "ticks": "",
            "zerolinecolor": "white"
           },
           "yaxis": {
            "backgroundcolor": "#E5ECF6",
            "gridcolor": "white",
            "gridwidth": 2,
            "linecolor": "white",
            "showbackground": true,
            "ticks": "",
            "zerolinecolor": "white"
           },
           "zaxis": {
            "backgroundcolor": "#E5ECF6",
            "gridcolor": "white",
            "gridwidth": 2,
            "linecolor": "white",
            "showbackground": true,
            "ticks": "",
            "zerolinecolor": "white"
           }
          },
          "shapedefaults": {
           "line": {
            "color": "#2a3f5f"
           }
          },
          "ternary": {
           "aaxis": {
            "gridcolor": "white",
            "linecolor": "white",
            "ticks": ""
           },
           "baxis": {
            "gridcolor": "white",
            "linecolor": "white",
            "ticks": ""
           },
           "bgcolor": "#E5ECF6",
           "caxis": {
            "gridcolor": "white",
            "linecolor": "white",
            "ticks": ""
           }
          },
          "title": {
           "x": 0.05
          },
          "xaxis": {
           "automargin": true,
           "gridcolor": "white",
           "linecolor": "white",
           "ticks": "",
           "title": {
            "standoff": 15
           },
           "zerolinecolor": "white",
           "zerolinewidth": 2
          },
          "yaxis": {
           "automargin": true,
           "gridcolor": "white",
           "linecolor": "white",
           "ticks": "",
           "title": {
            "standoff": 15
           },
           "zerolinecolor": "white",
           "zerolinewidth": 2
          }
         }
        },
        "title": {
         "text": "Bottle Count by Size Group"
        },
        "xaxis": {
         "title": {
          "text": "Size Group"
         }
        },
        "yaxis": {
         "title": {
          "text": "Bottle Count"
         }
        }
       }
      }
     },
     "metadata": {},
     "output_type": "display_data"
    }
   ],
   "source": [
    "\n",
    "# Create the bar graph\n",
    "bar_fig = go.Figure(data=go.Bar(\n",
    "    x=product_group_df['product_group'],  # Group size\n",
    "    y=product_group_df['bottle_count'],  # Bottle count\n",
    "))\n",
    "\n",
    "# Add the size description as labels\n",
    "bar_fig.update_layout(\n",
    "    title='Bottle Count by Size Group',\n",
    "    xaxis_title='Size Group',\n",
    "    yaxis_title='Bottle Count',\n",
    ")\n",
    "\n",
    "bar_fig.update_traces(\n",
    "    text=product_group_df['size_description'],  # Size description as labels\n",
    "    hovertemplate='<b>%{x}</b><br>Bottle Count: %{y}<br>Size Description: %{text}',\n",
    "    textposition='auto',  # Automatically position the labels\n",
    ")\n",
    "\n",
    "# Show the bar graph\n",
    "bar_fig.show()\n"
   ]
  },
  {
   "cell_type": "code",
   "execution_count": null,
   "id": "debb935f",
   "metadata": {},
   "outputs": [],
   "source": []
  },
  {
   "cell_type": "code",
   "execution_count": null,
   "id": "ece8aef3",
   "metadata": {},
   "outputs": [],
   "source": []
  },
  {
   "cell_type": "code",
   "execution_count": null,
   "id": "e635a441",
   "metadata": {},
   "outputs": [],
   "source": []
  },
  {
   "cell_type": "code",
   "execution_count": null,
   "id": "0818e594",
   "metadata": {},
   "outputs": [],
   "source": []
  },
  {
   "attachments": {},
   "cell_type": "markdown",
   "id": "fe812eb3",
   "metadata": {},
   "source": [
    "## Conclusion"
   ]
  },
  {
   "attachments": {},
   "cell_type": "markdown",
   "id": "b686418c",
   "metadata": {},
   "source": [
    "## Recommendation"
   ]
  },
  {
   "cell_type": "code",
   "execution_count": null,
   "id": "13391337",
   "metadata": {},
   "outputs": [],
   "source": []
  },
  {
   "cell_type": "code",
   "execution_count": null,
   "metadata": {},
   "outputs": [],
   "source": []
  },
  {
   "cell_type": "code",
   "execution_count": null,
   "id": "c238db13",
   "metadata": {},
   "outputs": [],
   "source": []
  },
  {
   "cell_type": "code",
   "execution_count": null,
   "id": "8b9d4c5b",
   "metadata": {},
   "outputs": [],
   "source": []
  },
  {
   "cell_type": "code",
   "execution_count": null,
   "id": "408f3fc6",
   "metadata": {},
   "outputs": [],
   "source": []
  },
  {
   "cell_type": "code",
   "execution_count": null,
   "id": "b93868fc",
   "metadata": {},
   "outputs": [],
   "source": []
  }
 ],
 "metadata": {
  "kernelspec": {
   "display_name": "base",
   "language": "python",
   "name": "python3"
  },
  "language_info": {
   "codemirror_mode": {
    "name": "ipython",
    "version": 3
   },
   "file_extension": ".py",
   "mimetype": "text/x-python",
   "name": "python",
   "nbconvert_exporter": "python",
   "pygments_lexer": "ipython3",
   "version": "3.8.5"
  }
 },
 "nbformat": 4,
 "nbformat_minor": 5
}
